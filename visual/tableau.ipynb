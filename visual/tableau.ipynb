{
 "cells": [
  {
   "cell_type": "markdown",
   "metadata": {},
   "source": [
    "# tableau note\n",
    "**清晰、准确、美观**  \n",
    "**视觉编码 + 数据类型 +数据之间关系 = 图表**"
   ]
  },
  {
   "cell_type": "markdown",
   "metadata": {},
   "source": [
    "## 1、基本性质："
   ]
  },
  {
   "cell_type": "markdown",
   "metadata": {},
   "source": [
    "### 视觉编码"
   ]
  },
  {
   "cell_type": "markdown",
   "metadata": {},
   "source": [
    "position、length、angle|slope、area、volume、color|density"
   ]
  },
  {
   "cell_type": "markdown",
   "metadata": {},
   "source": [
    "### 柱状图\n",
    "查看数据是如何在各个类别之间分布的"
   ]
  },
  {
   "cell_type": "markdown",
   "metadata": {},
   "source": [
    "### 直方图\n",
    "连续变量、分布情况。直方图与柱状图类似，但它的变量划分至不同的范围然后在不同的范围中统计计数。在直方图中，连续的柱子暗示数值上的连续。直方图在大多数可视化工具中都可以非常方便地作出。  \n",
    "直方图适合显示异常值及数据是如何分布"
   ]
  },
  {
   "cell_type": "markdown",
   "metadata": {},
   "source": [
    "### 散点图\n",
    "查看变量之间的关系、确定相互关联的变量，或其他有趣的关系、"
   ]
  },
  {
   "cell_type": "markdown",
   "metadata": {},
   "source": [
    "### 数据可视化工具\n",
    "按适用范围从大到小，生产力从小到大排序：  \n",
    "webGL|canvas|SVG、D3.js|python|R、seaborn|D3、Excel|tableau|chartio"
   ]
  },
  {
   "cell_type": "markdown",
   "metadata": {},
   "source": [
    "## 2、开始画图"
   ]
  },
  {
   "cell_type": "markdown",
   "metadata": {},
   "source": [
    "### 图表选择\n",
    "**视觉编码 + 数据类型 +数据之间关系 = 图表**"
   ]
  },
  {
   "cell_type": "markdown",
   "metadata": {},
   "source": [
    "![chose chart](choosing_a_good_chart.jpg)"
   ]
  },
  {
   "cell_type": "markdown",
   "metadata": {},
   "source": [
    "### 分析\n",
    "数据连续？非连续？一维，二维，三维？需要表示数据分布？需要表示数据间关系？"
   ]
  },
  {
   "cell_type": "markdown",
   "metadata": {},
   "source": [
    "1. 数据是什么类型\n",
    "2. 数据有几个维度\n",
    "3. 数据之间什么关系"
   ]
  },
  {
   "cell_type": "markdown",
   "metadata": {},
   "source": [
    "- 常见图形  \n",
    "scatter散点图：两变量之间的关系，x之间的数据相互独立  \n",
    "折线图：x之间不独立，比如时间序列数据，数据有序，展示数据趋势，暗示每个数据间都有联系  \n",
    "柱形图：离散型数据，没有顺序；表示分类；数据对比  \n",
    "直方图：连续型数据分布；少量数据条形图；数据多就频率直方图，线性   \n",
    "箱型图：分布之间的对比  \n",
    "表格：表示实际数据，可以添加红色亏损，绿色增益之类  \n",
    "地理空间图：表示和地理位置相关的，包括分级统计图，示意地图  \n",
    "小提琴图：箱型图的升级版，显示数据分布，平滑会丢失细节，不适合少量数据"
   ]
  },
  {
   "cell_type": "markdown",
   "metadata": {},
   "source": [
    "- 其他图形  \n",
    "子弹图：直方图堆叠  \n",
    "迷你图：常显示股价，很小范围变化  \n",
    "相连散点图：相连，表示第三维数据(可用泡泡表示第三维)，如时间  \n",
    "核密度估计图：与直方图不同的是，不用考虑组距等  \n",
    "循环图：多个星期数据固定在一周的时间来循环显示，表示周内每一天时间销量如何  "
   ]
  },
  {
   "cell_type": "markdown",
   "metadata": {},
   "source": [
    "### 颜色选择\n",
    "**避免使用红绿调色板，改为使用蓝橙调色板**"
   ]
  },
  {
   "cell_type": "markdown",
   "metadata": {},
   "source": [
    "- 调色板参考网站：  \n",
    "[I want hue](http://tools.medialab.sciences-po.fr/iwanthue/)  \n",
    "[Paletton](http://paletton.com/)  \n",
    "[Adobe color wheel](https://color.adobe.com/zh/)\n",
    "           "
   ]
  },
  {
   "cell_type": "markdown",
   "metadata": {},
   "source": [
    "### 调色板\n",
    "选择亮度呈线性变化，并存在极端值，同时在颜色之间平滑过渡的调色板"
   ]
  },
  {
   "cell_type": "markdown",
   "metadata": {},
   "source": [
    "- 连续性调色板  \n",
    "一种颜色，浅色到深色之间的过渡很平滑，适合连续性数据"
   ]
  },
  {
   "cell_type": "markdown",
   "metadata": {},
   "source": [
    "- 发散性调色板  \n",
    "多种颜色，颜色过度平滑，适合数据存在断点"
   ]
  },
  {
   "cell_type": "markdown",
   "metadata": {},
   "source": [
    "### 注意事项"
   ]
  },
  {
   "cell_type": "markdown",
   "metadata": {},
   "source": [
    "- 冗余图表、文字、刻度线  \n",
    "- 数据准确  \n"
   ]
  },
  {
   "cell_type": "markdown",
   "metadata": {},
   "source": [
    "## 3、Tableau使用\n",
    "1. 直接探索数据\n",
    "2. 问问题，解决问题"
   ]
  },
  {
   "cell_type": "markdown",
   "metadata": {},
   "source": [
    "### 合并连接数据"
   ]
  },
  {
   "cell_type": "markdown",
   "metadata": {},
   "source": [
    "### 汇总和粒度"
   ]
  },
  {
   "cell_type": "markdown",
   "metadata": {},
   "source": [
    "### 层级\n",
    "对于日期类，分层到月、周  \n",
    "合并层级"
   ]
  },
  {
   "cell_type": "markdown",
   "metadata": {},
   "source": [
    "### filter mark\n",
    "筛选，添加文字信息(增加一维数据)  \n",
    "- filter  \n",
    "筛选日期、特定产品之类  \n",
    "- mark  \n",
    "有颜色标记(可以从里面筛选产品)、大小标记(散点图里面的泡泡)、工具提示(添加一维信息，鼠标挪上去就提示)、标签、详细信息"
   ]
  },
  {
   "cell_type": "markdown",
   "metadata": {},
   "source": [
    "### 小组多图"
   ]
  },
  {
   "cell_type": "markdown",
   "metadata": {},
   "source": [
    "### 双坐标"
   ]
  },
  {
   "cell_type": "markdown",
   "metadata": {},
   "source": [
    "### 散点图和小多组图"
   ]
  },
  {
   "cell_type": "markdown",
   "metadata": {},
   "source": [
    "### 组和集合\n",
    "把同一类别的圈起来，标记，然后应用在其他图里面，可以明显看出分布，比如地图里面  \n",
    "- 组和集合的区别：  \n",
    "集合可以是动态的，当基础数据变化时，集合成员也会变化，但是组是静态的，成员始终不变  \n",
    "简单来说，集合是满足一些条件，在数据表上建立的，如同创建一些新表，动态变化的  \n",
    "组，选定的一些类别组合得到的"
   ]
  },
  {
   "cell_type": "markdown",
   "metadata": {},
   "source": [
    "- 画地图  \n",
    "将国家、地区、经度维度设置为对应的地理角色，然后放在mark标记里面，选择地图就行"
   ]
  },
  {
   "cell_type": "markdown",
   "metadata": {},
   "source": [
    "### 计算字段\n",
    "SUM([字段名])  \n",
    "IF SUM([Sales]) > 10000 THEN \"Good\" ELSE \"Bad\"  \n",
    "IIF(SUM([Sales]) > 10000, \"Good\", \"Bad\")"
   ]
  },
  {
   "cell_type": "markdown",
   "metadata": {},
   "source": [
    "- 字符串处理  \n",
    "- [官方文档](https://onlinehelp.tableau.com/current/pro/desktop/zh-cn/help.html#calculations_calculatedfields.html)"
   ]
  },
  {
   "cell_type": "markdown",
   "metadata": {},
   "source": [
    "### 快速表计算  \n",
    "直接点击sum度量字段，使用表计算，可以计算百分占比等"
   ]
  },
  {
   "cell_type": "markdown",
   "metadata": {},
   "source": [
    "### 注意事项"
   ]
  },
  {
   "cell_type": "markdown",
   "metadata": {},
   "source": [
    "1. 双轴，需要连续变量  \n",
    "2. 编辑轴，可以倒排序，区别于数值排序"
   ]
  },
  {
   "cell_type": "markdown",
   "metadata": {},
   "source": [
    "## 4、 数据探索"
   ]
  },
  {
   "cell_type": "markdown",
   "metadata": {},
   "source": [
    "- 通过制作条形图查看各种类别的记录数量\n",
    "- 制作直方图，看看数据是如何分布的\n",
    "- 制作散布图，看看变量之间的关系"
   ]
  },
  {
   "cell_type": "markdown",
   "metadata": {},
   "source": [
    "### dashbord\n",
    "组合sheet，放在一起探索"
   ]
  },
  {
   "cell_type": "markdown",
   "metadata": {},
   "source": [
    "### story\n",
    "按顺序组合在一起进行描述"
   ]
  },
  {
   "cell_type": "markdown",
   "metadata": {},
   "source": [
    "### 参考资源\n",
    "[tableau教学视频](https://www.tableau.com/learn/training?reg-delay=true)  \n",
    "[图形参考vizwiz](http://www.vizwiz.com/search/label/Makeover%20Monday)  \n",
    "[官方教程](https://onlinehelp.tableau.com/current/pro/desktop/en-us/help.htm)"
   ]
  },
  {
   "cell_type": "code",
   "execution_count": null,
   "metadata": {},
   "outputs": [],
   "source": []
  }
 ],
 "metadata": {
  "kernelspec": {
   "display_name": "Python 3",
   "language": "python",
   "name": "python3"
  },
  "language_info": {
   "codemirror_mode": {
    "name": "ipython",
    "version": 3
   },
   "file_extension": ".py",
   "mimetype": "text/x-python",
   "name": "python",
   "nbconvert_exporter": "python",
   "pygments_lexer": "ipython3",
   "version": "3.6.4"
  }
 },
 "nbformat": 4,
 "nbformat_minor": 2
}
