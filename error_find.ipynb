{
 "cells": [
  {
   "cell_type": "markdown",
   "metadata": {},
   "source": [
    "# Error Note \n",
    "记录一些error发生的常见原因，方便查找为什么，吃一堑，长一智"
   ]
  },
  {
   "cell_type": "markdown",
   "metadata": {},
   "source": [
    "- object is not callabe  \n",
    "1 .错把方法当属性使用，在后面加括号()"
   ]
  },
  {
   "cell_type": "markdown",
   "metadata": {},
   "source": [
    "- ValueError: Unknown label type: 'continuous'  \n",
    "使用分类器去预测回归数据，应该使用回归器"
   ]
  },
  {
   "cell_type": "markdown",
   "metadata": {},
   "source": [
    "- 字典转dataframe  \n",
    "ValueError: If using all scalar values, you must pass an index  \n",
    "因为值的个数只有一个，所以不构成列表，转换出错，指定index=0  \n",
    "```python\n",
    "df_score = pd.DataFrame(clf_score, index=[0])\n",
    "```\n",
    "clf_score,值只有一行"
   ]
  },
  {
   "cell_type": "markdown",
   "metadata": {},
   "source": [
    "- This repository moved. Please use the new location:  \n",
    "重新添加url：git remote set-url origin [url]"
   ]
  },
  {
   "cell_type": "markdown",
   "metadata": {},
   "source": []
  },
  {
   "cell_type": "markdown",
   "metadata": {},
   "source": []
  },
  {
   "cell_type": "markdown",
   "metadata": {},
   "source": []
  },
  {
   "cell_type": "markdown",
   "metadata": {},
   "source": []
  },
  {
   "cell_type": "markdown",
   "metadata": {},
   "source": []
  },
  {
   "cell_type": "markdown",
   "metadata": {},
   "source": []
  },
  {
   "cell_type": "markdown",
   "metadata": {},
   "source": []
  },
  {
   "cell_type": "markdown",
   "metadata": {},
   "source": []
  }
 ],
 "metadata": {
  "kernelspec": {
   "display_name": "Python 3",
   "language": "python",
   "name": "python3"
  },
  "language_info": {
   "codemirror_mode": {
    "name": "ipython",
    "version": 3
   },
   "file_extension": ".py",
   "mimetype": "text/x-python",
   "name": "python",
   "nbconvert_exporter": "python",
   "pygments_lexer": "ipython3",
   "version": "3.6.4"
  }
 },
 "nbformat": 4,
 "nbformat_minor": 2
}
