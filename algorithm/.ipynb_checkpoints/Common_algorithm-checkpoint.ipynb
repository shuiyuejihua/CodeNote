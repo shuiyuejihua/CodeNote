{
 "cells": [
  {
   "cell_type": "markdown",
   "metadata": {},
   "source": [
    "# 常用算法小结"
   ]
  },
  {
   "cell_type": "markdown",
   "metadata": {},
   "source": [
    "## 简介\n",
    "常用算法，比如：\n",
    "- 分治算法  \n",
    "将大问题规模变小，分解成相同的子问题，一般递归解决\n",
    "- 动态规划\n",
    "多步判断求解，子问题重叠，如果没有重复子问题，和蛮力算法差不多\n",
    "- 贪心算法\n",
    "- 回溯算法\n",
    "搜索、优化问题，多步判断求解，满足多米诺性质\n",
    "- 分支界定  \n",
    "和回溯算法类似，利用约束条件，最优化的界，剪枝"
   ]
  },
  {
   "cell_type": "markdown",
   "metadata": {},
   "source": [
    "### 观察问题\n",
    "- 感觉能否分解成小问题\n",
    "- 是否能分解成规模小的，但是问题相同；如果是，就具有最优子结构\n",
    "- 子问题合并之后，能否得到原来的问题。可以得到，就采用分治算法，不能考虑动态规划、贪心算法\n",
    "- 子问题分解出来是否相互独立，问题间的答案有没有可以相互利用的；有，就不独立。不独立可以采用动态规划，比分治算法节约时间"
   ]
  },
  {
   "cell_type": "markdown",
   "metadata": {},
   "source": [
    "## 分治法"
   ]
  },
  {
   "cell_type": "markdown",
   "metadata": {},
   "source": [
    "分解到最小规模，解决后return，然后合并子问题"
   ]
  },
  {
   "cell_type": "markdown",
   "metadata": {},
   "source": [
    "### 算法复杂度：\n",
    "1. 常见的分治算法主定理：$T(n) = kT(n/m) + f(n)$，k个规模为n/m的子问题，加上合并函数规模f(n)  \n",
    "2. 其他的，比如：  \n",
    "汉诺塔问题，$T(n) = 2T(n-1)+1$，时间复杂度$T(n) = O(2^{n})$  \n",
    "形如：$T(n) = 4T(n-1)+1$，时间复杂度$T(n) = O(4^{n})$  \n",
    "$T(n) = T(n-1)+O(n)$，时间复杂度$T(n) = O(n^{2})$"
   ]
  },
  {
   "cell_type": "markdown",
   "metadata": {},
   "source": [
    "$T(n) = kT(n/m) + f(n)$,  其中：  \n",
    "- $T(n) = kT(n/m)+ O(1)$:  \n",
    "$k=1$, $T(n) = O(logn)$, 比如：二分搜索$T(n)=T(n/2)+1$    \n",
    "$k\\neq1$, $T(n) = O(n^{\\log_{m}{k}})$    \n",
    "- $T(n) = kT(n/m)+cn$:  \n",
    "$k<m$, $T(n) = O(n)$， 比如：$T(n) = T(n/2) + O(n)$  \n",
    "$k=m$, $T(n) = O(nlogn)$， 比如：归并排序$T(n)=2(n/2)+n-1$  \n",
    "$k>m$, $T(n) = O(n^{\\log_{m}{k}})$"
   ]
  },
  {
   "cell_type": "markdown",
   "metadata": {},
   "source": [
    "### 二分搜索\n",
    "在递增数列 $L[1,2,3,4,5,6,7,8,9,10]$中,查找$key=6$，$T(n) = O(logn)$"
   ]
  },
  {
   "cell_type": "markdown",
   "metadata": {},
   "source": [
    "**tips：**  \n",
    "1. left<right,和left<=right的区别，主要在于$left<right$,表示最少有2个元素，终止条件为$left=right$，只剩下一个元素。后者表示最少有1个元素，终止条件为$left>right$,已经没有元素了。  \n",
    "2. right = len(L)-1，和right = len(L)的区别，前者可以表示范围$[0, right]$，包含边界；后者表示$[0, right）$，不包含边界。具体的差异会在求mid上面体现。$mid = (left + right)//2$，求得的mid会靠右边1位，也就是right=mid时候，不能写成right=mid+1，这样会出界"
   ]
  },
  {
   "cell_type": "code",
   "execution_count": 11,
   "metadata": {},
   "outputs": [],
   "source": [
    "def b_search(L, key):\n",
    "    left, right = 0, len(L)-1\n",
    "    while left <= right:\n",
    "        mid = (left+right)//2  # left + (right-left)//2\n",
    "        if L[mid] == key:\n",
    "            return mid\n",
    "        elif L[mid] < key:\n",
    "            left = mid + 1\n",
    "        else:\n",
    "            right = mid -1\n",
    "    else:\n",
    "        return -1"
   ]
  },
  {
   "cell_type": "code",
   "execution_count": 12,
   "metadata": {},
   "outputs": [
    {
     "data": {
      "text/plain": [
       "[0, 1, 2, 3, 4, 5, 6, 7, 8]"
      ]
     },
     "execution_count": 12,
     "metadata": {},
     "output_type": "execute_result"
    }
   ],
   "source": [
    "L = [1,2,3,4,5,6,7,8,9]\n",
    "key = [1,2,3,4,5,6,7,8,9]\n",
    "[b_search(L,i) for i in key]"
   ]
  },
  {
   "cell_type": "code",
   "execution_count": 43,
   "metadata": {},
   "outputs": [
    {
     "data": {
      "text/plain": [
       "-1"
      ]
     },
     "execution_count": 43,
     "metadata": {},
     "output_type": "execute_result"
    }
   ],
   "source": [
    "b_search(L, 10)"
   ]
  },
  {
   "cell_type": "markdown",
   "metadata": {},
   "source": [
    "**注意事项**：  \n",
    "1. 可以有2种参数  \n",
    "① right = len(L) -1,  while条件是 left <= right， left = mid +1, right = mid - 1 ；并且，如果right = len(L), 当搜索key值>max(L)，会越界报错   \n",
    "② right = len(L) ,  while条件是 left < right， left = mid +1, right = mid  \n",
    "2. mid值多种写法，注意越界  \n",
    "mid = (left + right)//2，或者 mid = left + (right-left)//2, 防止left+right超出int边界"
   ]
  },
  {
   "cell_type": "markdown",
   "metadata": {},
   "source": [
    "### 归并排序\n",
    "对数列$L[3,4,7,9,8,5,2,1]$归并排序,$T(n) = O(nlogn)$"
   ]
  },
  {
   "cell_type": "code",
   "execution_count": 72,
   "metadata": {},
   "outputs": [],
   "source": [
    "def mearge_sort(L):\n",
    "    if len(L) < 2:\n",
    "        return L\n",
    "    mid = len(L)//2\n",
    "    left = mearge_sort(L[:mid])\n",
    "    right = mearge_sort(L[mid:])\n",
    "    return mearge(left,right)\n",
    "\n",
    "def mearge(left,right):\n",
    "    a = b = 0\n",
    "    l,r = len(left), len(right)\n",
    "    tmp = []\n",
    "    while a < l and b < r:\n",
    "        if left[a] > right[b]:\n",
    "            tmp.append(right[b])\n",
    "            b += 1\n",
    "        else:\n",
    "            tmp.append(left[a])\n",
    "            a += 1\n",
    "    while a < l:\n",
    "        tmp.append(left[a])\n",
    "        a += 1 \n",
    "    while b < r:\n",
    "        tmp.append(right[b])\n",
    "        b += 1\n",
    "    return tmp"
   ]
  },
  {
   "cell_type": "code",
   "execution_count": 73,
   "metadata": {},
   "outputs": [
    {
     "data": {
      "text/plain": [
       "[0, 1, 2, 2, 3, 4, 4, 5, 6, 6, 7, 8, 9, 10]"
      ]
     },
     "execution_count": 73,
     "metadata": {},
     "output_type": "execute_result"
    }
   ],
   "source": [
    "L = [9,8,7,6,6,5,4,4,3,2,2,1,0,10]\n",
    "mearge_sort(L)"
   ]
  },
  {
   "cell_type": "markdown",
   "metadata": {},
   "source": [
    "**分析**：  \n",
    "1. 递归终止条件：子问题得到解决  \n",
    "当len(L)<2时候，只剩下一个数，对他排序直接返回就行\n",
    "2. 子问题解决后，不断的使用同一个mearge函数不断合并，得到最终结果"
   ]
  },
  {
   "cell_type": "markdown",
   "metadata": {},
   "source": [
    "### 快速排序\n",
    "对数列L使用快速排序，平均$T(n) = O(nlogn)$"
   ]
  },
  {
   "cell_type": "code",
   "execution_count": 9,
   "metadata": {},
   "outputs": [],
   "source": [
    "def quick_sort(L):\n",
    "    if len(L)<2:\n",
    "        return L\n",
    "    mid = L[0]\n",
    "    left ,right =[],[]\n",
    "    for i in range(1,len(L)):\n",
    "        if L[i] < L[0]:\n",
    "            left.append(L[i])\n",
    "        else:\n",
    "            right.append(L[i])\n",
    "    return quick_sort(left) + [mid] + quick_sort(right)   "
   ]
  },
  {
   "cell_type": "code",
   "execution_count": 10,
   "metadata": {},
   "outputs": [
    {
     "data": {
      "text/plain": [
       "[8, 9]"
      ]
     },
     "execution_count": 10,
     "metadata": {},
     "output_type": "execute_result"
    }
   ],
   "source": [
    "L = [9,9,8,7,6,6,5,9,4,3,2,9,1,0,10]\n",
    "quick_sort(L)"
   ]
  },
  {
   "cell_type": "markdown",
   "metadata": {},
   "source": [
    "**改进quick_sort,原地排序，不加额外空间**"
   ]
  },
  {
   "cell_type": "code",
   "execution_count": 28,
   "metadata": {},
   "outputs": [],
   "source": [
    "def q_sort(L, left, right):\n",
    "    if left<right:\n",
    "        #mid = partition1(L, left, right)\n",
    "        mid = partition2(L, left, right)\n",
    "        #mid = partition3(L, left, right)\n",
    "        #mid = part3(L, left, right)\n",
    "        #mid = part4(L, left, right)\n",
    "        q_sort(L, left, mid-1)\n",
    "        q_sort(L, mid+1, right)\n",
    "    \n",
    "def partition1(L, left, right):\n",
    "    mid = left\n",
    "    #print(left, right)\n",
    "    left = mid + 1\n",
    "    while True:\n",
    "        # 判断条件left<=right，包含=，否则漏判中间数\n",
    "        #print(left,right)\n",
    "        while left<=right and L[right]>=L[mid]:  # 不设置=，会死循环\n",
    "            right -= 1\n",
    "        while left<=right and L[left]<=L[mid]:\n",
    "            left += 1\n",
    "        if left>right:\n",
    "            break\n",
    "        else:\n",
    "            L[left], L[right] = L[right], L[left]\n",
    "    L[mid], L[right] = L[right], L[mid]\n",
    "    return right\n",
    "\n",
    "def partition2(L, left, right):\n",
    "    pivot = L[left]\n",
    "    while left < right:\n",
    "        # 其中L[right]>=pivot，中的=，在L[right]、L[left]与pivot比较时随便设置一个=都行，若2者都不考虑=，会死循环\n",
    "        while left<right and L[right]>=pivot:  # =号，任取一个\n",
    "            right -= 1\n",
    "        L[left] = L[right]\n",
    "        while left<right and L[left]<=pivot:\n",
    "            left += 1\n",
    "        L[right] = L[left]\n",
    "    #L[right] = pivot\n",
    "    L[left] = pivot\n",
    "    return left\n",
    "\n",
    "def partition3(L, left, right):\n",
    "    pivot = L[right]\n",
    "    index = left\n",
    "    for i in range(left,right):\n",
    "        if L[i] < pivot:\n",
    "            L[index],L[i] = L[i],L[index]\n",
    "            index += 1\n",
    "    L[index],L[right] = L[right], L[index]\n",
    "    return index\n",
    "#简化partition3\n",
    "def part3(L, left ,right):\n",
    "    for i in range(left, right):  # 一般不这么写，当left处于循环range里面，一般用while不用for，应用新变量代替left++\n",
    "        if L[i] < L[right]:       # 不过这里虽然left值改变，range(left,right)不再变，若left换成len(L),那么range范围会一直变动\n",
    "            L[i],L[left] = L[left], L[i]\n",
    "            left += 1\n",
    "    L[left], L[right] = L[right], L[left]\n",
    "    return left\n",
    "def part4(L, l, r):\n",
    "    p = L[r]\n",
    "    idx = l\n",
    "    for i in range(l, r):\n",
    "        if L[i]<p:\n",
    "            L[i], L[idx] = L[idx], L[i]\n",
    "            idx += 1\n",
    "    L[idx], L[r] = L[r], L[idx]\n",
    "    return idx"
   ]
  },
  {
   "cell_type": "code",
   "execution_count": 29,
   "metadata": {},
   "outputs": [],
   "source": [
    "L = [6,6,5,4,4,3,2,2,1,0,10,9,8,7,6]\n",
    "\n",
    "q_sort(L, 0, len(L)-1)"
   ]
  },
  {
   "cell_type": "code",
   "execution_count": 30,
   "metadata": {},
   "outputs": [
    {
     "data": {
      "text/plain": [
       "[0, 1, 2, 2, 3, 4, 4, 5, 6, 6, 6, 7, 8, 9, 10]"
      ]
     },
     "execution_count": 30,
     "metadata": {},
     "output_type": "execute_result"
    }
   ],
   "source": [
    "#原地排序，原有L已经改变\n",
    "L"
   ]
  },
  {
   "cell_type": "markdown",
   "metadata": {},
   "source": [
    "## 动态规划\n",
    "可以分解规模，但是子问题的结果依赖于上一个子问题"
   ]
  },
  {
   "cell_type": "markdown",
   "metadata": {},
   "source": [
    "划分阶段、确定状态、寻找边界条件，一般就分析最优子结构，根据得到的结果构造最优解\n"
   ]
  },
  {
   "cell_type": "markdown",
   "metadata": {},
   "source": [
    "**核心：找递推关系式，表进行记录**"
   ]
  },
  {
   "cell_type": "markdown",
   "metadata": {},
   "source": [
    "### 最长公共子序列\n",
    "2个字符串，$x = x1,x2,...xM; y = y1,y2,y3,...yN$，找出最长的公共的子序列"
   ]
  },
  {
   "cell_type": "code",
   "execution_count": 216,
   "metadata": {},
   "outputs": [],
   "source": [
    "x = 'aedwefdgkjzmbbqsdg'\n",
    "y = 'caewfdsgsdgsf'"
   ]
  },
  {
   "cell_type": "markdown",
   "metadata": {},
   "source": [
    "**分析**：  \n",
    "2个字符串，m、n长，先都看最后一个字符，如果$xM = xN$，那么最长公共子序列L(i)=L(i-1)+1,也就是最后一个公共字符是$xM$ or $xN$；但如果最后的2个字符不相等，那么L(i) = max(Xm+Yn-1, Xm-1+Yn) 中找最长 。用表$c[i][j]$进行记录  \n",
    "1. 如果$x[i]=y[i]$,  $c[i][j]=c[i-1][j-1]+1$  \n",
    "2. 如果$x[i]\\neq y[i]$,$max(c[i][j-1],c[i-1][j])$   \n",
    "3. 边界，i or j =0，$c[i][j] = 0$"
   ]
  },
  {
   "cell_type": "markdown",
   "metadata": {},
   "source": [
    "- 递归描述"
   ]
  },
  {
   "cell_type": "code",
   "execution_count": 217,
   "metadata": {},
   "outputs": [],
   "source": [
    "def rec_LCS(x, y, i, j):\n",
    "    if i==0 or j==0:\n",
    "        return 0\n",
    "    if x[i] == y[j]:\n",
    "        return rec_LCS(x, y, i-1, j-1) + 1\n",
    "    else:\n",
    "        return max(rec_LCS(x, y, i, j-1), rec_LCS(x, y, i-1, j))\n",
    "    "
   ]
  },
  {
   "cell_type": "code",
   "execution_count": 218,
   "metadata": {},
   "outputs": [
    {
     "data": {
      "text/plain": [
       "8"
      ]
     },
     "execution_count": 218,
     "metadata": {},
     "output_type": "execute_result"
    }
   ],
   "source": [
    "i, j = len(x)-1, len(y)-1\n",
    "rec_LCS(x, y, i, j)"
   ]
  },
  {
   "cell_type": "code",
   "execution_count": 219,
   "metadata": {},
   "outputs": [
    {
     "data": {
      "text/plain": [
       "'ewfdgsdg'"
      ]
     },
     "execution_count": 219,
     "metadata": {},
     "output_type": "execute_result"
    }
   ],
   "source": [
    "def rec_lcs(x, y, i, j):\n",
    "    if i==0 or j==0:\n",
    "        return ''\n",
    "    if x[i] == y[j]:\n",
    "        return rec_lcs(x, y, i-1, j-1) + x[i]\n",
    "    else:\n",
    "        return max(rec_lcs(x, y, i, j-1), rec_lcs(x, y, i-1, j))\n",
    "    \n",
    "rec_lcs(x, y, i, j)"
   ]
  },
  {
   "cell_type": "markdown",
   "metadata": {},
   "source": [
    "- 迭代，动态规划"
   ]
  },
  {
   "cell_type": "code",
   "execution_count": 229,
   "metadata": {},
   "outputs": [],
   "source": [
    "def dp_LCS(x, y):\n",
    "    L = [[0]*len(y) for k in range(len(x))]  # i行 j列\n",
    "    for i in range(1, len(x)):\n",
    "        for j in range(1, len(y)):\n",
    "            if x[i] == y[j]:\n",
    "                L[i][j] = L[i-1][j-1] + 1\n",
    "            else:\n",
    "                L[i][j] = max(L[i][j-1], L[i-1][j])\n",
    "    return L[len(x)-1][len(y)-1]"
   ]
  },
  {
   "cell_type": "code",
   "execution_count": 230,
   "metadata": {},
   "outputs": [],
   "source": [
    "def dp_lcs(x, y):\n",
    "    L = [['']*len(y) for k in range(len(x))]  # i行 j列\n",
    "    for i in range(1, len(x)):\n",
    "        for j in range(1, len(y)):\n",
    "            if x[i] == y[j]:\n",
    "                L[i][j] = L[i-1][j-1] + x[i]\n",
    "            else:\n",
    "                L[i][j] = max(L[i][j-1], L[i-1][j])\n",
    "    return L[len(x)-1][len(y)-1]"
   ]
  },
  {
   "cell_type": "code",
   "execution_count": 231,
   "metadata": {},
   "outputs": [
    {
     "data": {
      "text/plain": [
       "'ewfdgsdg'"
      ]
     },
     "execution_count": 231,
     "metadata": {},
     "output_type": "execute_result"
    }
   ],
   "source": [
    "dp_LCS(x, y)\n",
    "dp_lcs(x, y)"
   ]
  },
  {
   "cell_type": "markdown",
   "metadata": {},
   "source": [
    "## 贪心算法\n",
    "**算法描述**：  \n",
    "1. 某个状态以后的过程不会影响以前的状态，只与当前状态有关  \n",
    "2. 前提是：**局部最优策略能导致产生全局最优解**  \n",
    "3. 一旦一个问题可以通过贪心法来解决，那么贪心法一般是解决这个问题的最好办法\n",
    "4. 适用于组合优化问题，多步判断，贪心选择需要证明其正确性"
   ]
  },
  {
   "cell_type": "markdown",
   "metadata": {},
   "source": [
    "- 贪心法的证明 "
   ]
  },
  {
   "cell_type": "markdown",
   "metadata": {},
   "source": [
    " **活动安排**：  \n",
    "最优策略：最大相容活动子集合  \n",
    "设E={1,2,...n}是活动结束时间递增排序后的集合，活动1具有最早的完成时间。  \n",
    "1. 首先证明，活动中有1个最优解是且包含贪心选择活动1。\n",
    "假设这样的1个最优解A,且A中的活动也是按照结束时间递增排列，A的第一个活动是k。  \n",
    "如果k>1，因为活动1的结束时间比k还小，那么A活动加上活动1也应该是最优解，所以其实k==1的  \n",
    "也就是最优解A以贪心选择活动1开始的"
   ]
  },
  {
   "cell_type": "markdown",
   "metadata": {},
   "source": [
    "## 回溯算法\n",
    "枚举搜索，寻找问题的解，适合复杂规模大的问题"
   ]
  },
  {
   "cell_type": "markdown",
   "metadata": {},
   "source": [
    "1. 确定解空间，解空间应至少包含问题的一个（最优）解\n",
    "2. 确定易于搜索的解空间结构\n",
    "3. 深度优先搜索，查找解"
   ]
  },
  {
   "cell_type": "markdown",
   "metadata": {},
   "source": [
    "**特点：**  \n",
    "解是向量，搜索空间：树，n叉树，子集树，排列树；搜索方法：深度优先，宽度优先，跳跃式遍历搜索树，找到解"
   ]
  },
  {
   "cell_type": "markdown",
   "metadata": {},
   "source": [
    "**适用条件** 多米诺性质"
   ]
  },
  {
   "cell_type": "markdown",
   "metadata": {},
   "source": [
    "### 正则匹配\n",
    "目标字符串：s，用来匹配的字符串p。  \n",
    "s中包含a-z，p中除了a-z之外，还包含'\\.'  、  '\\*'，其中  '.'  代表任意一个字符， '\\*'，代表前面的一个字符有0个或者多个"
   ]
  },
  {
   "cell_type": "code",
   "execution_count": null,
   "metadata": {},
   "outputs": [],
   "source": []
  },
  {
   "cell_type": "code",
   "execution_count": null,
   "metadata": {},
   "outputs": [],
   "source": [
    "def find_match(s, p, ls, lp):\n",
    "    if not s and not p:\n",
    "        return True\n",
    "    if not s:\n",
    "    \n",
    "\n",
    "def isMatch(s, p):\n",
    "    return find_match(s, p, len(s)-1, len(p)-1)"
   ]
  },
  {
   "cell_type": "markdown",
   "metadata": {},
   "source": [
    "## 分支限界\n",
    "和回溯算法类似，不过在剪枝时，停止搜索的条件不同，适合组合优化问题：  \n",
    "1. 不满足约束条件停止\n",
    "2. 对于极大化问题，代价函数小于界，也就是搜索下面的子树也达不比当前节点好  \n",
    "3. 常用广度优先搜索"
   ]
  },
  {
   "cell_type": "code",
   "execution_count": null,
   "metadata": {},
   "outputs": [],
   "source": []
  },
  {
   "cell_type": "code",
   "execution_count": null,
   "metadata": {},
   "outputs": [],
   "source": []
  }
 ],
 "metadata": {
  "kernelspec": {
   "display_name": "Python 3",
   "language": "python",
   "name": "python3"
  },
  "language_info": {
   "codemirror_mode": {
    "name": "ipython",
    "version": 3
   },
   "file_extension": ".py",
   "mimetype": "text/x-python",
   "name": "python",
   "nbconvert_exporter": "python",
   "pygments_lexer": "ipython3",
   "version": "3.6.4"
  }
 },
 "nbformat": 4,
 "nbformat_minor": 2
}
