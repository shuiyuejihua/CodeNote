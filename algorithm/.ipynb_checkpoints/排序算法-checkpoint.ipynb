{
 "cells": [
  {
   "cell_type": "markdown",
   "metadata": {},
   "source": [
    "# Python 排序算法"
   ]
  },
  {
   "cell_type": "markdown",
   "metadata": {},
   "source": [
    "## 冒泡排序\n",
    "有2种，一种是从后面向前冒泡；另一种从前往后冒泡"
   ]
  },
  {
   "cell_type": "markdown",
   "metadata": {},
   "source": [
    ">代码有多种，这里就写从前往后，把最大的往后冒泡。可能觉得会循环冒泡n-1次，其实也可以设置flag，当某次遍历中没有发生交换，表明排序已完成  \n",
    ">为什么是循环冒泡n-1次，而不是n次呢，当然n次也可以；比如3个数，第一次冒泡，最后一个数字定了，第二次冒泡，后面2个都排好了；第一位数就不用比较了"
   ]
  },
  {
   "cell_type": "code",
   "execution_count": 14,
   "metadata": {},
   "outputs": [],
   "source": [
    "def bubble_sort(L):\n",
    "    '''\n",
    "    L: 待排序列表\n",
    "    bubble_sort：主要就是相互比较，然后交换\n",
    "    根据大的数往后排，或者小的数往前排，就产生2种不同方向的冒泡\n",
    "    '''\n",
    "    flag, j = 1, 1  # flag=0，表明已经排好序了\n",
    "    while flag and j<len(L):\n",
    "        # 重置flag=0\n",
    "        flag = 0\n",
    "        # 每冒一次泡，循环次数减1，首先比较0-len(L)-1的数据\n",
    "        # 二次循环，就比较0-len(L)-2 的数据，因为最后一位已经排好了，它最大\n",
    "        # 同时保证i+1不会越界\n",
    "        for i in range(len(L)-j):\n",
    "            if L[i] > L[i+1]:\n",
    "                L[i], L[i+1] = L[i+1], L[i]  # 前面比后面大，交换数据\n",
    "                flag = 1\n",
    "        j += 1 \n",
    "        if not flag:\n",
    "            print(j)\n",
    "        \n",
    "    return L"
   ]
  },
  {
   "cell_type": "code",
   "execution_count": 15,
   "metadata": {},
   "outputs": [
    {
     "name": "stdout",
     "output_type": "stream",
     "text": [
      "7\n"
     ]
    },
    {
     "data": {
      "text/plain": [
       "[0, 1, 2, 3, 4, 5, 9]"
      ]
     },
     "execution_count": 15,
     "metadata": {},
     "output_type": "execute_result"
    }
   ],
   "source": [
    "bubble_sort([5,4,3,2,1,0,9])"
   ]
  },
  {
   "cell_type": "markdown",
   "metadata": {},
   "source": [
    "可能你就会思考，这个j = j+1，会不会导致循环出界呢？   \n",
    ">j=1时，for循环后，最后一个数字已经排好位置，也就是j=1，有1个数字肯定排好位置  \n",
    ">j=len(L)-1时，range取值[0], for循环之后，后面的Len(L)-1个数字排好位置了，就只剩开头的一位数字，不用排序了  \n",
    ">虽然已经排好序了，但是此时flag=1，会继续循环。j=len(L)，range取值空，flag=0。  \n",
    "\n",
    "结果：虽然在python里面，range(),括号里为0、负数，range取值皆为空，所以不会出现循环出界的问题，但是这样写有点不好啊"
   ]
  },
  {
   "cell_type": "markdown",
   "metadata": {},
   "source": [
    "要不改一个："
   ]
  },
  {
   "cell_type": "code",
   "execution_count": 25,
   "metadata": {},
   "outputs": [],
   "source": [
    "def bubble_sort(L):\n",
    "    flag, j = 1, 0\n",
    "    while flag:\n",
    "        flag = 0\n",
    "        for i in range(1,len(L)-j):\n",
    "            # 首先从index=1开始，到最后的len(L)-1，虽然j=0；\n",
    "            # 因为range是取不到最后len(L)的，要少1个。这样保证i不会越界\n",
    "            if L[i-1]>L[i]:\n",
    "                L[i-1], L[i] = L[i], L[i-1]\n",
    "                flag = 1\n",
    "        j += 1\n",
    "        if not flag:\n",
    "            print(len(L)-j)"
   ]
  },
  {
   "cell_type": "code",
   "execution_count": 26,
   "metadata": {},
   "outputs": [
    {
     "name": "stdout",
     "output_type": "stream",
     "text": [
      "0\n"
     ]
    }
   ],
   "source": [
    "bubble_sort([5,4,3,2,1])"
   ]
  },
  {
   "cell_type": "code",
   "execution_count": 42,
   "metadata": {},
   "outputs": [],
   "source": [
    "def bubble_sort(L):\n",
    "    flag = i = 1\n",
    "    while flag and i < len(L):\n",
    "        flag = 0\n",
    "        for j in range(len(L)-i):\n",
    "            if L[j] > L[j+1]:\n",
    "                L[j], L[j+1] = L[j+1], L[j]\n",
    "                flag = 1\n",
    "        i += 1\n",
    "    return L,i"
   ]
  },
  {
   "cell_type": "code",
   "execution_count": 6,
   "metadata": {},
   "outputs": [],
   "source": [
    "def bubble_sort(L):\n",
    "    for i in range(0,len(L)-1):\n",
    "        # i取值0到n-2，即0到len(L)-2\n",
    "        # 控制循环次数，从0开始，还是循环n-1次\n",
    "        flag = 0\n",
    "        for j in range(len(L)-1,i,-1):\n",
    "            # 第一次循环，i=0，j从n-1到1\n",
    "            # 最后一次循环，i=len(L)-2，j此时取len(L)-1,\n",
    "            # 即n-1，也就是最后一位，循环后排序完成\n",
    "            if L[j] < L[j-1]:\n",
    "                L[j], L[j-1] = L[j-1], L[j]\n",
    "                flag = 1\n",
    "        if not flag:\n",
    "            break\n",
    "    return L"
   ]
  },
  {
   "cell_type": "code",
   "execution_count": 7,
   "metadata": {},
   "outputs": [
    {
     "data": {
      "text/plain": [
       "[0, 1, 2, 3, 4, 5, 9]"
      ]
     },
     "execution_count": 7,
     "metadata": {},
     "output_type": "execute_result"
    }
   ],
   "source": [
    "bubble_sort([5,4,3,2,0,1,9])"
   ]
  },
  {
   "cell_type": "code",
   "execution_count": 5,
   "metadata": {},
   "outputs": [
    {
     "data": {
      "text/plain": [
       "[5, 4, 3, 2]"
      ]
     },
     "execution_count": 5,
     "metadata": {},
     "output_type": "execute_result"
    }
   ],
   "source": [
    "list(range(5,1,-1))"
   ]
  },
  {
   "cell_type": "markdown",
   "metadata": {},
   "source": [
    "就结果而言：最终range(1,0)，虽然为空，不会报错，且此时排序已经完成，不影响，还是不合适啊\n",
    "> 其实这个j，是为了不断的缩小，控制循环次数的。"
   ]
  },
  {
   "cell_type": "markdown",
   "metadata": {},
   "source": [
    "常见版本冒泡："
   ]
  },
  {
   "cell_type": "code",
   "execution_count": 23,
   "metadata": {},
   "outputs": [],
   "source": [
    "def bubble_sort(L):\n",
    "    for i in range(1,len(L)):\n",
    "        # 比较n-1次\n",
    "        flag = 0\n",
    "        for j in range(len(L)-i):\n",
    "            if L[j]>L[j+1]:\n",
    "                L[j], L[j+1] = L[j+1], L[j]\n",
    "                flag = 1\n",
    "        if not flag:\n",
    "            break\n",
    "    return L"
   ]
  },
  {
   "cell_type": "code",
   "execution_count": 27,
   "metadata": {},
   "outputs": [],
   "source": [
    "def bubble_sort(L):\n",
    "    for i in range(len(L)-1):\n",
    "        flag=0\n",
    "        for j in range(len(L)-1):\n",
    "            if L[j]>L[j+1]:\n",
    "                L[j], L[j+1] = L[j+1], L[j]\n",
    "                flag = 1\n",
    "        if not flag:\n",
    "            break\n",
    "    return L"
   ]
  },
  {
   "cell_type": "code",
   "execution_count": 28,
   "metadata": {},
   "outputs": [
    {
     "data": {
      "text/plain": [
       "[1, 2, 3, 4, 5]"
      ]
     },
     "execution_count": 28,
     "metadata": {},
     "output_type": "execute_result"
    }
   ],
   "source": [
    "bubble_sort([5,4,3,2,1])"
   ]
  },
  {
   "cell_type": "markdown",
   "metadata": {},
   "source": [
    "- 鸡尾酒排序"
   ]
  },
  {
   "cell_type": "code",
   "execution_count": 14,
   "metadata": {},
   "outputs": [],
   "source": [
    "def double_bubble_srot(L):\n",
    "    for i in range(len(L)//2):\n",
    "        # i 控制循环次数，n/2次，n为偶数，奇数都可\n",
    "        # i 从0到n/2-1\n",
    "        flag = 0\n",
    "        for j in range(len(L)-i-1):\n",
    "            # 第一次循环，i=0，j从0到n-2\n",
    "            # 最后一循环，i=n/2，j从0到n/2-2,取值0，1\n",
    "            if L[j] > L[j+1]:\n",
    "                L[j], L[j+1] = L[j+1], L[j]\n",
    "                #flag = 1\n",
    "        for j in range(len(L)-1, i, -1):\n",
    "            # 第一次循环，i=0，j从n-1到1\n",
    "            # 最后一次循环，i=n/2，j从n-1到1+n/2\n",
    "            if L[j]< L[j-1]:\n",
    "                L[j], L[j-1] = L[j-1], L[j]\n",
    "                flag = 1\n",
    "        if not flag:\n",
    "            break\n",
    "    return L"
   ]
  },
  {
   "cell_type": "code",
   "execution_count": 16,
   "metadata": {},
   "outputs": [
    {
     "data": {
      "text/plain": [
       "[2, 3, 4, 4, 5, 6, 7, 9]"
      ]
     },
     "execution_count": 16,
     "metadata": {},
     "output_type": "execute_result"
    }
   ],
   "source": [
    "double_bubble_srot([4,5,4,6,9,7,3,2])"
   ]
  },
  {
   "cell_type": "markdown",
   "metadata": {},
   "source": [
    "## 插入排序\n",
    "往后挪动一位"
   ]
  },
  {
   "cell_type": "code",
   "execution_count": 48,
   "metadata": {},
   "outputs": [],
   "source": [
    "def insert_sort(L):\n",
    "    for i in range(1,len(L)):\n",
    "        j = i\n",
    "        k = L[i]\n",
    "        while k<L[j-1] and j>0:\n",
    "            L[j] = L[j-1]\n",
    "            j -= 1\n",
    "            print(L)\n",
    "        L[j] = k\n",
    "    return L\n",
    "        "
   ]
  },
  {
   "cell_type": "code",
   "execution_count": 49,
   "metadata": {},
   "outputs": [
    {
     "name": "stdout",
     "output_type": "stream",
     "text": [
      "[0, 4, 4, 2, 1]\n",
      "[0, 3, 4, 4, 1]\n",
      "[0, 3, 3, 4, 1]\n",
      "[0, 2, 3, 4, 4]\n",
      "[0, 2, 3, 3, 4]\n",
      "[0, 2, 2, 3, 4]\n"
     ]
    },
    {
     "data": {
      "text/plain": [
       "[0, 1, 2, 3, 4]"
      ]
     },
     "execution_count": 49,
     "metadata": {},
     "output_type": "execute_result"
    }
   ],
   "source": [
    "insert_sort([0,4,3,2,1])"
   ]
  },
  {
   "cell_type": "code",
   "execution_count": 19,
   "metadata": {},
   "outputs": [],
   "source": [
    "def insert_sort(L):\n",
    "    for i in range(1,len(L)):\n",
    "        j = i\n",
    "        while L[j]<L[j-1] and j>0:\n",
    "            L[j], L[j-1] = L[j-1], L[j]\n",
    "            j -= 1\n",
    "    return L"
   ]
  },
  {
   "cell_type": "code",
   "execution_count": 51,
   "metadata": {},
   "outputs": [
    {
     "data": {
      "text/plain": [
       "[0, 1, 2, 3, 4]"
      ]
     },
     "execution_count": 51,
     "metadata": {},
     "output_type": "execute_result"
    }
   ],
   "source": [
    "insert_sort([0,4,3,2,1])"
   ]
  },
  {
   "cell_type": "code",
   "execution_count": 10,
   "metadata": {},
   "outputs": [],
   "source": [
    "def insert_sort(L):\n",
    "    for i in range(1, len(L)):\n",
    "        j = i-1\n",
    "        k = L[i]\n",
    "        while j>=0 and k<L[j]:\n",
    "            L[j+1] = L[j]\n",
    "            j -= 1\n",
    "        L[j+1] = k\n",
    "    return L"
   ]
  },
  {
   "cell_type": "code",
   "execution_count": 20,
   "metadata": {},
   "outputs": [
    {
     "data": {
      "text/plain": [
       "[0, 1, 2, 2, 3, 4, 5, 7, 9]"
      ]
     },
     "execution_count": 20,
     "metadata": {},
     "output_type": "execute_result"
    }
   ],
   "source": [
    "insert_sort([2,0,4,3,2,1,5,9,7])"
   ]
  },
  {
   "cell_type": "markdown",
   "metadata": {},
   "source": [
    "### 希尔排序"
   ]
  },
  {
   "cell_type": "code",
   "execution_count": 17,
   "metadata": {},
   "outputs": [],
   "source": [
    "def insert_sort(L, g):\n",
    "    for i in range(g, len(L)):\n",
    "        k = L[i]\n",
    "        j = i-g\n",
    "        while j>=0 and L[j]>k:\n",
    "            L[j+g] = L[j]\n",
    "            j -= g\n",
    "        L[j+g] = k\n",
    "\n",
    "def shell_sort(L):\n",
    "    G = [1+3*k for k in range(len(L)) if 1+3*k < len(L)]\n",
    "    G.reverse()\n",
    "    for g in G:\n",
    "        insert_sort(L, g)\n",
    "    return L"
   ]
  },
  {
   "cell_type": "code",
   "execution_count": 18,
   "metadata": {},
   "outputs": [
    {
     "data": {
      "text/plain": [
       "[0, 1, 2, 2, 3, 4, 5, 7, 9]"
      ]
     },
     "execution_count": 18,
     "metadata": {},
     "output_type": "execute_result"
    }
   ],
   "source": [
    "shell_sort([2,0,4,3,2,1,5,9,7])"
   ]
  },
  {
   "cell_type": "code",
   "execution_count": null,
   "metadata": {},
   "outputs": [],
   "source": []
  },
  {
   "cell_type": "code",
   "execution_count": null,
   "metadata": {},
   "outputs": [],
   "source": []
  },
  {
   "cell_type": "code",
   "execution_count": null,
   "metadata": {},
   "outputs": [],
   "source": []
  },
  {
   "cell_type": "markdown",
   "metadata": {},
   "source": [
    "## 选择排序\n",
    "选择最小下标"
   ]
  },
  {
   "cell_type": "code",
   "execution_count": 60,
   "metadata": {},
   "outputs": [],
   "source": [
    "def select_sort(L):\n",
    "    for i in range(len(L)-1):\n",
    "        min_ = i\n",
    "        for j in range(i, len(L)):\n",
    "            if L[j] < L[min_]:\n",
    "                min_ = j\n",
    "        L[i], L[min_] = L[min_], L[i]\n",
    "    return L\n",
    "            "
   ]
  },
  {
   "cell_type": "code",
   "execution_count": 61,
   "metadata": {},
   "outputs": [
    {
     "data": {
      "text/plain": [
       "[0, 1, 2, 3, 4]"
      ]
     },
     "execution_count": 61,
     "metadata": {},
     "output_type": "execute_result"
    }
   ],
   "source": [
    "select_sort([0,4,3,2,1])"
   ]
  },
  {
   "cell_type": "markdown",
   "metadata": {},
   "source": [
    "## 快速排序"
   ]
  },
  {
   "cell_type": "code",
   "execution_count": 11,
   "metadata": {},
   "outputs": [],
   "source": [
    "def quick_sort(L, l, r):\n",
    "    if l < r:\n",
    "        pivot = find_pivot(L, l, r)\n",
    "        quick_sort(L, l, pivot-1)\n",
    "        quick_sort(L, pivot+1, r)\n",
    "    return L\n",
    "        \n",
    "def find_pivot(L, l, r):\n",
    "    p = L[r]\n",
    "    idx = l  # idx边界\n",
    "    for i in range(l, r):\n",
    "        if L[i] < p:\n",
    "            L[i], L[idx] = L[idx], L[i]\n",
    "            idx += 1\n",
    "    L[r], L[idx] = L[idx], L[r]\n",
    "    return idx\n",
    "            "
   ]
  },
  {
   "cell_type": "code",
   "execution_count": 8,
   "metadata": {},
   "outputs": [],
   "source": [
    "def find_pivot2(L, l, r):\n",
    "    p = L[l]\n",
    "    while l < r:\n",
    "        while l < r and L[r] >= p:\n",
    "            r -= 1\n",
    "        L[l] = L[r]\n",
    "        while l < r and L[l] < p:\n",
    "            l += 1\n",
    "        L[r] = L[l]\n",
    "    L[r] = p\n",
    "    return r"
   ]
  },
  {
   "cell_type": "code",
   "execution_count": 10,
   "metadata": {},
   "outputs": [
    {
     "data": {
      "text/plain": [
       "[0, 1, 2, 2, 3, 4, 5, 7, 9]"
      ]
     },
     "execution_count": 10,
     "metadata": {},
     "output_type": "execute_result"
    }
   ],
   "source": [
    "L = [2,0,4,3,2,1,5,9,7]\n",
    "quick_sort(L, 0, len(L)-1)"
   ]
  },
  {
   "cell_type": "code",
   "execution_count": 6,
   "metadata": {},
   "outputs": [],
   "source": [
    "def quick_sort(L):\n",
    "    if len(L) < 2:\n",
    "        return L\n",
    "    p = L[-1]\n",
    "    idx = 0\n",
    "    for i in range(len(L)-1):\n",
    "        if L[i] < p:\n",
    "            L[i], L[idx] = L[idx], L[i]\n",
    "            idx += 1\n",
    "    L[idx], L[-1] = L[-1], L[idx]\n",
    "    quick_sort(L[:idx])\n",
    "    quick_sort(L[idx+1:])\n",
    "    return L"
   ]
  },
  {
   "cell_type": "code",
   "execution_count": 7,
   "metadata": {},
   "outputs": [
    {
     "data": {
      "text/plain": [
       "[0, 1, 2, 2, 3, 4, 5, 7, 9]"
      ]
     },
     "execution_count": 7,
     "metadata": {},
     "output_type": "execute_result"
    }
   ],
   "source": [
    "quick_sort(L)"
   ]
  },
  {
   "cell_type": "markdown",
   "metadata": {},
   "source": [
    "## 归并排序"
   ]
  },
  {
   "cell_type": "code",
   "execution_count": 12,
   "metadata": {},
   "outputs": [],
   "source": [
    "def merge_sort(L):\n",
    "    if len(L) < 2:\n",
    "        return L\n",
    "    mid = len(L)//2\n",
    "    left = merge_sort(L[:mid])\n",
    "    right = merge_sort(L[mid:])\n",
    "    return merge(left, right)\n",
    "\n",
    "def merge(left, right):\n",
    "    i = j = 0\n",
    "    res = []\n",
    "    l, r = len(left), len(right)\n",
    "    while i < l and j < r:\n",
    "        if left[i] <= right[j]:\n",
    "            res.append(left[i])\n",
    "            i += 1\n",
    "        else:\n",
    "            res.append(right[j])\n",
    "            j += 1\n",
    "    res += left[i:]\n",
    "    res += right[j:]\n",
    "    return res"
   ]
  },
  {
   "cell_type": "code",
   "execution_count": 13,
   "metadata": {},
   "outputs": [
    {
     "data": {
      "text/plain": [
       "[0, 1, 2, 2, 3, 4, 5, 7, 9]"
      ]
     },
     "execution_count": 13,
     "metadata": {},
     "output_type": "execute_result"
    }
   ],
   "source": [
    "merge_sort([2,0,4,3,2,1,5,9,7])"
   ]
  },
  {
   "cell_type": "markdown",
   "metadata": {},
   "source": [
    "## 堆排序"
   ]
  },
  {
   "cell_type": "code",
   "execution_count": 33,
   "metadata": {},
   "outputs": [],
   "source": [
    "L =[0,2,0,4,3,2,1,5,9,7]"
   ]
  },
  {
   "cell_type": "code",
   "execution_count": 72,
   "metadata": {},
   "outputs": [],
   "source": [
    "def max_heap(L, i, k):\n",
    "    l = i*2+1  # 根据i找到左节点\n",
    "    r = l+1  # 右节点\n",
    "    h = len(L[:k])-1  # 序列L从0开始\n",
    "    max_ = i  # 最大值默认为根节点\n",
    "    if l < h and L[max_]<L[l]:\n",
    "        # l<h，左节点存在，比较左节点和根节点的值\n",
    "        max_ = l\n",
    "    if r <= h and L[max_]<L[r]:\n",
    "        # r<=h, 右节点存在，比较右节点和最大值\n",
    "        max_ = r\n",
    "    if L[i] != L[max_]:\n",
    "        L[i], L[max_] = L[max_], L[i]\n",
    "        max_heap(L, max_, k)\n",
    "def build_heap(L, k):\n",
    "    ii = (len(L[:k])-1)//2  # 完全二叉树，\n",
    "    print(k)\n",
    "    while ii>=0:\n",
    "        max_heap(L, ii, k)\n",
    "        ii -= 1"
   ]
  },
  {
   "cell_type": "code",
   "execution_count": 73,
   "metadata": {},
   "outputs": [
    {
     "name": "stdout",
     "output_type": "stream",
     "text": [
      "10\n"
     ]
    }
   ],
   "source": [
    "build_heap(L, len(L))"
   ]
  },
  {
   "cell_type": "code",
   "execution_count": 74,
   "metadata": {},
   "outputs": [
    {
     "data": {
      "text/plain": [
       "[9, 5, 2, 4, 3, 0, 1, 2, 0, 7]"
      ]
     },
     "execution_count": 74,
     "metadata": {},
     "output_type": "execute_result"
    }
   ],
   "source": [
    "L"
   ]
  },
  {
   "cell_type": "code",
   "execution_count": 75,
   "metadata": {},
   "outputs": [],
   "source": [
    "def sort_heap(L):\n",
    "    for i in range(len(L)-1,0,-1):\n",
    "        L[0],L[i] = L[i], L[0]\n",
    "        print(i)\n",
    "        build_heap(L, i)"
   ]
  },
  {
   "cell_type": "code",
   "execution_count": 77,
   "metadata": {},
   "outputs": [
    {
     "data": {
      "text/plain": [
       "[0, 0, 1, 2, 2, 3, 4, 5, 7, 9]"
      ]
     },
     "execution_count": 77,
     "metadata": {},
     "output_type": "execute_result"
    }
   ],
   "source": [
    "L"
   ]
  },
  {
   "cell_type": "code",
   "execution_count": null,
   "metadata": {},
   "outputs": [],
   "source": []
  }
 ],
 "metadata": {
  "kernelspec": {
   "display_name": "Python 3",
   "language": "python",
   "name": "python3"
  },
  "language_info": {
   "codemirror_mode": {
    "name": "ipython",
    "version": 3
   },
   "file_extension": ".py",
   "mimetype": "text/x-python",
   "name": "python",
   "nbconvert_exporter": "python",
   "pygments_lexer": "ipython3",
   "version": "3.6.4"
  }
 },
 "nbformat": 4,
 "nbformat_minor": 2
}
