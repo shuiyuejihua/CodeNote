{
 "cells": [
  {
   "cell_type": "markdown",
   "metadata": {},
   "source": [
    "# Graph"
   ]
  },
  {
   "cell_type": "code",
   "execution_count": 4,
   "metadata": {},
   "outputs": [],
   "source": [
    "class Graph:\n",
    "    def __init__(self, mat, unconn=0):\n",
    "        vnum = len(mat)\n",
    "        for x in mat:\n",
    "            if len(x) != vnum:\n",
    "                raise ValueError('row <> col')\n",
    "        self._mat = [mat[i][:] for i in range(vnum)]\n",
    "        self._unconn = unconn\n",
    "        self._vunm = vnum\n",
    "        \n",
    "    def vertex_num(self):\n",
    "        return self._vnum\n",
    "    \n",
    "    def _invalid(self, v):\n",
    "        return 0 > v or v >= self._vnum\n",
    "    \n",
    "    def add_vertex(self):\n",
    "        raise GraphErro('not support')\n",
    "        \n",
    "    def add_edge(self, vi, vj, val = 1):\n",
    "        if self._invalid(vi) or self._invalid(vj):\n",
    "            raise GraphError(str(vi)+'or'+str(vj)+'not valid')\n",
    "        self._mat[vi][vj] = val\n",
    "    def get_edge(self, vi, vj):\n",
    "        if self._invalid(vi) or self._invalid(vj):\n",
    "            raise GraphError(str(vi)+'or'+ str(vj) +'not valid')\n",
    "        return self._mat[vi][vj]"
   ]
  },
  {
   "cell_type": "code",
   "execution_count": 2,
   "metadata": {},
   "outputs": [
    {
     "name": "stdout",
     "output_type": "stream",
     "text": [
      "inf\n"
     ]
    }
   ],
   "source": [
    "print(inf)"
   ]
  },
  {
   "cell_type": "code",
   "execution_count": 5,
   "metadata": {},
   "outputs": [
    {
     "data": {
      "text/plain": [
       "nan"
      ]
     },
     "execution_count": 5,
     "metadata": {},
     "output_type": "execute_result"
    }
   ],
   "source": [
    "inf/inf"
   ]
  },
  {
   "cell_type": "code",
   "execution_count": null,
   "metadata": {},
   "outputs": [],
   "source": []
  }
 ],
 "metadata": {
  "kernelspec": {
   "display_name": "Python 3",
   "language": "python",
   "name": "python3"
  },
  "language_info": {
   "codemirror_mode": {
    "name": "ipython",
    "version": 3
   },
   "file_extension": ".py",
   "mimetype": "text/x-python",
   "name": "python",
   "nbconvert_exporter": "python",
   "pygments_lexer": "ipython3",
   "version": "3.6.4"
  }
 },
 "nbformat": 4,
 "nbformat_minor": 2
}
