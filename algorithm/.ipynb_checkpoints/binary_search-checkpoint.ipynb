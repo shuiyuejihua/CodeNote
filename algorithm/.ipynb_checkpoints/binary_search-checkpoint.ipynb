{
 "cells": [
  {
   "cell_type": "markdown",
   "metadata": {},
   "source": [
    "# 二分查找的边界分析"
   ]
  },
  {
   "cell_type": "markdown",
   "metadata": {},
   "source": [
    "数组：L，长度:len(L)，查找目标：target，左left，右right，中间mid，找到返回索引，没找到返回-1  \n",
    "L：递增数组  \n",
    "left = 0  \n",
    "right = len(L) 或者 len(L)-1  \n",
    "循环条件：left < right 或者 left <= right  \n",
    "mid = (left + right)//2  \n",
    "$L[mid] < target$，left = mid 或者 mid + 1  \n",
    "$L[mid] > target$，right = mid 或者 mid - 1  "
   ]
  },
  {
   "cell_type": "markdown",
   "metadata": {},
   "source": [
    "## 常见的2种二分查找"
   ]
  },
  {
   "cell_type": "code",
   "execution_count": 1,
   "metadata": {},
   "outputs": [],
   "source": [
    "# len(L) = 3\n",
    "L1 = [2,4,6]\n",
    "# len(L) = 4\n",
    "L2 = [2,4,6,8]\n",
    "# target\n",
    "targets = [1,2,3,4,5,6,7,8,9] "
   ]
  },
  {
   "cell_type": "markdown",
   "metadata": {},
   "source": [
    "- 循环条件left<right"
   ]
  },
  {
   "cell_type": "code",
   "execution_count": 2,
   "metadata": {},
   "outputs": [],
   "source": [
    "def binary_search(L, target):\n",
    "    left, right = 0, len(L)\n",
    "    while left < right:\n",
    "        mid = (left + right)//2  #下取整\n",
    "        if L[mid] < target:\n",
    "            left = mid + 1\n",
    "        elif L[mid] > target:\n",
    "            right = mid\n",
    "        else:\n",
    "            return mid\n",
    "    return -1"
   ]
  },
  {
   "cell_type": "code",
   "execution_count": 3,
   "metadata": {},
   "outputs": [
    {
     "data": {
      "text/plain": [
       "[-1, 0, -1, 1, -1, 2, -1, -1, -1]"
      ]
     },
     "execution_count": 3,
     "metadata": {},
     "output_type": "execute_result"
    }
   ],
   "source": [
    "[binary_search(L1, target) for target in targets]"
   ]
  },
  {
   "cell_type": "code",
   "execution_count": 4,
   "metadata": {},
   "outputs": [
    {
     "data": {
      "text/plain": [
       "[-1, 0, -1, 1, -1, 2, -1, 3, -1]"
      ]
     },
     "execution_count": 4,
     "metadata": {},
     "output_type": "execute_result"
    }
   ],
   "source": [
    "[binary_search(L2, target) for target in targets]"
   ]
  },
  {
   "cell_type": "markdown",
   "metadata": {},
   "source": [
    "- 循环条件left<=right"
   ]
  },
  {
   "cell_type": "code",
   "execution_count": 5,
   "metadata": {},
   "outputs": [],
   "source": [
    "def b_search(L, target):\n",
    "    left, right = 0, len(L)-1\n",
    "    while left <= right:\n",
    "        mid = (left + right)//2\n",
    "        if L[mid] < target:\n",
    "            left = mid + 1\n",
    "        elif L[mid] > target:\n",
    "            right = mid - 1\n",
    "        else:\n",
    "            return mid\n",
    "    return -1        "
   ]
  },
  {
   "cell_type": "code",
   "execution_count": 6,
   "metadata": {},
   "outputs": [
    {
     "data": {
      "text/plain": [
       "[-1, 0, -1, 1, -1, 2, -1, -1, -1]"
      ]
     },
     "execution_count": 6,
     "metadata": {},
     "output_type": "execute_result"
    }
   ],
   "source": [
    "[b_search(L1, target) for target in targets]"
   ]
  },
  {
   "cell_type": "code",
   "execution_count": 7,
   "metadata": {},
   "outputs": [
    {
     "data": {
      "text/plain": [
       "[-1, 0, -1, 1, -1, 2, -1, 3, -1]"
      ]
     },
     "execution_count": 7,
     "metadata": {},
     "output_type": "execute_result"
    }
   ],
   "source": [
    "[b_search(L2, target) for target in targets]"
   ]
  },
  {
   "cell_type": "markdown",
   "metadata": {},
   "source": [
    "## 二分查找边界分析"
   ]
  },
  {
   "cell_type": "code",
   "execution_count": 8,
   "metadata": {},
   "outputs": [],
   "source": [
    "# len(L) = 3\n",
    "L1 = [2,4,6]\n",
    "# len(L) = 4\n",
    "L2 = [2,4,6,8]\n",
    "# target\n",
    "targets = [1,2,3,4,5,6,7,8,9] "
   ]
  },
  {
   "cell_type": "markdown",
   "metadata": {},
   "source": [
    "- 正常查找结果"
   ]
  },
  {
   "cell_type": "code",
   "execution_count": null,
   "metadata": {},
   "outputs": [],
   "source": [
    "\"\"\"\n",
    "[    2,     4,     6            ]\n",
    "[1,  2,  3, 4,  5, 6,  7,  8,  9]\n",
    "[-1, 0, -1, 1, -1, 2, -1, -1, -1]\n",
    "------------------------------\n",
    "[    2,     4,     6,     8    ]\n",
    "[1,  2,  3, 4,  5, 6,  7, 8,  9]\n",
    "[-1, 0, -1, 1, -1, 2, -1, 3, -1]\n",
    "\n",
    "\"\"\""
   ]
  },
  {
   "cell_type": "markdown",
   "metadata": {},
   "source": [
    "- right = len(L)"
   ]
  },
  {
   "cell_type": "code",
   "execution_count": 9,
   "metadata": {},
   "outputs": [
    {
     "name": "stdout",
     "output_type": "stream",
     "text": [
      "[2, 4, 6]\n",
      "[1, 2, 3, 4, 5, 6, 7, 8, 9]\n",
      "[-1, 0, -1, 1, -1, 2, -1, -1, -1]\n",
      "------------------------------\n",
      "[2, 4, 6, 8]\n",
      "[1, 2, 3, 4, 5, 6, 7, 8, 9]\n",
      "[-1, 0, -1, 1, -1, 2, -1, 3, -1]\n"
     ]
    }
   ],
   "source": [
    "def binary_search_test(L, target):\n",
    "    left, right = 0, len(L)\n",
    "    while left < right:\n",
    "        mid = (left + right)//2  #下取整\n",
    "        if L[mid] < target:\n",
    "            left = mid + 1\n",
    "        elif L[mid] > target:\n",
    "            right = mid\n",
    "        else:\n",
    "            return mid\n",
    "    return -1\n",
    "print(L1)\n",
    "print(targets)\n",
    "print([binary_search_test(L1, target) for target in targets])\n",
    "print('------------------------------')\n",
    "print(L2)\n",
    "print(targets)\n",
    "print([binary_search_test(L2, target) for target in targets])"
   ]
  },
  {
   "cell_type": "code",
   "execution_count": null,
   "metadata": {},
   "outputs": [],
   "source": [
    "1. 修改right = len(L)-1   \n",
    "结果：L[-1]，也就是末尾一个找不到\n",
    "\n",
    "2. 修改left = mid  \n",
    "结果：死循环\n",
    "\n",
    "3. 修改left = mid, right = mid -1  \n",
    "结果：死循环\n",
    "\n",
    "4. 修改right= mid -1\n",
    "结果:L1，2 没找到；L2，4，6没找到\n",
    "\n",
    "5. 修改left<=right\n",
    "结果：死循环"
   ]
  },
  {
   "cell_type": "markdown",
   "metadata": {},
   "source": [
    "- right=len(L)-1"
   ]
  },
  {
   "cell_type": "code",
   "execution_count": 10,
   "metadata": {},
   "outputs": [
    {
     "name": "stdout",
     "output_type": "stream",
     "text": [
      "[2, 4, 6]\n",
      "[1, 2, 3, 4, 5, 6, 7, 8, 9]\n",
      "[-1, 0, -1, 1, -1, 2, -1, -1, -1]\n",
      "------------------------------\n",
      "[2, 4, 6, 8]\n",
      "[1, 2, 3, 4, 5, 6, 7, 8, 9]\n",
      "[-1, 0, -1, 1, -1, 2, -1, 3, -1]\n"
     ]
    }
   ],
   "source": [
    "def b_search_test(L, target):\n",
    "    left, right = 0, len(L)-1\n",
    "    while left <= right:\n",
    "        mid = (left + right)//2  #下取整\n",
    "        if L[mid] < target:\n",
    "            left = mid + 1\n",
    "        elif L[mid] > target:\n",
    "            right = mid - 1\n",
    "        else:\n",
    "            return mid\n",
    "    return -1\n",
    "print(L1)\n",
    "print(targets)\n",
    "print([b_search_test(L1, target) for target in targets])\n",
    "print('------------------------------')\n",
    "print(L2)\n",
    "print(targets)\n",
    "print([b_search_test(L2, target) for target in targets])"
   ]
  },
  {
   "cell_type": "code",
   "execution_count": null,
   "metadata": {},
   "outputs": [],
   "source": [
    "1. 修改right = len(L)   \n",
    "结果：IndexError: list index out of range\n",
    "\n",
    "2. 修改left = mid  \n",
    "结果：死循环\n",
    "\n",
    "3. 修改left = mid, right = mid \n",
    "结果：死循环\n",
    "\n",
    "4. 修改right= mid\n",
    "结果:死循环\n",
    "\n",
    "5. 修改left<right\n",
    "结果：L1，2、6没找到；L2，2、8没找到"
   ]
  },
  {
   "cell_type": "code",
   "execution_count": null,
   "metadata": {},
   "outputs": [],
   "source": []
  }
 ],
 "metadata": {
  "kernelspec": {
   "display_name": "Python 3",
   "language": "python",
   "name": "python3"
  },
  "language_info": {
   "codemirror_mode": {
    "name": "ipython",
    "version": 3
   },
   "file_extension": ".py",
   "mimetype": "text/x-python",
   "name": "python",
   "nbconvert_exporter": "python",
   "pygments_lexer": "ipython3",
   "version": "3.6.4"
  }
 },
 "nbformat": 4,
 "nbformat_minor": 2
}
