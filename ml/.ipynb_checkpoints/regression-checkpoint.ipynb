{
 "cells": [
  {
   "cell_type": "markdown",
   "metadata": {},
   "source": [
    "# 回归"
   ]
  },
  {
   "cell_type": "markdown",
   "metadata": {},
   "source": [
    "## 线性回归"
   ]
  },
  {
   "cell_type": "markdown",
   "metadata": {},
   "source": [
    "### 优点：\n",
    "容易理解，计算不复杂"
   ]
  },
  {
   "cell_type": "markdown",
   "metadata": {},
   "source": [
    "### 缺点：\n",
    "对非线性数据拟合差"
   ]
  },
  {
   "cell_type": "markdown",
   "metadata": {},
   "source": [
    "### 适用数据类型：\n",
    "数值型(定量)、标称型(描述对象的特征,定性的，二元属性，序数属性)"
   ]
  },
  {
   "cell_type": "markdown",
   "metadata": {},
   "source": [
    "### 方法步骤：\n",
    "(1) 收集数据：采用任意方法收集数据。  \n",
    "(2) 准备数据：回归需要数值型数据，标称型数据将被转成二值型数据。  \n",
    "(3) 分析数据：绘出数据的可视化二维图将有助于对数据做出理解和分析，在采用缩减法\n",
    "求得新回归系数之后，可以将新拟合线绘在图上作为对比。  \n",
    "(4) 训练算法：找到回归系数。  \n",
    "(5) 测试算法：使用R2或者预测值和数据的拟合度，来分析模型的效果。  \n",
    "(6) 使用算法：使用回归，可以在给定输入的时候预测出一个数值，这是对分类方法的提\n",
    "升，因为这样可以预测连续型数据而不仅仅是离散的类别标签。"
   ]
  },
  {
   "cell_type": "markdown",
   "metadata": {},
   "source": [
    "假定样本独立：联合概率 = p1 * p2 边缘概率乘积 \n",
    "假定独立同分布  \n",
    "$\\epsilon$，误差正态分布，误差是各种叠加，中心极限定理"
   ]
  },
  {
   "cell_type": "markdown",
   "metadata": {},
   "source": [
    "泛化性度量：根均方误差RMS = $\\sqrt{2E(w∗)/N)}$ 相同规模和单位进行比较  \n",
    "最小二乘法是最大似然的一种特殊情形。最大似然通病：过拟合  \n",
    "问题复杂，模型也要复杂。贝叶斯模型，参数的有效数量会跟据数据集的规模进行调节"
   ]
  },
  {
   "cell_type": "markdown",
   "metadata": {},
   "source": [
    "### 输入： \n",
    "1. quantitative inputs;  \n",
    "2. transformations of quantitative inputs, such as log, square-root or square;  \n",
    "3. basis expansions, such as $X_{2} = X_{1}^{2}, X_{3} = X_{1}^{3}$, leading to a polynomial representation;  \n",
    "4. numeric or “dummy” coding of the levels of qualitative inputs  \n",
    "5. interactions between variables, for example, $X3 = X1 · X2$.  \n",
    "$(x_{i}, y_{i})$满足独立随机，或(x->y),条件独立也行"
   ]
  },
  {
   "cell_type": "markdown",
   "metadata": {},
   "source": [
    "残差平方和residual sum of squares： $$RSS(\\beta) =\\sum_{i=1}^{N}(y_i − f(x_i))^2 = \\sum_{i=1}^{N}(y_i −\\beta_0- f(x_i))^2$$"
   ]
  },
  {
   "cell_type": "markdown",
   "metadata": {},
   "source": [
    "$$RSS(\\beta) = (y − X\\beta)^T(y − X\\beta).$$"
   ]
  },
  {
   "cell_type": "markdown",
   "metadata": {},
   "source": [
    "对$\\beta$求导：$$\\frac{\\partial RSS}{\\partial β} = −2X^T(y − X\\beta)$$"
   ]
  },
  {
   "cell_type": "markdown",
   "metadata": {},
   "source": [
    "假设$X$列满秩，一列一列向量线性无关，特征向量线性无关，那么$X^TX$，是正定的，令$X^T(y − X\\beta)=0$，可以解得：$$\\hat{β} = (X^TX)^{−1}X^Ty$$"
   ]
  },
  {
   "cell_type": "markdown",
   "metadata": {},
   "source": [
    "$$\\hat{y}=X\\hat{\\beta}=X(X^TX)^{−1}X^Ty$$"
   ]
  },
  {
   "cell_type": "markdown",
   "metadata": {},
   "source": [
    "矩阵mXn,列满秩=n，行满秩=m"
   ]
  },
  {
   "cell_type": "markdown",
   "metadata": {},
   "source": [
    "偏置w0补偿了目标值的平均值（在训练集上的）与基函数的值的平均值的加权求和之间的差"
   ]
  },
  {
   "cell_type": "markdown",
   "metadata": {},
   "source": [
    "## 局部加权回归"
   ]
  },
  {
   "cell_type": "markdown",
   "metadata": {},
   "source": [
    "## Ridge\n",
    "L2正则化，$\\lambda$越小，最小化时，$W_i$变大，模型容易过拟合。$$\\hat{\\theta} = (X^TX+\\lambda I)^{−1}X^Ty$$"
   ]
  },
  {
   "cell_type": "markdown",
   "metadata": {},
   "source": [
    "## Lasso\n",
    "L1 正则，让参数矩阵稀疏，特征选择。\n",
    "L0是向量中非0的总个数"
   ]
  },
  {
   "cell_type": "markdown",
   "metadata": {},
   "source": [
    "## logistic"
   ]
  },
  {
   "cell_type": "markdown",
   "metadata": {},
   "source": [
    "b = np.matrix([1,2,3])\n",
    "b"
   ]
  },
  {
   "cell_type": "markdown",
   "metadata": {},
   "source": [
    "b*b.T"
   ]
  },
  {
   "cell_type": "markdown",
   "metadata": {},
   "source": [
    "np.random.randint(1,8,size=[2,3])"
   ]
  },
  {
   "cell_type": "markdown",
   "metadata": {},
   "source": []
  },
  {
   "cell_type": "markdown",
   "metadata": {},
   "source": []
  }
 ],
 "metadata": {
  "kernelspec": {
   "display_name": "Python 3",
   "language": "python",
   "name": "python3"
  },
  "language_info": {
   "codemirror_mode": {
    "name": "ipython",
    "version": 3
   },
   "file_extension": ".py",
   "mimetype": "text/x-python",
   "name": "python",
   "nbconvert_exporter": "python",
   "pygments_lexer": "ipython3",
   "version": "3.6.4"
  }
 },
 "nbformat": 4,
 "nbformat_minor": 2
}
