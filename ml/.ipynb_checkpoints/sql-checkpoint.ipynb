{
 "cells": [
  {
   "cell_type": "markdown",
   "metadata": {},
   "source": [
    "# SQL学习"
   ]
  },
  {
   "cell_type": "markdown",
   "metadata": {},
   "source": [
    "## 查询思想"
   ]
  },
  {
   "cell_type": "markdown",
   "metadata": {},
   "source": [
    "- 弄清问题是什么，返回的字段是什么"
   ]
  },
  {
   "cell_type": "markdown",
   "metadata": {},
   "source": [
    "- 需要连接哪些表，一张表够不够，列出涉及的表"
   ]
  },
  {
   "cell_type": "markdown",
   "metadata": {},
   "source": [
    "- 根据什么字段排序，基于哪个字段，limit多少"
   ]
  },
  {
   "cell_type": "markdown",
   "metadata": {},
   "source": []
  },
  {
   "cell_type": "markdown",
   "metadata": {},
   "source": []
  },
  {
   "cell_type": "markdown",
   "metadata": {},
   "source": []
  },
  {
   "cell_type": "markdown",
   "metadata": {},
   "source": [
    "## 基础"
   ]
  },
  {
   "cell_type": "markdown",
   "metadata": {},
   "source": [
    "ERD实体关系图 [鱼骨图](http://www.vertabelo.com/blog/technical-articles/crow-s-foot-notation)"
   ]
  },
  {
   "cell_type": "markdown",
   "metadata": {},
   "source": [
    "优势：快速访问、容易共享、访问控制"
   ]
  },
  {
   "cell_type": "markdown",
   "metadata": {},
   "source": [
    "数据库类型：Postgres MySQL SQLite Microsoft SQL Server Oracle"
   ]
  },
  {
   "cell_type": "markdown",
   "metadata": {},
   "source": [
    "语句类型：create、drop、select； 不区分大小写"
   ]
  },
  {
   "cell_type": "markdown",
   "metadata": {},
   "source": [
    "三范式：  \n",
    "1. 表格存储了逻辑分组的数据吗？\n",
    "2. 我能在一个位置进行更改，而不是在多个表格中对同一信息作出更改吗？\n",
    "3. 我能快速高效地访问和操纵数据吗？"
   ]
  },
  {
   "cell_type": "markdown",
   "metadata": {},
   "source": [
    "## 查询"
   ]
  },
  {
   "cell_type": "markdown",
   "metadata": {},
   "source": [
    "- SELECT"
   ]
  },
  {
   "cell_type": "markdown",
   "metadata": {},
   "source": [
    "```SQL\n",
    "select * from table\n",
    "```"
   ]
  },
  {
   "cell_type": "markdown",
   "metadata": {},
   "source": [
    "规则：  \n",
    "1. 大写\n",
    "2. 不区分大小写\n",
    "3. 可以用空格，和分号，适当用"
   ]
  },
  {
   "cell_type": "markdown",
   "metadata": {},
   "source": [
    "- LIMIT"
   ]
  },
  {
   "cell_type": "markdown",
   "metadata": {},
   "source": [
    "LIMIT 命令始终是查询的最后一部分  \n",
    "```SQL\n",
    "SELECT *  \n",
    "FROM orders  \n",
    "LIMIT 10;  \n",
    "```"
   ]
  },
  {
   "cell_type": "markdown",
   "metadata": {},
   "source": [
    "**ORDER BY  DESC**  \n",
    "默认正序ASC"
   ]
  },
  {
   "cell_type": "markdown",
   "metadata": {},
   "source": [
    "ORDER BY 语句始终在 SELECT 和 FROM 语句之后，但位于 LIMIT 语句之前"
   ]
  },
  {
   "cell_type": "markdown",
   "metadata": {},
   "source": [
    "- ORDER BY 多列，可以在每列后面使用DESC"
   ]
  },
  {
   "cell_type": "markdown",
   "metadata": {},
   "source": [
    "```SQL\n",
    "SELECT *  \n",
    "FROM orders  \n",
    "ORDER BY occurred_at DESC, total_amt_usd DESC  \n",
    "LIMIT 5;  \n",
    "```"
   ]
  },
  {
   "cell_type": "markdown",
   "metadata": {},
   "source": [
    "- WHERE"
   ]
  },
  {
   "cell_type": "markdown",
   "metadata": {},
   "source": [
    "在order前面，用于bool判断，！=，大于小于，=，以及**like、not、in**等运算符"
   ]
  },
  {
   "cell_type": "markdown",
   "metadata": {},
   "source": [
    "```SQL\n",
    "SELECT *  \n",
    "FROM orders  \n",
    "WHERE total_amt_usd < 500  \n",
    "LIMIT 10;\n",
    "```"
   ]
  },
  {
   "cell_type": "markdown",
   "metadata": {},
   "source": [
    "- 派生列"
   ]
  },
  {
   "cell_type": "markdown",
   "metadata": {},
   "source": [
    "用运算符+、—、\\*、/，派生出来的新列，用AS取别名"
   ]
  },
  {
   "cell_type": "markdown",
   "metadata": {},
   "source": [
    "```SQL\n",
    "SELECT id, account_id, standard_amt_usd/standard_qty AS unit_price  \n",
    "FROM orders  \n",
    "LIMIT 10;\n",
    "```"
   ]
  },
  {
   "cell_type": "markdown",
   "metadata": {},
   "source": [
    "- 条件逻辑运算  \n",
    "都用于WHRER语句中"
   ]
  },
  {
   "cell_type": "markdown",
   "metadata": {},
   "source": [
    "- LIKE  \n",
    "可用于进行类似于使用 WHERE 和 = 的运算，但是这用于你可能 不 知道自己想准确查找哪些内容的情况。  \n",
    "```SQL\n",
    "SELECT name\n",
    "FROM accounts\n",
    "WHERE name LIKE '%one%';  \n",
    "```\n",
    "`%表示任意个`  \n",
    "\n",
    "- IN  \n",
    "用于执行类似于使用 WHERE 和 = 的运算，但用于多个条件的情况。 \n",
    "```SQL\n",
    "SELECT *\n",
    "FROM web_events\n",
    "WHERE channel IN ('organic', 'adwords');\n",
    "```\n",
    "- NOT  \n",
    "这与 IN 和 LIKE 一起使用，用于选择 NOT LIKE 或 NOT IN 某个条件的所有行。  \n",
    "\n",
    "- AND & BETWEEN  \n",
    "可用于组合所有组合条件必须为真的运算,不包括边界\n",
    "```SQL\n",
    "SELECT *  \n",
    "FROM web_events  \n",
    "WHERE channel IN ('organic', 'adwords') AND occurred_at BETWEEN '2016-01-01' AND '2017-01-01'  \n",
    "ORDER BY occurred_at DESC;  \n",
    "```\n",
    "\n",
    "- OR  \n",
    "可用于组合至少一个组合条件必须为真的运算  "
   ]
  },
  {
   "cell_type": "markdown",
   "metadata": {},
   "source": [
    "## JOIN\n",
    "重要，提升"
   ]
  },
  {
   "cell_type": "markdown",
   "metadata": {},
   "source": [
    "```SQL\n",
    "SELECT r.name region, a.name account, o.total_amt_usd/(o.total + 0.01) unit_price\n",
    "FROM region r\n",
    "JOIN sales_reps s\n",
    "ON s.region_id = r.id\n",
    "JOIN accounts a\n",
    "ON a.sales_rep_id = s.id\n",
    "JOIN orders o\n",
    "ON o.account_id = a.id;\n",
    "```"
   ]
  },
  {
   "cell_type": "markdown",
   "metadata": {},
   "source": [
    "- LEFT JOIN、RIGHT JOIN  "
   ]
  },
  {
   "cell_type": "markdown",
   "metadata": {},
   "source": [
    "left join ，就是以左列为主，对应的查出来+左列剩下的，此时右列为null  \n",
    "right join，就是以右列为主，null出现在左列，右列全部列出来，和左列有几个对应就对应列出几个，再加上右列剩下的，左列为null"
   ]
  },
  {
   "cell_type": "markdown",
   "metadata": {},
   "source": [
    "## 聚合\n",
    "聚合函数针对列进行聚合"
   ]
  },
  {
   "cell_type": "markdown",
   "metadata": {},
   "source": [
    "- null  \n",
    "null数据库特性，不是一个值，可以使用IS NULL，判断"
   ]
  },
  {
   "cell_type": "markdown",
   "metadata": {},
   "source": [
    "- COUNT  \n",
    "注意count(\\*),和count('col'),有时候不相等的"
   ]
  },
  {
   "cell_type": "markdown",
   "metadata": {},
   "source": [
    "- SUM  \n",
    "计算数值，null会视为0"
   ]
  },
  {
   "cell_type": "markdown",
   "metadata": {},
   "source": [
    "- MIN、MAX、AVG  \n",
    "求min、max同理：  \n",
    "```SQL\n",
    "SELECT MIN(occurred_at) \n",
    "FROM orders;\n",
    "```\n",
    "用非聚合函数求最小  \n",
    "```SQL\n",
    "SELECT occurred_at \n",
    "FROM orders \n",
    "ORDER BY occurred_at\n",
    "LIMIT 1;\n",
    "```\n",
    "求中位数：  \n",
    "```SQL\n",
    "SELECT *\n",
    "FROM (SELECT total_amt_usd\n",
    "      FROM orders\n",
    "      ORDER BY total_amt_usd\n",
    "      LIMIT 3457) AS Table1\n",
    "ORDER BY total_amt_usd DESC\n",
    "LIMIT 2;\n",
    "```"
   ]
  },
  {
   "cell_type": "markdown",
   "metadata": {},
   "source": [
    "- GROUP BY  \n",
    "**使用聚合函数，若含有其它字段，就需要使用group by 子句，分类聚合。可用1、2、3等代替其它字段进行group by**"
   ]
  },
  {
   "cell_type": "markdown",
   "metadata": {},
   "source": [
    "```SQL\n",
    "SELECT name,COUNT(*) FROM table1 GROUP BY 1\n",
    "```"
   ]
  },
  {
   "cell_type": "markdown",
   "metadata": {},
   "source": [
    "位于where 和 order by之间，也就是：  \n",
    "```SQL\n",
    "SELECT * FROM ... WHERE ... GROUP BY ... ORDER BY ...LIMIT 10\n",
    "```"
   ]
  },
  {
   "cell_type": "markdown",
   "metadata": {},
   "source": [
    "> 类似与pandas中dataframe的value_count()，计算每种分类"
   ]
  },
  {
   "cell_type": "markdown",
   "metadata": {},
   "source": [
    "- DISTINCT  \n",
    "去重复,可以用来检查有多少不同的取值。后面多个字段，表示考虑所有这些字段，去掉相同的\n",
    ">使用 DISTINCT 时，尤其是在聚合函数中使用时，会让查询速度有所减慢。"
   ]
  },
  {
   "cell_type": "markdown",
   "metadata": {},
   "source": [
    "- HAVING  \n",
    "出现在GROUP BY 后面，ORDER BY 前面。WHERE不能对聚合函数设条件，只能用WHERE 也就是：  \n",
    "> SELECT * FROM ...WHERE .. GROUP BY ..HAVING.. OREDER BY .. LIMIT .. "
   ]
  },
  {
   "cell_type": "markdown",
   "metadata": {},
   "source": [
    "```SQL\n",
    "SELECT s.id, s.name, COUNT(*) num_accounts\n",
    "FROM accounts a\n",
    "JOIN sales_reps s\n",
    "ON s.id = a.sales_rep_id\n",
    "GROUP BY s.id, s.name\n",
    "HAVING COUNT(*) > 5\n",
    "ORDER BY num_accounts;\n",
    "```"
   ]
  },
  {
   "cell_type": "markdown",
   "metadata": {},
   "source": [
    "- DATE_TRUNC()  \n",
    "```SQL\n",
    "SELECT DATE_TRUNC('month', o.occurred_at) ord_date, SUM(o.gloss_amt_usd) tot_spent\n",
    "FROM orders o \n",
    "JOIN accounts a\n",
    "ON a.id = o.account_id\n",
    "WHERE a.name = 'Walmart'\n",
    "GROUP BY 1\n",
    "ORDER BY 2 DESC\n",
    "LIMIT 1;\n",
    "```"
   ]
  },
  {
   "cell_type": "markdown",
   "metadata": {},
   "source": [
    "- DATE_PART()\n",
    "```SQL\n",
    "SELECT DATE_PART('month', occurred_at) ord_month, COUNT(*) total_sales\n",
    "FROM orders\n",
    "WHERE occurred_at BETWEEN '2014-01-01' AND '2017-01-01'\n",
    "GROUP BY 1\n",
    "ORDER BY 2 DESC;\n",
    "```"
   ]
  },
  {
   "cell_type": "markdown",
   "metadata": {},
   "source": [
    "- CASE \n",
    "```SQL\n",
    "SELECT CASE WHEN .. THEN...WHEN..THEN...ELSE...END AS ...\n",
    "```"
   ]
  },
  {
   "cell_type": "markdown",
   "metadata": {},
   "source": [
    "```SQL\n",
    "SELECT a.name, SUM(total_amt_usd) total_spent, \n",
    "     CASE WHEN SUM(total_amt_usd) > 200000 THEN 'top'\n",
    "     WHEN  SUM(total_amt_usd) > 100000 THEN 'middle'\n",
    "     ELSE 'low' END AS customer_level\n",
    "FROM orders o\n",
    "JOIN accounts a\n",
    "ON o.account_id = a.id\n",
    "WHERE occurred_at > '2015-12-31' \n",
    "GROUP BY 1\n",
    "ORDER BY 2 DESC;\n",
    "```"
   ]
  },
  {
   "cell_type": "markdown",
   "metadata": {},
   "source": [
    "### 子查询\n",
    "select \\* from（select \\* from）"
   ]
  },
  {
   "cell_type": "markdown",
   "metadata": {},
   "source": [
    "- 子查询"
   ]
  },
  {
   "cell_type": "markdown",
   "metadata": {},
   "source": [
    "```SQL\n",
    "SELECT channel, AVG(events) AS average_events\n",
    "FROM (SELECT DATE_TRUNC('day',occurred_at) AS day,\n",
    "channel, COUNT(*) as events\n",
    "FROM web_events\n",
    "GROUP BY 1,2) sub\n",
    "GROUP BY channel\n",
    "ORDER BY 2 DESC;\n",
    "```"
   ]
  },
  {
   "cell_type": "markdown",
   "metadata": {},
   "source": [
    "- with语句  \n",
    "将子查询单独列出来"
   ]
  },
  {
   "cell_type": "markdown",
   "metadata": {},
   "source": [
    "```SQL\n",
    "WITH table1 AS (\n",
    "SELECT *\n",
    "FROM web_events),\n",
    "\n",
    "table2 AS (\n",
    "SELECT *\n",
    "FROM accounts)\n",
    "\n",
    "\n",
    "SELECT *\n",
    "FROM table1\n",
    "JOIN table2\n",
    "ON table1.account_id = table2.id;\n",
    "```"
   ]
  },
  {
   "cell_type": "markdown",
   "metadata": {},
   "source": [
    "### 清理数据"
   ]
  },
  {
   "cell_type": "markdown",
   "metadata": {},
   "source": [
    "- left,right,length函数  \n",
    "left，从左边开始选取多少位；right，从右边开始选取多少位；length，计算长度"
   ]
  },
  {
   "cell_type": "markdown",
   "metadata": {},
   "source": [
    "```SQL\n",
    "SELECT LEFT(UPPER(name), 1) AS first_letter, COUNT(*) num_companies\n",
    "FROM accounts\n",
    "GROUP BY 1\n",
    "ORDER BY 2 DESC;\n",
    "```"
   ]
  },
  {
   "cell_type": "markdown",
   "metadata": {},
   "source": []
  },
  {
   "cell_type": "markdown",
   "metadata": {},
   "source": []
  },
  {
   "cell_type": "markdown",
   "metadata": {},
   "source": []
  },
  {
   "cell_type": "markdown",
   "metadata": {},
   "source": []
  },
  {
   "cell_type": "markdown",
   "metadata": {},
   "source": []
  }
 ],
 "metadata": {
  "kernelspec": {
   "display_name": "Python 3",
   "language": "python",
   "name": "python3"
  },
  "language_info": {
   "codemirror_mode": {
    "name": "ipython",
    "version": 3
   },
   "file_extension": ".py",
   "mimetype": "text/x-python",
   "name": "python",
   "nbconvert_exporter": "python",
   "pygments_lexer": "ipython3",
   "version": "3.6.4"
  }
 },
 "nbformat": 4,
 "nbformat_minor": 2
}
