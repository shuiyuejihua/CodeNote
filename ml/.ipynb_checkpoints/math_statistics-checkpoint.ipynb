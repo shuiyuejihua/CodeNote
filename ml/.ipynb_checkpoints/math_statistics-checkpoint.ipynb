{
 "cells": [
  {
   "cell_type": "markdown",
   "metadata": {},
   "source": [
    "# 数学 线代 统计基础\n",
    "主要内容包含数学、线性代数、概率数理统计等方面的，机器学习基础知识"
   ]
  },
  {
   "cell_type": "markdown",
   "metadata": {},
   "source": [
    "### 梯度"
   ]
  },
  {
   "cell_type": "markdown",
   "metadata": {},
   "source": [
    "### 泰勒展开\n",
    "多项式去估计、拟合那些复杂的函数"
   ]
  },
  {
   "cell_type": "markdown",
   "metadata": {},
   "source": [
    "### 牛顿下降"
   ]
  },
  {
   "cell_type": "markdown",
   "metadata": {},
   "source": [
    "### 梯度下降"
   ]
  },
  {
   "cell_type": "markdown",
   "metadata": {},
   "source": [
    "### 期望方差"
   ]
  },
  {
   "cell_type": "markdown",
   "metadata": {},
   "source": [
    "期望：$E(x) = \\sum{x_ip_i}$  $E(x) = \\int_{-}^{+} xf(x)dx$"
   ]
  },
  {
   "cell_type": "markdown",
   "metadata": {},
   "source": [
    "方差：$D(x) = Var(x) = E[x-E(x)]^2 = E(x^2)-[E(x)]^2$"
   ]
  },
  {
   "cell_type": "markdown",
   "metadata": {},
   "source": [
    "协方差：$Cov(X, Y) = E{[[x-E(x)][y-E(y)]]} = E(xy) - E(x)E(y)$  \n",
    "大于0，变化趋势相同，小于0，变化趋势相反，$|Cov(X, Y)|<=\\sigma _1 \\sigma _2$，线性相关取="
   ]
  },
  {
   "cell_type": "markdown",
   "metadata": {},
   "source": [
    "相关系数：$$\\rho_{xy} = \\frac {Cov(x,y)}{\\sqrt{Var(x)Var(y)}} <= 1$$\n",
    "其等于0，表示不相关，没有线性关系，但是不代表不独立，没有关系"
   ]
  },
  {
   "cell_type": "markdown",
   "metadata": {},
   "source": [
    "原点矩$E(x^k)$，中心矩$E[x-E(x)]^k$，k=3,表示偏度，正偏，负偏；k=4，超值峰度"
   ]
  },
  {
   "cell_type": "markdown",
   "metadata": {},
   "source": [
    "### 伯努利定理 大数定理\n",
    "频率接近概率"
   ]
  },
  {
   "cell_type": "markdown",
   "metadata": {},
   "source": [
    "### 中心极限定理\n",
    "随机变量相互独立，服从同一分布，有相同的期望、方差，则$Y_n = \\frac{\\sum _{i=1}^{n} X_i - n\\mu}{\\sqrt n\\sigma}$的分布收敛到标准正态分布，$\\sum _{i=1}^{n}X_i - n\\mu $收敛到正态分布$N(n\\mu,n\\sigma^2)$"
   ]
  },
  {
   "cell_type": "markdown",
   "metadata": {},
   "source": [
    "### 矩估计\n",
    "用原点矩、中心矩去估计总体矩"
   ]
  },
  {
   "cell_type": "markdown",
   "metadata": {},
   "source": [
    "### 最大似然估计\n",
    "似然函数，联合概率密度函数$$L(\\theta) = \\prod_{i=1}^n P(x_i;\\theta)$$"
   ]
  },
  {
   "cell_type": "markdown",
   "metadata": {},
   "source": [
    "###"
   ]
  },
  {
   "cell_type": "markdown",
   "metadata": {},
   "source": [
    "###"
   ]
  },
  {
   "cell_type": "markdown",
   "metadata": {},
   "source": [
    "### 贝叶斯"
   ]
  },
  {
   "cell_type": "markdown",
   "metadata": {},
   "source": [
    "贝叶斯：$$P(\\theta|x) = \\frac{P(x|\\theta)P(\\theta)}{P(x)}$$ 其中$P(\\theta)$，代表先验概率，也就是没有数据作为参考，得出的概率；而对应的，$P(\\theta|x)$为后验概率，表示在知道数据$x$的情况下，对$P(\\theta)$作出的概率；$P(x|\\theta)$给个参数$\\theta$后X发生的概率，似然函数"
   ]
  },
  {
   "cell_type": "markdown",
   "metadata": {},
   "source": [
    "### 均匀分布"
   ]
  },
  {
   "cell_type": "markdown",
   "metadata": {},
   "source": [
    "### 二项分布-泊松分布"
   ]
  },
  {
   "cell_type": "markdown",
   "metadata": {},
   "source": [
    "### 正态分布"
   ]
  },
  {
   "cell_type": "markdown",
   "metadata": {},
   "source": [
    "### 指数分布"
   ]
  },
  {
   "cell_type": "markdown",
   "metadata": {},
   "source": [
    "### 矩阵的逆\n",
    "$A*A^* = |A|* I$ , $A^{-1} = |A|^{-1} * A^*$"
   ]
  },
  {
   "cell_type": "markdown",
   "metadata": {},
   "source": [
    "### 概率转移矩阵"
   ]
  },
  {
   "cell_type": "markdown",
   "metadata": {},
   "source": [
    "### 特征向量"
   ]
  },
  {
   "cell_type": "markdown",
   "metadata": {},
   "source": [
    "### 矩阵和向量乘法\n",
    "平移、旋转变换"
   ]
  },
  {
   "cell_type": "markdown",
   "metadata": {},
   "source": [
    "### 矩阵的秩与方程的解"
   ]
  },
  {
   "cell_type": "markdown",
   "metadata": {},
   "source": [
    "### 正交矩阵\n",
    "$A^T A = I $"
   ]
  },
  {
   "cell_type": "markdown",
   "metadata": {},
   "source": [
    "### 对称阵\n",
    "实对称矩阵不同特征值对应的特征向量正交"
   ]
  },
  {
   "cell_type": "markdown",
   "metadata": {},
   "source": [
    "### 特征值特征向量"
   ]
  },
  {
   "cell_type": "markdown",
   "metadata": {},
   "source": [
    "### 对角阵\n",
    "合同变换"
   ]
  },
  {
   "cell_type": "markdown",
   "metadata": {},
   "source": [
    "### 白化\n",
    "转为正交"
   ]
  },
  {
   "cell_type": "markdown",
   "metadata": {},
   "source": [
    "### 正定阵\n",
    "$X^TAX>0$，正定的。$X^TAX>=0$，半正定  \n",
    "对称阵正定的，正定矩阵的特征值为正，顺序主子式大于0"
   ]
  },
  {
   "cell_type": "markdown",
   "metadata": {},
   "source": [
    "### 向量求导\n",
    "$\\theta$或者$X$为列向量时，分母布局"
   ]
  },
  {
   "cell_type": "markdown",
   "metadata": {},
   "source": [
    "$$\\frac{\\partial A X}{\\partial X} = A^T$$ $$\\frac{\\partial A X}{\\partial X^T} = A $$ $$\\frac{\\partial X ^T A}{\\partial X} = A$$\n",
    "$$\\frac{\\partial X ^T A X}{\\partial X} =(A+ A^T)X$$"
   ]
  },
  {
   "cell_type": "markdown",
   "metadata": {},
   "source": [
    "### QR分解\n",
    "矩阵分解成一个正交矩阵与一个上三角矩阵的积"
   ]
  },
  {
   "cell_type": "markdown",
   "metadata": {},
   "source": [
    "### 凸优化"
   ]
  },
  {
   "cell_type": "markdown",
   "metadata": {},
   "source": [
    "### 特征值分解\n",
    "方阵$$A=Q\\sum Q^{-1}$$"
   ]
  },
  {
   "cell_type": "markdown",
   "metadata": {},
   "source": [
    "### SVD分解\n",
    "不是方阵$$A=U_{m*m} \\sum_{m*n} V_{n*m}^T$$  \n",
    "$$(A^TA)v_i=\\lambda v_i $$ $$\\sigma_i=\\sqrt{\\lambda_i} $$ $$\\sigma_i=\\sqrt{\\lambda_i}$$"
   ]
  },
  {
   "cell_type": "markdown",
   "metadata": {},
   "source": []
  },
  {
   "cell_type": "markdown",
   "metadata": {},
   "source": []
  },
  {
   "cell_type": "code",
   "execution_count": null,
   "metadata": {},
   "outputs": [],
   "source": []
  }
 ],
 "metadata": {
  "kernelspec": {
   "display_name": "Python 3",
   "language": "python",
   "name": "python3"
  },
  "language_info": {
   "codemirror_mode": {
    "name": "ipython",
    "version": 3
   },
   "file_extension": ".py",
   "mimetype": "text/x-python",
   "name": "python",
   "nbconvert_exporter": "python",
   "pygments_lexer": "ipython3",
   "version": "3.6.4"
  }
 },
 "nbformat": 4,
 "nbformat_minor": 2
}
