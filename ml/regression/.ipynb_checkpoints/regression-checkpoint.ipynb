{
 "cells": [
  {
   "cell_type": "markdown",
   "metadata": {},
   "source": [
    "# 回归"
   ]
  },
  {
   "cell_type": "markdown",
   "metadata": {},
   "source": [
    "## 线性回归"
   ]
  },
  {
   "cell_type": "markdown",
   "metadata": {},
   "source": [
    "### 优点：\n",
    "容易理解，计算不复杂"
   ]
  },
  {
   "cell_type": "markdown",
   "metadata": {},
   "source": [
    "### 缺点：\n",
    "对非线性数据拟合差"
   ]
  },
  {
   "cell_type": "markdown",
   "metadata": {},
   "source": [
    "### 适用数据类型：\n",
    "数值型(定量)、标称型(描述对象的特征,定性的，二元属性，序数属性)"
   ]
  },
  {
   "cell_type": "markdown",
   "metadata": {},
   "source": [
    "### 方法步骤：\n",
    "(1) 收集数据：采用任意方法收集数据。  \n",
    "(2) 准备数据：回归需要数值型数据，标称型数据将被转成二值型数据。  \n",
    "(3) 分析数据：绘出数据的可视化二维图将有助于对数据做出理解和分析，在采用缩减法\n",
    "求得新回归系数之后，可以将新拟合线绘在图上作为对比。  \n",
    "(4) 训练算法：找到回归系数。  \n",
    "(5) 测试算法：使用R2或者预测值和数据的拟合度，来分析模型的效果。  \n",
    "(6) 使用算法：使用回归，可以在给定输入的时候预测出一个数值，这是对分类方法的提\n",
    "升，因为这样可以预测连续型数据而不仅仅是离散的类别标签。"
   ]
  },
  {
   "cell_type": "markdown",
   "metadata": {},
   "source": [
    "假定样本独立：联合概率 = p1 * p2 边缘概率乘积 \n",
    "假定独立同分布  \n",
    "$\\epsilon$，误差正态分布，误差是各种叠加，中心极限定理"
   ]
  },
  {
   "cell_type": "markdown",
   "metadata": {},
   "source": [
    "泛化性度量：根均方误差RMS = $\\sqrt{2E(w∗)/N)}$ 相同规模和单位进行比较  \n",
    "最小二乘法是最大似然的一种特殊情形。最大似然通病：过拟合  \n",
    "问题复杂，模型也要复杂。贝叶斯模型，参数的有效数量会跟据数据集的规模进行调节"
   ]
  },
  {
   "cell_type": "markdown",
   "metadata": {},
   "source": [
    "### 输入： \n",
    "1. quantitative inputs;  \n",
    "2. transformations of quantitative inputs, such as log, square-root or square;  \n",
    "3. basis expansions, such as $X_{2} = X_{1}^{2}, X_{3} = X_{1}^{3}$, leading to a polynomial representation;  \n",
    "4. numeric or “dummy” coding of the levels of qualitative inputs  \n",
    "5. interactions between variables, for example, $X3 = X1 · X2$.  \n",
    "$(x_{i}, y_{i})$满足独立随机，或(x->y),条件独立也行"
   ]
  },
  {
   "cell_type": "markdown",
   "metadata": {},
   "source": [
    "残差平方和residual sum of squares： $$RSS(\\beta) =\\sum_{i=1}^{N}(y_i − f(x_i))^2 = \\sum_{i=1}^{N}(y_i −\\beta_0- f(x_i))^2$$"
   ]
  },
  {
   "cell_type": "markdown",
   "metadata": {},
   "source": [
    "$$RSS(\\beta) = (y − X\\beta)^T(y − X\\beta).$$"
   ]
  },
  {
   "cell_type": "markdown",
   "metadata": {},
   "source": [
    "对$\\beta$求导：$$\\frac{\\partial RSS}{\\partial β} = −2X^T(y − X\\beta)$$"
   ]
  },
  {
   "cell_type": "markdown",
   "metadata": {},
   "source": [
    "假设$X$列满秩，一列一列向量线性无关，特征向量线性无关，那么$X^TX$，是正定的，令$X^T(y − X\\beta)=0$，可以解得：$$\\hat{β} = (X^TX)^{−1}X^Ty$$"
   ]
  },
  {
   "cell_type": "markdown",
   "metadata": {},
   "source": [
    "$$\\hat{y}=X\\hat{\\beta}=X(X^TX)^{−1}X^Ty$$"
   ]
  },
  {
   "cell_type": "markdown",
   "metadata": {},
   "source": [
    "矩阵mXn,列满秩=n，行满秩=m"
   ]
  },
  {
   "cell_type": "markdown",
   "metadata": {},
   "source": [
    "偏置w0补偿了目标值的平均值（在训练集上的）与基函数的值的平均值的加权求和之间的差"
   ]
  },
  {
   "cell_type": "markdown",
   "metadata": {},
   "source": [
    "## 局部加权回归\n",
    "控制附近有多少点参与回归，k越小，图形越尖，附近点权重小，参与回归少\n",
    "$$J_\\theta = \\frac{1}{2}\\sum_{i=1}^{N}W_i(y_i − f(x_i))^2$$ $$\\hat{w} = (X^TWX)^{−1}X^TWy$$ 其中$W_i$选择高斯核：$$w(i,i) = \\exp{\\frac{(x^{(i)}-x)^2}{-2k^2}}$$ 预测值偏离数据越大，$w(i,i)$趋于0，J越小，样本数据附近的值的权重更大，促使去拟合附近的点，呈现曲线"
   ]
  },
  {
   "cell_type": "markdown",
   "metadata": {},
   "source": [
    "## Ridge\n",
    "L2正则化，$\\lambda$越小，最小化时，$W_i$变大，模型容易过拟合。使用时，对不同的数据，需要标准化$$\\hat{\\theta} = (X^TX+\\lambda I)^{−1}X^Ty$$"
   ]
  },
  {
   "cell_type": "markdown",
   "metadata": {},
   "source": [
    "## Lasso\n",
    "L1 正则，让参数矩阵稀疏，特征选择。数据需要标准化\n",
    "L0是向量中非0的总个数"
   ]
  },
  {
   "cell_type": "markdown",
   "metadata": {},
   "source": [
    "## logistic"
   ]
  },
  {
   "cell_type": "markdown",
   "metadata": {},
   "source": []
  },
  {
   "cell_type": "markdown",
   "metadata": {},
   "source": [
    "## Regression 代码"
   ]
  },
  {
   "cell_type": "code",
   "execution_count": 3,
   "metadata": {},
   "outputs": [],
   "source": [
    "from numpy import *"
   ]
  },
  {
   "cell_type": "code",
   "execution_count": 5,
   "metadata": {},
   "outputs": [],
   "source": [
    "def loadDataSet(filename):\n",
    "    numFeat = len(open(filename).readline().split('\\t')) - 1\n",
    "    dataMat, labelMat = [], []\n",
    "    with open(filename) as f:\n",
    "        for line in f.readlines():\n",
    "            L = []\n",
    "            curLine = line.split('\\t')\n",
    "            for i in range(numFeat):\n",
    "                L.append(float(curLine[i]))\n",
    "            dataMat.append(L)\n",
    "            labelMat.append(float(curLine[-1]))\n",
    "    return dataMat, labelMat\n",
    "                "
   ]
  },
  {
   "cell_type": "code",
   "execution_count": 6,
   "metadata": {},
   "outputs": [],
   "source": [
    "def standRegres(x, y):\n",
    "    xMat, yMat = mat(x), mat(y).T\n",
    "    xTx = xMat.T*xMat\n",
    "    if linalg.det(xTx) == 0.:\n",
    "        print ('the matrix is singular')  # 矩阵是奇异的\n",
    "        return \n",
    "    ws = xTx.I * (xMat.T * yMat)\n",
    "    return ws\n",
    "        "
   ]
  },
  {
   "cell_type": "code",
   "execution_count": 14,
   "metadata": {},
   "outputs": [],
   "source": [
    "dataX, dataY = loadDataSet('ex0.txt')"
   ]
  },
  {
   "cell_type": "code",
   "execution_count": 22,
   "metadata": {},
   "outputs": [],
   "source": [
    "xMat, yMat = mat(dataX), mat(dataY)"
   ]
  },
  {
   "cell_type": "code",
   "execution_count": 16,
   "metadata": {},
   "outputs": [],
   "source": [
    "ws = standRegres(dataX, dataY)"
   ]
  },
  {
   "cell_type": "code",
   "execution_count": 19,
   "metadata": {},
   "outputs": [
    {
     "data": {
      "text/plain": [
       "matrix([[3.00774324],\n",
       "        [1.69532264]])"
      ]
     },
     "execution_count": 19,
     "metadata": {},
     "output_type": "execute_result"
    }
   ],
   "source": [
    "ws"
   ]
  },
  {
   "cell_type": "code",
   "execution_count": 68,
   "metadata": {},
   "outputs": [
    {
     "data": {
      "text/plain": [
       "matrix([[3.12257084],\n",
       "        [3.73301922],\n",
       "        [4.69582855],\n",
       "        [4.25946098],\n",
       "        [4.67099547],\n",
       "        [3.89977285],\n",
       "        [3.65007895],\n",
       "        [3.06514517],\n",
       "        [3.23286683],\n",
       "        [3.24221654]])"
      ]
     },
     "execution_count": 68,
     "metadata": {},
     "output_type": "execute_result"
    }
   ],
   "source": [
    "yHat[:10]"
   ]
  },
  {
   "cell_type": "code",
   "execution_count": 65,
   "metadata": {},
   "outputs": [],
   "source": [
    "xCopy = xMat.copy()"
   ]
  },
  {
   "cell_type": "code",
   "execution_count": 66,
   "metadata": {},
   "outputs": [],
   "source": [
    "xCopy.sort(0)"
   ]
  },
  {
   "cell_type": "code",
   "execution_count": 70,
   "metadata": {},
   "outputs": [],
   "source": [
    "yHat = xCopy * ws"
   ]
  },
  {
   "cell_type": "code",
   "execution_count": 71,
   "metadata": {},
   "outputs": [
    {
     "data": {
      "image/png": "[encoded data removed]",
      "text/plain": [
       "<matplotlib.figure.Figure at 0x92e7eb8>"
      ]
     },
     "metadata": {},
     "output_type": "display_data"
    }
   ],
   "source": [
    "from matplotlib import pyplot as plt\n",
    "fig = plt.figure()\n",
    "ax = fig.add_subplot(111)\n",
    "ax.scatter(xMat[:,1].flatten().A[0], yMat.T[:,0].flatten().A[0])\n",
    "ax.plot(xCopy[:,1], yHat)\n",
    "plt.show()"
   ]
  },
  {
   "cell_type": "code",
   "execution_count": 72,
   "metadata": {},
   "outputs": [],
   "source": [
    "yHat = xMat * ws"
   ]
  },
  {
   "cell_type": "code",
   "execution_count": 75,
   "metadata": {},
   "outputs": [
    {
     "data": {
      "text/plain": [
       "array([[1.        , 0.98647356],\n",
       "       [0.98647356, 1.        ]])"
      ]
     },
     "execution_count": 75,
     "metadata": {},
     "output_type": "execute_result"
    }
   ],
   "source": [
    "corrcoef(yHat.T, yMat)  #行向量yHat.shape:(200, 1) yMat.shape:(1, 200)"
   ]
  },
  {
   "cell_type": "code",
   "execution_count": 78,
   "metadata": {},
   "outputs": [],
   "source": [
    "# 对角线是自身，相关系数是0.98等"
   ]
  },
  {
   "cell_type": "markdown",
   "metadata": {},
   "source": [
    "### 局部加权\n",
    "缺点：增加计算量\n",
    "$$w(i,i) = \\exp{\\frac{(x^{(i)}-x)^2}{-2k^2}}$$"
   ]
  },
  {
   "cell_type": "code",
   "execution_count": 82,
   "metadata": {},
   "outputs": [],
   "source": [
    "def lwlr(testPoint, xArr, yArr, k=1.0):\n",
    "    xMat, yMat = mat(xArr), mat(yArr).T\n",
    "    m = shape(xMat)[0]\n",
    "    weight = mat(eye(m))\n",
    "    for j in range(m):\n",
    "        diffmat = testPoint - xMat[j,:]  # 行向量相减\n",
    "        weight[j, j] = exp(diffmat * diffmat.T / (-2.0 * k**2))\n",
    "    xTx = xMat.T * (weight * xMat)\n",
    "    if linalg.det(xTx) == 0.:\n",
    "        print('it is signal matrix')\n",
    "        return\n",
    "    ws = xTx.I * (xMat.T * weight * yMat)\n",
    "    return testPoint * ws"
   ]
  },
  {
   "cell_type": "code",
   "execution_count": 83,
   "metadata": {},
   "outputs": [],
   "source": [
    "def lwlrTest(testArr, xArr, yArr, k=1.0):\n",
    "    m = shape(testArr)[0]\n",
    "    yHat = zeros(m)\n",
    "    for i in range(m):\n",
    "        yHat[i] = lwlr(testArr[i], xArr, yArr, k)\n",
    "    return yHat"
   ]
  },
  {
   "cell_type": "code",
   "execution_count": 84,
   "metadata": {},
   "outputs": [],
   "source": [
    "xArr, yArr = loadDataSet('ex0.txt')\n",
    "yHat = lwlrTest(xArr, xArr, yArr, 0.003)"
   ]
  },
  {
   "cell_type": "code",
   "execution_count": 90,
   "metadata": {},
   "outputs": [
    {
     "data": {
      "text/plain": [
       "matrix([[1.      , 0.067732],\n",
       "        [1.      , 0.42781 ],\n",
       "        [1.      , 0.995731],\n",
       "        [1.      , 0.738336]])"
      ]
     },
     "execution_count": 90,
     "metadata": {},
     "output_type": "execute_result"
    }
   ],
   "source": [
    "xMat = mat(xArr)\n",
    "xMat[:4]"
   ]
  },
  {
   "cell_type": "code",
   "execution_count": 91,
   "metadata": {},
   "outputs": [
    {
     "data": {
      "text/plain": [
       "matrix([[151],\n",
       "        [ 24],\n",
       "        [  7],\n",
       "        [114],\n",
       "        [ 26]], dtype=int64)"
      ]
     },
     "execution_count": 91,
     "metadata": {},
     "output_type": "execute_result"
    }
   ],
   "source": [
    "strInd = xMat[:,1].argsort(0)\n",
    "strInd[:5]"
   ]
  },
  {
   "cell_type": "code",
   "execution_count": 96,
   "metadata": {},
   "outputs": [
    {
     "data": {
      "text/plain": [
       "matrix([[1.      , 0.014855],\n",
       "        [1.      , 0.015371],\n",
       "        [1.      , 0.033859]])"
      ]
     },
     "execution_count": 96,
     "metadata": {},
     "output_type": "execute_result"
    }
   ],
   "source": [
    "xSort = xMat[strInd][:,0,:]\n",
    "xSort[:3]"
   ]
  },
  {
   "cell_type": "code",
   "execution_count": 99,
   "metadata": {},
   "outputs": [
    {
     "data": {
      "image/png": "[encoded data removed]",
      "text/plain": [
       "<matplotlib.figure.Figure at 0x9ac3ef0>"
      ]
     },
     "metadata": {},
     "output_type": "display_data"
    }
   ],
   "source": [
    "import matplotlib.pyplot as plt\n",
    "fig = plt.figure()\n",
    "ax = fig.add_subplot(111)\n",
    "ax.plot(xSort[:,1], yHat[strInd])\n",
    "ax.scatter(xMat[:,1].flatten().A[0], mat(yArr).T.flatten().A[0], s=2, c='r')\n",
    "plt.show()"
   ]
  },
  {
   "cell_type": "markdown",
   "metadata": {},
   "source": [
    "### 预测鲍鱼年龄"
   ]
  },
  {
   "cell_type": "code",
   "execution_count": 100,
   "metadata": {},
   "outputs": [],
   "source": [
    "def rssError(yArr, yHatArr):\n",
    "    return ((yArr - yHatArr)**2).sum()"
   ]
  },
  {
   "cell_type": "code",
   "execution_count": 7,
   "metadata": {},
   "outputs": [],
   "source": [
    "abX, abY = loadDataSet('abalone.txt')"
   ]
  },
  {
   "cell_type": "code",
   "execution_count": 103,
   "metadata": {},
   "outputs": [],
   "source": [
    "yHat01 = lwlrTest(abX[:99], abX[:99], abY[:99], 0.1)\n",
    "yHat1 = lwlrTest(abX[:99], abX[:99], abY[:99], 1)\n",
    "yHat10 = lwlrTest(abX[:99], abX[:99], abY[:99], 10)"
   ]
  },
  {
   "cell_type": "code",
   "execution_count": 104,
   "metadata": {},
   "outputs": [
    {
     "name": "stdout",
     "output_type": "stream",
     "text": [
      "56.79057224873831 429.89056186979974 549.1181708827622\n"
     ]
    }
   ],
   "source": [
    "rss01 = rssError(abY[:99], yHat01)\n",
    "rss1 = rssError(abY[:99], yHat1)\n",
    "rss10 = rssError(abY[:99], yHat10)\n",
    "print(rss01, rss1, rss10)"
   ]
  },
  {
   "cell_type": "code",
   "execution_count": 109,
   "metadata": {},
   "outputs": [
    {
     "name": "stdout",
     "output_type": "stream",
     "text": [
      "551.0449986947922\n"
     ]
    }
   ],
   "source": [
    "ws = standRegres(abX[:99], abY[:99])\n",
    "yHat = mat(abX[:99])*ws\n",
    "rss = rssError(abY[:99], yHat.T.A)\n",
    "print(rss)"
   ]
  },
  {
   "cell_type": "markdown",
   "metadata": {},
   "source": [
    "## 岭回归\n",
    "特征数多于样本数，L2正则，缩减不重要的参数，因为对于每个$W_i$使用的$\\lambda$都行相同，所以数据需要标准化\n",
    "$$\\hat{w} = (X^TX + \\lambda I)^{-1}X^Ty$$"
   ]
  },
  {
   "cell_type": "code",
   "execution_count": 1,
   "metadata": {},
   "outputs": [],
   "source": [
    "def ridgeRegres(xMat, yMat, lam=0.2):\n",
    "    xTx = xMat.T * xMat\n",
    "    denom = xTx + lam * eye(shape(xMat)[1])  # xMat是行向量\n",
    "    if linalg.det(denom) == 0.:\n",
    "        print('the matrix is signal')\n",
    "        return\n",
    "    ws = denom.I * (xMat.T * yMat)\n",
    "    return ws"
   ]
  },
  {
   "cell_type": "markdown",
   "metadata": {},
   "source": [
    "#### 数据标准化"
   ]
  },
  {
   "cell_type": "code",
   "execution_count": 2,
   "metadata": {},
   "outputs": [],
   "source": [
    "def ridgeTest(xArr, yArr):\n",
    "    xMat, yMat = mat(xArr), mat(yArr).T\n",
    "    yMean = mean(yMat,0)\n",
    "    yHat = yMat - yMean\n",
    "    xMean = mean(xMat,0)\n",
    "    xVar = var(xMat, 0)\n",
    "    xMat = (xMat -xMean)/xVar\n",
    "    numTest = 30\n",
    "    wMat = zeros((numTest, shape(xMat)[1]))\n",
    "    for i in range(numTest):\n",
    "        ws = ridgeRegres(xMat, yMat, exp(i-10))\n",
    "        wMat[i,:] = ws.T\n",
    "    return wMat"
   ]
  },
  {
   "cell_type": "code",
   "execution_count": 8,
   "metadata": {},
   "outputs": [],
   "source": [
    "abX, abY = loadDataSet('abalone.txt')"
   ]
  },
  {
   "cell_type": "code",
   "execution_count": 16,
   "metadata": {},
   "outputs": [
    {
     "data": {
      "text/plain": [
       "array([[ 0.04304419, -0.02274163,  0.13214088,  0.02075182,  2.22403745,\n",
       "        -0.99895298, -0.11725424,  0.16622922],\n",
       "       [ 0.04304419, -0.02274164,  0.13214088,  0.02075182,  2.22403626,\n",
       "        -0.99895275, -0.11725417,  0.16622934],\n",
       "       [ 0.04304419, -0.02274164,  0.13214088,  0.02075182,  2.22403305,\n",
       "        -0.99895211, -0.117254  ,  0.16622966],\n",
       "       [ 0.04304417, -0.02274166,  0.1321409 ,  0.02075182,  2.22402431,\n",
       "        -0.99895038, -0.11725354,  0.16623052],\n",
       "       [ 0.04304413, -0.02274171,  0.13214096,  0.02075183,  2.22400054,\n",
       "        -0.99894568, -0.11725227,  0.16623286]])"
      ]
     },
     "execution_count": 16,
     "metadata": {},
     "output_type": "execute_result"
    }
   ],
   "source": [
    "ridgeWeights = ridgeTest(abX, abY)\n",
    "ridgeWeights[:5]"
   ]
  },
  {
   "cell_type": "code",
   "execution_count": 12,
   "metadata": {},
   "outputs": [
    {
     "data": {
      "image/png": "[encoded data removed]",
      "text/plain": [
       "<matplotlib.figure.Figure at 0x8cad9e8>"
      ]
     },
     "metadata": {},
     "output_type": "display_data"
    }
   ],
   "source": [
    "import matplotlib.pyplot as plt\n",
    "fig = plt.figure()\n",
    "ax = fig.add_subplot(111)\n",
    "ax.plot(ridgeWeights)\n",
    "plt.show()"
   ]
  },
  {
   "cell_type": "markdown",
   "metadata": {},
   "source": [
    "### 前向逐步回归代替Lasso"
   ]
  },
  {
   "cell_type": "code",
   "execution_count": null,
   "metadata": {},
   "outputs": [],
   "source": [
    "# def stageWise(xArr, yArr, eps=0.01, numIt= 100):\n",
    "#     xMat, yMat = mat(xArr), mat(yArr).T\n",
    "#     yMean = mean(yMat, 0)\n",
    "#     yMat = yMat - yMean\n",
    "#     xMat = regularize(xMat)\n",
    "#     m, n = shape(xMat)\n",
    "#     returnMat = zeros((numIt, n))\n",
    "#     ws, wsTest, wsMax = zeros((n,1)), ws.copy(), ws.copy()\n",
    "#     for i in range(numIt):\n",
    "#         print ws.T\n",
    "#     lowestError = inf\n",
    "#     for j in range(n):\n",
    "#         for sign in [-1,1]:\n",
    "#             wsTest = ws.copy()\n",
    "#             wsTest[j] += eps*sign\n",
    "            \n",
    "        "
   ]
  },
  {
   "cell_type": "markdown",
   "metadata": {},
   "source": [
    "### 期望损失 = 偏差^2 + 方差 +噪声"
   ]
  },
  {
   "cell_type": "code",
   "execution_count": null,
   "metadata": {},
   "outputs": [],
   "source": []
  }
 ],
 "metadata": {
  "kernelspec": {
   "display_name": "Python 3",
   "language": "python",
   "name": "python3"
  },
  "language_info": {
   "codemirror_mode": {
    "name": "ipython",
    "version": 3
   },
   "file_extension": ".py",
   "mimetype": "text/x-python",
   "name": "python",
   "nbconvert_exporter": "python",
   "pygments_lexer": "ipython3",
   "version": "3.6.4"
  }
 },
 "nbformat": 4,
 "nbformat_minor": 2
}
