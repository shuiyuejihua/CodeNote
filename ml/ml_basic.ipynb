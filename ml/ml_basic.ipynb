{
 "cells": [
  {
   "cell_type": "markdown",
   "metadata": {},
   "source": [
    "# Machine Learning 基础\n",
    "主要内容包含数学、线性代数、概率数理统计等方面的，机器学习基础知识"
   ]
  },
  {
   "cell_type": "markdown",
   "metadata": {},
   "source": [
    "### 数学"
   ]
  },
  {
   "cell_type": "markdown",
   "metadata": {},
   "source": [
    "- **梯度**"
   ]
  },
  {
   "cell_type": "markdown",
   "metadata": {},
   "source": [
    "- **泰勒展开**  \n",
    "多项式去估计、拟合那些复杂的函数"
   ]
  },
  {
   "cell_type": "markdown",
   "metadata": {},
   "source": [
    "- 牛顿下降"
   ]
  },
  {
   "cell_type": "markdown",
   "metadata": {},
   "source": [
    "- 梯度下降"
   ]
  },
  {
   "cell_type": "markdown",
   "metadata": {},
   "source": [
    "### 概率统计"
   ]
  },
  {
   "cell_type": "markdown",
   "metadata": {},
   "source": [
    "- 期望方差"
   ]
  },
  {
   "cell_type": "markdown",
   "metadata": {},
   "source": [
    "期望：$E(x) = \\sum{x_ip_i}$  $E(x) = \\int_{-}^{+} xf(x)dx$"
   ]
  },
  {
   "cell_type": "markdown",
   "metadata": {},
   "source": [
    "方差：$D(x) = Var(x) = E[x-E(x)]^2 = E(x^2)-[E(x)]^2$"
   ]
  },
  {
   "cell_type": "markdown",
   "metadata": {},
   "source": [
    "协方差：$Cov(X, Y) = E{[[x-E(x)][y-E(y)]]} = E(xy) - E(x)E(y)$  \n",
    "大于0，变化趋势相同，小于0，变化趋势相反，$|Cov(X, Y)|<=\\sigma _1 \\sigma _2$，线性相关取="
   ]
  },
  {
   "cell_type": "markdown",
   "metadata": {},
   "source": [
    "相关系数：$$\\rho_{xy} = \\frac {Cov(x,y)}{\\sqrt{Var(x)Var(y)}} <= 1$$\n",
    "其等于0，表示不相关，没有线性关系，但是不代表不独立，没有关系"
   ]
  },
  {
   "cell_type": "markdown",
   "metadata": {},
   "source": [
    "原点矩$E(x^k)$，中心矩$E[x-E(x)]^k$，k=3,表示偏度，正偏，负偏；k=4，超值峰度"
   ]
  },
  {
   "cell_type": "markdown",
   "metadata": {},
   "source": [
    "- 伯努利定理 大数定理  "
   ]
  },
  {
   "cell_type": "markdown",
   "metadata": {},
   "source": [
    "频率接近概率"
   ]
  },
  {
   "cell_type": "markdown",
   "metadata": {},
   "source": [
    "- 中心极限定理  "
   ]
  },
  {
   "cell_type": "markdown",
   "metadata": {},
   "source": [
    "随机变量相互独立，服从同一分布，有相同的期望、方差，则$Y_n = \\frac{\\sum _{i=1}^{n} X_i - n\\mu}{\\sqrt n\\sigma}$的分布收敛到标准正态分布，$\\sum _{i=1}^{n}X_i - n\\mu $收敛到正态分布$N(n\\mu,n\\sigma^2)$"
   ]
  },
  {
   "cell_type": "markdown",
   "metadata": {},
   "source": [
    "- 矩估计  "
   ]
  },
  {
   "cell_type": "markdown",
   "metadata": {},
   "source": [
    "用原点矩、中心矩去估计总体矩"
   ]
  },
  {
   "cell_type": "markdown",
   "metadata": {},
   "source": [
    "- 最大似然估计  "
   ]
  },
  {
   "cell_type": "markdown",
   "metadata": {},
   "source": [
    "似然函数，联合概率密度函数$$L(\\theta) = \\prod_{i=1}^n P(x_i;\\theta)$$"
   ]
  },
  {
   "cell_type": "markdown",
   "metadata": {},
   "source": [
    "- 无偏估计和有偏估计"
   ]
  },
  {
   "cell_type": "markdown",
   "metadata": {},
   "source": [
    "从样本数据上得到的参数去估计总体的参数。如果这个样本估计参数多次估计的期望等于总体参数，那么就是无偏估计  \n",
    "- 点估计，多个点估计得到的平均值，去估计这个点，就是无偏估计；\n",
    "- 样本的方差去估计总体的方差，就是无偏估计\n",
    "- 样本的标准差就不是总体的无偏估计"
   ]
  },
  {
   "cell_type": "markdown",
   "metadata": {},
   "source": [
    "- 贝叶斯"
   ]
  },
  {
   "cell_type": "markdown",
   "metadata": {},
   "source": [
    "贝叶斯：$$P(\\theta|x) = \\frac{P(x|\\theta)P(\\theta)}{P(x)}$$ 其中$P(\\theta)$，代表先验概率，也就是没有数据作为参考，得出的概率；而对应的，$P(\\theta|x)$为后验概率，表示在知道数据$x$的情况下，对$P(\\theta)$作出的概率；$P(x|\\theta)$给个参数$\\theta$后X发生的概率，似然函数"
   ]
  },
  {
   "cell_type": "markdown",
   "metadata": {},
   "source": [
    "- 均匀分布"
   ]
  },
  {
   "cell_type": "markdown",
   "metadata": {},
   "source": [
    "- 二项分布-泊松分布"
   ]
  },
  {
   "cell_type": "markdown",
   "metadata": {},
   "source": [
    "- 正态分布"
   ]
  },
  {
   "cell_type": "markdown",
   "metadata": {},
   "source": [
    "- 指数分布"
   ]
  },
  {
   "cell_type": "markdown",
   "metadata": {},
   "source": [
    "### 线性代数"
   ]
  },
  {
   "cell_type": "markdown",
   "metadata": {},
   "source": [
    "- 矩阵的逆\n",
    "$$A*A^* = |A|* I$ , $A^{-1} = |A|^{-1} * A^*$$"
   ]
  },
  {
   "cell_type": "markdown",
   "metadata": {},
   "source": [
    "-  概率转移矩阵"
   ]
  },
  {
   "cell_type": "markdown",
   "metadata": {},
   "source": [
    "- 特征向量"
   ]
  },
  {
   "cell_type": "markdown",
   "metadata": {},
   "source": [
    "- 矩阵和向量乘法"
   ]
  },
  {
   "cell_type": "markdown",
   "metadata": {},
   "source": [
    "平移、旋转变换"
   ]
  },
  {
   "cell_type": "markdown",
   "metadata": {},
   "source": [
    "-  矩阵的秩与方程的解"
   ]
  },
  {
   "cell_type": "markdown",
   "metadata": {},
   "source": [
    "- 正交矩阵\n",
    "$$A^T A = I $$"
   ]
  },
  {
   "cell_type": "markdown",
   "metadata": {},
   "source": [
    "- 对称阵"
   ]
  },
  {
   "cell_type": "markdown",
   "metadata": {},
   "source": [
    "实对称矩阵不同特征值对应的特征向量正交"
   ]
  },
  {
   "cell_type": "markdown",
   "metadata": {},
   "source": [
    "- 特征值特征向量"
   ]
  },
  {
   "cell_type": "markdown",
   "metadata": {},
   "source": [
    "-  对角阵\n",
    "合同变换"
   ]
  },
  {
   "cell_type": "markdown",
   "metadata": {},
   "source": [
    "- 白化\n",
    "转为正交"
   ]
  },
  {
   "cell_type": "markdown",
   "metadata": {},
   "source": [
    "- 正定阵"
   ]
  },
  {
   "cell_type": "markdown",
   "metadata": {},
   "source": [
    "$X^TAX>0$，正定的。$X^TAX>=0$，半正定  \n",
    "对称阵正定的，正定矩阵的特征值为正，顺序主子式大于0"
   ]
  },
  {
   "cell_type": "markdown",
   "metadata": {},
   "source": [
    "- 向量求导  \n",
    "$\\theta$或者$X$为列向量时，分母布局"
   ]
  },
  {
   "cell_type": "markdown",
   "metadata": {},
   "source": [
    "$$\\frac{\\partial A X}{\\partial X} = A^T$$ $$\\frac{\\partial A X}{\\partial X^T} = A $$ $$\\frac{\\partial X ^T A}{\\partial X} = A$$\n",
    "$$\\frac{\\partial X ^T A X}{\\partial X} =(A+ A^T)X$$"
   ]
  },
  {
   "cell_type": "markdown",
   "metadata": {},
   "source": [
    "- QR分解  \n",
    "矩阵分解成一个正交矩阵与一个上三角矩阵的积"
   ]
  },
  {
   "cell_type": "markdown",
   "metadata": {},
   "source": [
    "- 凸优化"
   ]
  },
  {
   "cell_type": "markdown",
   "metadata": {},
   "source": [
    "- 特征值分解\n",
    "方阵$$A=Q\\sum Q^{-1}$$"
   ]
  },
  {
   "cell_type": "markdown",
   "metadata": {},
   "source": [
    "- SVD分解"
   ]
  },
  {
   "cell_type": "markdown",
   "metadata": {},
   "source": [
    "不是方阵$$A=U_{m*m} \\sum_{m*n} V_{n*m}^T$$  \n",
    "$$(A^TA)v_i=\\lambda v_i $$ $$\\sigma_i=\\sqrt{\\lambda_i} $$ $$\\sigma_i=\\sqrt{\\lambda_i}$$"
   ]
  },
  {
   "cell_type": "markdown",
   "metadata": {},
   "source": [
    "### 误差选择"
   ]
  },
  {
   "cell_type": "markdown",
   "metadata": {},
   "source": [
    "**RMSLE**"
   ]
  },
  {
   "cell_type": "markdown",
   "metadata": {},
   "source": [
    "$$\\sqrt{\\frac{1}{n} \\sum_{i=1}^n (\\log(p_i + 1) - \\log(a_i+1))^2 }$$"
   ]
  },
  {
   "cell_type": "markdown",
   "metadata": {},
   "source": [
    "预测值$P_i$和实际值$a_i$都比较大，+1是防止log0，惩罚欠拟合"
   ]
  },
  {
   "cell_type": "markdown",
   "metadata": {},
   "source": [
    "### 机器学习基础"
   ]
  },
  {
   "cell_type": "markdown",
   "metadata": {},
   "source": [
    "#### 模型分类"
   ]
  },
  {
   "cell_type": "markdown",
   "metadata": {},
   "source": [
    "- 条件概率、联合概率、边缘概率"
   ]
  },
  {
   "cell_type": "markdown",
   "metadata": {},
   "source": [
    "边缘概率是对应联合概率的加和  \n",
    "条件概率不一样"
   ]
  },
  {
   "cell_type": "markdown",
   "metadata": {},
   "source": [
    "- 判别式模型"
   ]
  },
  {
   "cell_type": "markdown",
   "metadata": {},
   "source": [
    "> **对条件概率进行建模P(x|y)**"
   ]
  },
  {
   "cell_type": "markdown",
   "metadata": {},
   "source": [
    "包括线性回归、决策树、支持向量机、k近邻、神经网络"
   ]
  },
  {
   "cell_type": "markdown",
   "metadata": {},
   "source": [
    "- 判别式模型"
   ]
  },
  {
   "cell_type": "markdown",
   "metadata": {},
   "source": [
    ">**对联合概率P(x,y)进行建模**"
   ]
  },
  {
   "cell_type": "markdown",
   "metadata": {},
   "source": [
    "包括马尔科夫HMM、朴素贝叶斯、高斯混合模型GMM、LDA"
   ]
  },
  {
   "cell_type": "markdown",
   "metadata": {},
   "source": [
    "#### 机器学习流程注意"
   ]
  },
  {
   "cell_type": "markdown",
   "metadata": {},
   "source": [
    "> 收集数据----预处理---提取特征---构建模型---评估模型---部署上线"
   ]
  },
  {
   "cell_type": "markdown",
   "metadata": {},
   "source": [
    "- 部署上线："
   ]
  },
  {
   "cell_type": "markdown",
   "metadata": {},
   "source": [
    "数据分2分：一部份模型数据、一部份留作对比测试  \n",
    "模型数据：分作2份，一份模型，一份预留测试"
   ]
  },
  {
   "cell_type": "markdown",
   "metadata": {},
   "source": []
  },
  {
   "cell_type": "markdown",
   "metadata": {},
   "source": []
  },
  {
   "cell_type": "markdown",
   "metadata": {},
   "source": []
  },
  {
   "cell_type": "markdown",
   "metadata": {},
   "source": []
  },
  {
   "cell_type": "markdown",
   "metadata": {},
   "source": []
  },
  {
   "cell_type": "markdown",
   "metadata": {},
   "source": []
  },
  {
   "cell_type": "markdown",
   "metadata": {},
   "source": []
  },
  {
   "cell_type": "markdown",
   "metadata": {},
   "source": []
  },
  {
   "cell_type": "markdown",
   "metadata": {},
   "source": []
  },
  {
   "cell_type": "markdown",
   "metadata": {},
   "source": []
  },
  {
   "cell_type": "markdown",
   "metadata": {},
   "source": []
  },
  {
   "cell_type": "markdown",
   "metadata": {},
   "source": []
  },
  {
   "cell_type": "markdown",
   "metadata": {},
   "source": []
  },
  {
   "cell_type": "markdown",
   "metadata": {},
   "source": []
  },
  {
   "cell_type": "markdown",
   "metadata": {},
   "source": []
  },
  {
   "cell_type": "markdown",
   "metadata": {},
   "source": []
  },
  {
   "cell_type": "markdown",
   "metadata": {},
   "source": []
  },
  {
   "cell_type": "markdown",
   "metadata": {},
   "source": []
  },
  {
   "cell_type": "markdown",
   "metadata": {},
   "source": []
  },
  {
   "cell_type": "markdown",
   "metadata": {},
   "source": []
  },
  {
   "cell_type": "markdown",
   "metadata": {},
   "source": []
  },
  {
   "cell_type": "markdown",
   "metadata": {},
   "source": []
  },
  {
   "cell_type": "markdown",
   "metadata": {},
   "source": []
  },
  {
   "cell_type": "markdown",
   "metadata": {},
   "source": []
  },
  {
   "cell_type": "markdown",
   "metadata": {},
   "source": []
  },
  {
   "cell_type": "markdown",
   "metadata": {},
   "source": []
  },
  {
   "cell_type": "markdown",
   "metadata": {},
   "source": []
  },
  {
   "cell_type": "markdown",
   "metadata": {},
   "source": []
  },
  {
   "cell_type": "markdown",
   "metadata": {},
   "source": []
  },
  {
   "cell_type": "markdown",
   "metadata": {},
   "source": []
  },
  {
   "cell_type": "markdown",
   "metadata": {},
   "source": []
  },
  {
   "cell_type": "markdown",
   "metadata": {},
   "source": []
  },
  {
   "cell_type": "markdown",
   "metadata": {},
   "source": []
  },
  {
   "cell_type": "markdown",
   "metadata": {},
   "source": []
  },
  {
   "cell_type": "markdown",
   "metadata": {},
   "source": []
  },
  {
   "cell_type": "markdown",
   "metadata": {},
   "source": []
  },
  {
   "cell_type": "markdown",
   "metadata": {},
   "source": []
  },
  {
   "cell_type": "markdown",
   "metadata": {},
   "source": []
  },
  {
   "cell_type": "markdown",
   "metadata": {},
   "source": []
  },
  {
   "cell_type": "markdown",
   "metadata": {},
   "source": []
  },
  {
   "cell_type": "markdown",
   "metadata": {},
   "source": []
  },
  {
   "cell_type": "markdown",
   "metadata": {},
   "source": []
  },
  {
   "cell_type": "markdown",
   "metadata": {},
   "source": []
  },
  {
   "cell_type": "markdown",
   "metadata": {},
   "source": []
  },
  {
   "cell_type": "markdown",
   "metadata": {},
   "source": []
  }
 ],
 "metadata": {
  "kernelspec": {
   "display_name": "Python 3",
   "language": "python",
   "name": "python3"
  },
  "language_info": {
   "codemirror_mode": {
    "name": "ipython",
    "version": 3
   },
   "file_extension": ".py",
   "mimetype": "text/x-python",
   "name": "python",
   "nbconvert_exporter": "python",
   "pygments_lexer": "ipython3",
   "version": "3.6.4"
  }
 },
 "nbformat": 4,
 "nbformat_minor": 2
}
