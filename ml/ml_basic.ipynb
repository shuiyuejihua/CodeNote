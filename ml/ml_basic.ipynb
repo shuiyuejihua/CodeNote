{
 "cells": [
  {
   "cell_type": "markdown",
   "metadata": {},
   "source": [
    "# Machine Learning 基础\n",
    "主要内容包含数学、线性代数、概率数理统计等方面的，机器学习基础知识"
   ]
  },
  {
   "cell_type": "markdown",
   "metadata": {},
   "source": [
    "## 数学"
   ]
  },
  {
   "cell_type": "markdown",
   "metadata": {},
   "source": [
    "- **梯度**"
   ]
  },
  {
   "cell_type": "markdown",
   "metadata": {},
   "source": [
    "- **泰勒展开**  \n",
    "多项式去估计、拟合那些复杂的函数"
   ]
  },
  {
   "cell_type": "markdown",
   "metadata": {},
   "source": [
    "- 牛顿下降"
   ]
  },
  {
   "cell_type": "markdown",
   "metadata": {},
   "source": [
    "- 梯度下降"
   ]
  },
  {
   "cell_type": "markdown",
   "metadata": {},
   "source": [
    "## 概率\n",
    "利用模型、概率推断预测数据"
   ]
  },
  {
   "cell_type": "markdown",
   "metadata": {},
   "source": [
    "### 期望方差"
   ]
  },
  {
   "cell_type": "markdown",
   "metadata": {},
   "source": [
    "期望：$E(x) = \\sum{x_ip_i}$  $E(x) = \\int_{-}^{+} xf(x)dx$"
   ]
  },
  {
   "cell_type": "markdown",
   "metadata": {},
   "source": [
    "方差：$D(x) = Var(x) = E[x-E(x)]^2 = E(x^2)-[E(x)]^2$"
   ]
  },
  {
   "cell_type": "markdown",
   "metadata": {},
   "source": [
    "协方差：$Cov(X, Y) = E{[[x-E(x)][y-E(y)]]} = E(xy) - E(x)E(y)$  \n",
    "大于0，变化趋势相同，小于0，变化趋势相反，$|Cov(X, Y)|<=\\sigma _1 \\sigma _2$，线性相关取="
   ]
  },
  {
   "cell_type": "markdown",
   "metadata": {},
   "source": [
    "相关系数：$$\\rho_{xy} = \\frac {Cov(x,y)}{\\sqrt{Var(x)Var(y)}} <= 1$$\n",
    "其等于0，表示不相关，没有线性关系，但是不代表不独立，没有关系"
   ]
  },
  {
   "cell_type": "markdown",
   "metadata": {},
   "source": [
    "原点矩$E(x^k)$，中心矩$E[x-E(x)]^k$，k=3,表示偏度，正偏，负偏；k=4，超值峰度"
   ]
  },
  {
   "cell_type": "markdown",
   "metadata": {},
   "source": [
    "- 伯努利定理 大数定理  "
   ]
  },
  {
   "cell_type": "markdown",
   "metadata": {},
   "source": [
    "频率接近概率"
   ]
  },
  {
   "cell_type": "markdown",
   "metadata": {},
   "source": [
    "- 中心极限定理  "
   ]
  },
  {
   "cell_type": "markdown",
   "metadata": {},
   "source": [
    "随机变量相互独立，服从同一分布，有相同的期望、方差，则$Y_n = \\frac{\\sum _{i=1}^{n} X_i - n\\mu}{\\sqrt n\\sigma}$的分布收敛到标准正态分布，$\\sum _{i=1}^{n}X_i - n\\mu $收敛到正态分布$N(n\\mu,n\\sigma^2)$"
   ]
  },
  {
   "cell_type": "markdown",
   "metadata": {},
   "source": [
    "- 矩估计  "
   ]
  },
  {
   "cell_type": "markdown",
   "metadata": {},
   "source": [
    "用原点矩、中心矩去估计总体矩"
   ]
  },
  {
   "cell_type": "markdown",
   "metadata": {},
   "source": [
    "- 最大似然估计  "
   ]
  },
  {
   "cell_type": "markdown",
   "metadata": {},
   "source": [
    "先假设出一种分布。“模型已定，参数未知”。通过若干次试验，观察其结果，利用试验结果得到某个参数值能够使样本出现的概率为最大，则称为极大似然估计"
   ]
  },
  {
   "cell_type": "markdown",
   "metadata": {},
   "source": [
    "似然函数，联合概率密度函数$$L(\\theta)=P(D|\\theta) = P(x1,x2,x3,...|\\theta) =\\prod_{i=1}^n P(x_i;\\theta)$$\n",
    "$\\theta $在参数空间中是能让$L(\\theta)$取最大，则$\\theta $为极大似然估计值"
   ]
  },
  {
   "cell_type": "markdown",
   "metadata": {},
   "source": [
    "- 无偏估计和有偏估计"
   ]
  },
  {
   "cell_type": "markdown",
   "metadata": {},
   "source": [
    "从样本数据上得到的参数去估计总体的参数。如果这个样本估计参数多次估计的期望等于总体参数，那么就是无偏估计  \n",
    "- 点估计，多个点估计得到的平均值，去估计这个点，就是无偏估计；\n",
    "- 样本的方差去估计总体的方差，就是无偏估计\n",
    "- 样本的标准差就不是总体的无偏估计"
   ]
  },
  {
   "cell_type": "markdown",
   "metadata": {},
   "source": [
    "- 贝叶斯"
   ]
  },
  {
   "cell_type": "markdown",
   "metadata": {},
   "source": [
    "贝叶斯：$$P(\\theta|x) = \\frac{P(x|\\theta)P(\\theta)}{P(x)}$$ 其中$P(\\theta)$，代表先验概率，也就是没有数据作为参考，得出的概率；而对应的，$P(\\theta|x)$为后验概率，表示在知道数据$x$的情况下，对$P(\\theta)$作出的概率；$P(x|\\theta)$给个参数$\\theta$后X发生的概率，似然函数"
   ]
  },
  {
   "cell_type": "markdown",
   "metadata": {},
   "source": [
    "### 分布"
   ]
  },
  {
   "cell_type": "markdown",
   "metadata": {},
   "source": [
    "- 排列组合  \n",
    ">排列：$A_n^k$，组合：$C_n^k$"
   ]
  },
  {
   "cell_type": "markdown",
   "metadata": {},
   "source": [
    "比如抛5次硬币，2次朝上：  \n",
    "> 排列=$5*4$；组合=$5*4/(2*1)$"
   ]
  },
  {
   "cell_type": "markdown",
   "metadata": {},
   "source": [
    "- 均匀分布"
   ]
  },
  {
   "cell_type": "markdown",
   "metadata": {},
   "source": [
    "- 伯努利分布\n",
    ">一次二项分布\n",
    "$f(x) = P^x(1-p)^{1-x}$，x只取0，1。x=0,f(x) = 1-p；x=1,f(x) = p  \n",
    "期望$E = \\sum{x*P(x)} = 1*p+0*(1-p)=p$；方差$D(x) = E(x^2)-E(x)^2 = p(1-p) = pq$"
   ]
  },
  {
   "cell_type": "markdown",
   "metadata": {},
   "source": [
    "- 二项分布  \n",
    ">硬币正面朝上概率p，抛n次硬币，有k次正面朝上，概率：  \n",
    "$$\\pi = C_n ^k p^k(1-p)^{n-k}$$\n",
    "期望：np；方差：npq"
   ]
  },
  {
   "cell_type": "markdown",
   "metadata": {},
   "source": [
    "比如：p=0.8，抛5次，有3次正面朝上，概率为：$C_5^3*0.8^3*0.2^2 $"
   ]
  },
  {
   "cell_type": "markdown",
   "metadata": {},
   "source": [
    "- 正态分布"
   ]
  },
  {
   "cell_type": "markdown",
   "metadata": {},
   "source": [
    "- 指数分布"
   ]
  },
  {
   "cell_type": "markdown",
   "metadata": {},
   "source": [
    "## 统计\n",
    "利用数据推断模型，原因"
   ]
  },
  {
   "cell_type": "markdown",
   "metadata": {},
   "source": [
    "### 描述统计学\n",
    "**center、spread、shape、outliers**，描述收集的数据"
   ]
  },
  {
   "cell_type": "markdown",
   "metadata": {},
   "source": [
    "- 集中趋势测量center  \n"
   ]
  },
  {
   "cell_type": "markdown",
   "metadata": {},
   "source": [
    "均值：mean  \n",
    "中位数：medium  \n",
    "众数：mode出现次数多的"
   ]
  },
  {
   "cell_type": "markdown",
   "metadata": {},
   "source": [
    "- 离散程度spread  \n"
   ]
  },
  {
   "cell_type": "markdown",
   "metadata": {},
   "source": [
    "值域：range  \n",
    "四分位差 (IQR)：inter-quartile-range-(Q3-Q1)  \n",
    "标准差:standard deviation  \n",
    "方差：variance  "
   ]
  },
  {
   "cell_type": "markdown",
   "metadata": {},
   "source": [
    "可视化理解方便：直方图 "
   ]
  },
  {
   "cell_type": "markdown",
   "metadata": {},
   "source": [
    "5数概括描述：  \n",
    "最小值： 数据集中的最小值。  \n",
    "${Q_1}$ （第一四分位数）：排序后数据第 25% 处的值。  \n",
    "${Q_2}$（中位数）：排序后数据第 50% 处的值。  \n",
    "${Q_3}$（第三四分位数）：排序后数据第 75% 处的值。    \n",
    "最大值： 数据集中的最大值  "
   ]
  },
  {
   "cell_type": "markdown",
   "metadata": {},
   "source": [
    "如果只用一个数字来描述两个分布图的离散程度：方差"
   ]
  },
  {
   "cell_type": "markdown",
   "metadata": {},
   "source": []
  },
  {
   "cell_type": "markdown",
   "metadata": {},
   "source": []
  },
  {
   "cell_type": "markdown",
   "metadata": {},
   "source": [
    "### 推论统计学\n",
    "使用样本数据推论总体数据"
   ]
  },
  {
   "cell_type": "markdown",
   "metadata": {},
   "source": [
    "总体 —— 我们想要研究的整个群体。  \n",
    "参数 —— 描述总体的数值摘要  \n",
    "样本 —— 总体的子集  \n",
    "统计量 —— 描述样本的数值摘要  "
   ]
  },
  {
   "cell_type": "markdown",
   "metadata": {},
   "source": []
  },
  {
   "cell_type": "markdown",
   "metadata": {},
   "source": [
    "## 线性代数"
   ]
  },
  {
   "cell_type": "markdown",
   "metadata": {},
   "source": [
    "- 矩阵的逆\n",
    "$$A*A^* = |A|* I, A^{-1} = |A|^{-1} * A^*$$"
   ]
  },
  {
   "cell_type": "markdown",
   "metadata": {},
   "source": [
    "-  概率转移矩阵"
   ]
  },
  {
   "cell_type": "markdown",
   "metadata": {},
   "source": [
    "- 特征向量"
   ]
  },
  {
   "cell_type": "markdown",
   "metadata": {},
   "source": [
    "- 矩阵和向量乘法"
   ]
  },
  {
   "cell_type": "markdown",
   "metadata": {},
   "source": [
    "平移、旋转变换"
   ]
  },
  {
   "cell_type": "markdown",
   "metadata": {},
   "source": [
    "-  矩阵的秩与方程的解"
   ]
  },
  {
   "cell_type": "markdown",
   "metadata": {},
   "source": [
    "- 正交矩阵\n",
    "$$A^T A = I $$"
   ]
  },
  {
   "cell_type": "markdown",
   "metadata": {},
   "source": [
    "- 对称阵"
   ]
  },
  {
   "cell_type": "markdown",
   "metadata": {},
   "source": [
    "实对称矩阵不同特征值对应的特征向量正交"
   ]
  },
  {
   "cell_type": "markdown",
   "metadata": {},
   "source": [
    "- 特征值特征向量"
   ]
  },
  {
   "cell_type": "markdown",
   "metadata": {},
   "source": [
    "-  对角阵\n",
    "合同变换"
   ]
  },
  {
   "cell_type": "markdown",
   "metadata": {},
   "source": [
    "- 白化\n",
    "转为正交"
   ]
  },
  {
   "cell_type": "markdown",
   "metadata": {},
   "source": [
    "- 正定阵"
   ]
  },
  {
   "cell_type": "markdown",
   "metadata": {},
   "source": [
    "$X^TAX>0$，正定的。$X^TAX>=0$，半正定  \n",
    "对称阵正定的，正定矩阵的特征值为正，顺序主子式大于0"
   ]
  },
  {
   "cell_type": "markdown",
   "metadata": {},
   "source": [
    "- 向量求导  \n",
    "$\\theta$或者$X$为列向量时，分母布局"
   ]
  },
  {
   "cell_type": "markdown",
   "metadata": {},
   "source": [
    "$$\\frac{\\partial A X}{\\partial X} = A^T$$ $$\\frac{\\partial A X}{\\partial X^T} = A $$ $$\\frac{\\partial X ^T A}{\\partial X} = A$$\n",
    "$$\\frac{\\partial X ^T A X}{\\partial X} =(A+ A^T)X$$"
   ]
  },
  {
   "cell_type": "markdown",
   "metadata": {},
   "source": [
    "- QR分解  \n",
    "矩阵分解成一个正交矩阵与一个上三角矩阵的积"
   ]
  },
  {
   "cell_type": "markdown",
   "metadata": {},
   "source": [
    "- 凸优化"
   ]
  },
  {
   "cell_type": "markdown",
   "metadata": {},
   "source": [
    "- 特征值分解\n",
    "方阵$$A=Q\\sum Q^{-1}$$"
   ]
  },
  {
   "cell_type": "markdown",
   "metadata": {},
   "source": [
    "- SVD分解"
   ]
  },
  {
   "cell_type": "markdown",
   "metadata": {},
   "source": [
    "不是方阵$$A=U_{m*m} \\sum_{m*n} V_{n*m}^T$$  \n",
    "$$(A^TA)v_i=\\lambda v_i $$ $$\\sigma_i=\\sqrt{\\lambda_i} $$ $$\\sigma_i=\\sqrt{\\lambda_i}$$"
   ]
  },
  {
   "cell_type": "markdown",
   "metadata": {},
   "source": [
    "### 误差选择"
   ]
  },
  {
   "cell_type": "markdown",
   "metadata": {},
   "source": [
    "**RMSLE**"
   ]
  },
  {
   "cell_type": "markdown",
   "metadata": {},
   "source": [
    "$$\\sqrt{\\frac{1}{n} \\sum_{i=1}^n (\\log(p_i + 1) - \\log(a_i+1))^2 }$$"
   ]
  },
  {
   "cell_type": "markdown",
   "metadata": {},
   "source": [
    "预测值$P_i$和实际值$a_i$都比较大，+1是防止log0，惩罚欠拟合"
   ]
  },
  {
   "cell_type": "markdown",
   "metadata": {},
   "source": [
    "### 机器学习基础"
   ]
  },
  {
   "cell_type": "markdown",
   "metadata": {},
   "source": [
    "#### 模型分类"
   ]
  },
  {
   "cell_type": "markdown",
   "metadata": {},
   "source": [
    "- 条件概率、联合概率、边缘概率"
   ]
  },
  {
   "cell_type": "markdown",
   "metadata": {},
   "source": [
    "边缘概率是对应联合概率的加和，边缘分布概率可以通过联合分布概率求得  \n",
    "条件概率不一样"
   ]
  },
  {
   "cell_type": "markdown",
   "metadata": {},
   "source": [
    "- 判别式模型"
   ]
  },
  {
   "cell_type": "markdown",
   "metadata": {},
   "source": [
    "> **对条件概率进行建模P(x|y)**"
   ]
  },
  {
   "cell_type": "markdown",
   "metadata": {},
   "source": [
    "包括线性回归、决策树、支持向量机、k近邻、神经网络"
   ]
  },
  {
   "cell_type": "markdown",
   "metadata": {},
   "source": [
    "- 判别式模型"
   ]
  },
  {
   "cell_type": "markdown",
   "metadata": {},
   "source": [
    ">**对联合概率P(x,y)进行建模**"
   ]
  },
  {
   "cell_type": "markdown",
   "metadata": {},
   "source": [
    "包括马尔科夫HMM、朴素贝叶斯、高斯混合模型GMM、LDA"
   ]
  },
  {
   "cell_type": "markdown",
   "metadata": {},
   "source": [
    "#### 机器学习流程注意"
   ]
  },
  {
   "cell_type": "markdown",
   "metadata": {},
   "source": [
    "> 收集数据----预处理---提取特征---构建模型---评估模型---部署上线"
   ]
  },
  {
   "cell_type": "markdown",
   "metadata": {},
   "source": [
    "- 部署上线："
   ]
  },
  {
   "cell_type": "markdown",
   "metadata": {},
   "source": [
    "数据分2分：一部份模型数据、一部份留作对比测试  \n",
    "模型数据：分作2份，一份模型，一份预留测试"
   ]
  },
  {
   "cell_type": "markdown",
   "metadata": {},
   "source": [
    "- 异常值  \n",
    "$Q_1$：对应25%； $Q_3$对应75%"
   ]
  },
  {
   "cell_type": "markdown",
   "metadata": {},
   "source": [
    "IQR：$Q_3-Q_1$  \n",
    "$异常值< Q_1 - 1.5*IQR$  \n",
    "$异常值>Q_3 + 1.5*IQR$"
   ]
  },
  {
   "cell_type": "markdown",
   "metadata": {},
   "source": []
  },
  {
   "cell_type": "markdown",
   "metadata": {},
   "source": []
  },
  {
   "cell_type": "markdown",
   "metadata": {},
   "source": []
  },
  {
   "cell_type": "markdown",
   "metadata": {},
   "source": []
  },
  {
   "cell_type": "markdown",
   "metadata": {},
   "source": []
  },
  {
   "cell_type": "markdown",
   "metadata": {},
   "source": []
  },
  {
   "cell_type": "markdown",
   "metadata": {},
   "source": []
  },
  {
   "cell_type": "markdown",
   "metadata": {},
   "source": []
  },
  {
   "cell_type": "markdown",
   "metadata": {},
   "source": []
  },
  {
   "cell_type": "markdown",
   "metadata": {},
   "source": []
  },
  {
   "cell_type": "markdown",
   "metadata": {},
   "source": []
  },
  {
   "cell_type": "markdown",
   "metadata": {},
   "source": []
  },
  {
   "cell_type": "markdown",
   "metadata": {},
   "source": []
  },
  {
   "cell_type": "markdown",
   "metadata": {},
   "source": []
  },
  {
   "cell_type": "markdown",
   "metadata": {},
   "source": []
  },
  {
   "cell_type": "markdown",
   "metadata": {},
   "source": []
  },
  {
   "cell_type": "markdown",
   "metadata": {},
   "source": []
  },
  {
   "cell_type": "markdown",
   "metadata": {},
   "source": []
  },
  {
   "cell_type": "markdown",
   "metadata": {},
   "source": []
  },
  {
   "cell_type": "markdown",
   "metadata": {},
   "source": []
  },
  {
   "cell_type": "markdown",
   "metadata": {},
   "source": []
  },
  {
   "cell_type": "markdown",
   "metadata": {},
   "source": []
  },
  {
   "cell_type": "markdown",
   "metadata": {},
   "source": []
  },
  {
   "cell_type": "markdown",
   "metadata": {},
   "source": []
  },
  {
   "cell_type": "markdown",
   "metadata": {},
   "source": []
  },
  {
   "cell_type": "markdown",
   "metadata": {},
   "source": []
  },
  {
   "cell_type": "markdown",
   "metadata": {},
   "source": []
  },
  {
   "cell_type": "markdown",
   "metadata": {},
   "source": []
  },
  {
   "cell_type": "markdown",
   "metadata": {},
   "source": []
  },
  {
   "cell_type": "markdown",
   "metadata": {},
   "source": []
  },
  {
   "cell_type": "markdown",
   "metadata": {},
   "source": []
  },
  {
   "cell_type": "markdown",
   "metadata": {},
   "source": []
  },
  {
   "cell_type": "markdown",
   "metadata": {},
   "source": []
  },
  {
   "cell_type": "markdown",
   "metadata": {},
   "source": []
  },
  {
   "cell_type": "markdown",
   "metadata": {},
   "source": []
  },
  {
   "cell_type": "markdown",
   "metadata": {},
   "source": []
  },
  {
   "cell_type": "markdown",
   "metadata": {},
   "source": []
  },
  {
   "cell_type": "markdown",
   "metadata": {},
   "source": []
  },
  {
   "cell_type": "markdown",
   "metadata": {},
   "source": []
  },
  {
   "cell_type": "markdown",
   "metadata": {},
   "source": []
  },
  {
   "cell_type": "markdown",
   "metadata": {},
   "source": []
  },
  {
   "cell_type": "markdown",
   "metadata": {},
   "source": []
  },
  {
   "cell_type": "markdown",
   "metadata": {},
   "source": []
  }
 ],
 "metadata": {
  "kernelspec": {
   "display_name": "Python 3",
   "language": "python",
   "name": "python3"
  },
  "language_info": {
   "codemirror_mode": {
    "name": "ipython",
    "version": 3
   },
   "file_extension": ".py",
   "mimetype": "text/x-python",
   "name": "python",
   "nbconvert_exporter": "python",
   "pygments_lexer": "ipython3",
   "version": "3.6.4"
  }
 },
 "nbformat": 4,
 "nbformat_minor": 2
}
