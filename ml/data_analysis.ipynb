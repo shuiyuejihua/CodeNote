{
 "cells": [
  {
   "cell_type": "markdown",
   "metadata": {},
   "source": [
    "# 数据分析\n",
    "- 提出问题\n",
    "- 整理数据\n",
    "- 探索数据分析\n",
    "- 得出结论作出预测\n",
    "- 传达分享结果"
   ]
  },
  {
   "cell_type": "markdown",
   "metadata": {},
   "source": [
    "### 数据收集"
   ]
  },
  {
   "cell_type": "markdown",
   "metadata": {},
   "source": [
    "直接下载、调用api、网页爬取、公司数据库"
   ]
  },
  {
   "cell_type": "markdown",
   "metadata": {},
   "source": [
    "- 数据读取  \n",
    "pd.read_csv('filename',index_col=??,header=??, names=??) "
   ]
  },
  {
   "cell_type": "markdown",
   "metadata": {},
   "source": [
    "index_col=??，可以使用列作为index索引  \n",
    "这个header，指定用索引多少的作为标题  \n",
    "header=None，表示没有标题  \n",
    "names=??，自命名标题名字，如果header=0，那么将完全替换标题，否则标题行仍然会保留"
   ]
  },
  {
   "cell_type": "markdown",
   "metadata": {},
   "source": [
    "- 数据导出  \n",
    "data.to_csv('filename',index=False)"
   ]
  },
  {
   "cell_type": "markdown",
   "metadata": {},
   "source": [
    "index=False，否则为默认添加一列index，从0到n"
   ]
  },
  {
   "cell_type": "markdown",
   "metadata": {},
   "source": [
    "### 分析数据"
   ]
  },
  {
   "cell_type": "markdown",
   "metadata": {},
   "source": [
    "- 描述性分析"
   ]
  },
  {
   "cell_type": "markdown",
   "metadata": {},
   "source": [
    "1. df.head()\n",
    "2. df.shape\n",
    "3. df.dtypes\n",
    "4. type(df\\['diagnosis'\\]\\[0\\])，查看某一项\n",
    "5. df.info()\n",
    "6. df.describe()\n",
    "7. df.tail()，与head想反  \n",
    "8. df.nunique()，不同数值的数量"
   ]
  },
  {
   "cell_type": "markdown",
   "metadata": {},
   "source": [
    "np.percentile(a, [25, 50, 75]) 求分位数"
   ]
  },
  {
   "cell_type": "markdown",
   "metadata": {},
   "source": [
    "**特别**：  \n",
    "df.isnull().any(),查看列缺失值  \n",
    "df\\['col'\\].value_count()查看列的分类，每一类有多少个,value单数"
   ]
  },
  {
   "cell_type": "markdown",
   "metadata": {},
   "source": [
    "- 取值分析"
   ]
  },
  {
   "cell_type": "markdown",
   "metadata": {},
   "source": [
    "1. loc、iloc  \n",
    "loc 使用行标签或列标签选择数据；iloc 使用索引号"
   ]
  },
  {
   "cell_type": "markdown",
   "metadata": {},
   "source": [
    "df.loc[df['name']=='fa','Sex'] = 0"
   ]
  },
  {
   "cell_type": "markdown",
   "metadata": {},
   "source": [
    "### 数据清理"
   ]
  },
  {
   "cell_type": "markdown",
   "metadata": {},
   "source": [
    "- 缺失值  \n",
    "通过df.info()可以看出，也可以使用df.isnull().any()，找出来"
   ]
  },
  {
   "cell_type": "markdown",
   "metadata": {},
   "source": [
    "df\\[col\\].fillna(value,inplace=True)，填充缺失值  \n",
    "df.fillna(df.mean(),inplace=True)"
   ]
  },
  {
   "cell_type": "markdown",
   "metadata": {},
   "source": [
    "- 重复值  \n",
    "\n",
    "通过df.duplicated()，或者sum(df.duplicated())，统计冗余值有多少"
   ]
  },
  {
   "cell_type": "markdown",
   "metadata": {},
   "source": [
    "df.drop_dumplicates(inplace=True)，原地删除冗余值，删除后，其它index顺序不变"
   ]
  },
  {
   "cell_type": "markdown",
   "metadata": {},
   "source": [
    "- 异常值"
   ]
  },
  {
   "cell_type": "markdown",
   "metadata": {},
   "source": [
    "```python\n",
    "Q3, Q1 = np.percentile(data, [25, 75])\n",
    "IQR = Q3 - Q1\n",
    "异常值：\n",
    "Q1 - 1.5IQR\n",
    "Q3 + 1.5IQR\n",
    "```"
   ]
  },
  {
   "cell_type": "markdown",
   "metadata": {},
   "source": [
    "```python\n",
    "up,low = np.percentile(data, [1, 99])\n",
    "data = np.clip(data, up, low)\n",
    "```"
   ]
  },
  {
   "cell_type": "markdown",
   "metadata": {},
   "source": [
    "- 数据类型不对  \n",
    "\n",
    "  \n",
    "修改列名，替换空格  \n",
    "\n",
    "`df_08.rename(columns=lambda x: x.strip().lower().replace(\" \", \"_\"), inplace=True)`   \n",
    "  \n"
   ]
  },
  {
   "cell_type": "markdown",
   "metadata": {},
   "source": [
    "- 转换类型"
   ]
  },
  {
   "cell_type": "markdown",
   "metadata": {},
   "source": [
    "dataframe.astype(),to_numerlic() "
   ]
  },
  {
   "cell_type": "markdown",
   "metadata": {},
   "source": [
    "df\\['col'\\] = pd.to_datetime(df\\['col'\\]) 常见时间类型，read_csv读取出来为字符串，修改后，下次读出来还是字符串，需要注意"
   ]
  },
  {
   "cell_type": "markdown",
   "metadata": {},
   "source": [
    "drop：label,axis=1，指列\n",
    "merge concat join"
   ]
  },
  {
   "cell_type": "markdown",
   "metadata": {},
   "source": [
    "`\n",
    "df['B'].str.extract('(\\d+)').astype(int) \n",
    "`\n",
    "取出字符串中的数字"
   ]
  },
  {
   "cell_type": "markdown",
   "metadata": {},
   "source": [
    "- 清空空格"
   ]
  },
  {
   "cell_type": "markdown",
   "metadata": {},
   "source": [
    "```python\n",
    "train_data['NewName'] = train_data['NewName'].map(str.strip)\n",
    "train_data['NewName'] = train_data['NewName'].str.strip()\n",
    "```"
   ]
  },
  {
   "cell_type": "markdown",
   "metadata": {},
   "source": [
    "- 数据编码  \n",
    "pandas.facorize()  \n",
    "sklearn.preprocessing.LableEncoder()"
   ]
  },
  {
   "cell_type": "markdown",
   "metadata": {},
   "source": [
    "```python\n",
    ">>> labels, uniques = pd.factorize(['b', 'b', 'a', 'c', 'b'])\n",
    ">>> labels\n",
    "array([0, 0, 1, 2, 0])\n",
    ">>> uniques\n",
    "array(['b', 'a', 'c'], dtype=object)\n",
    "```"
   ]
  },
  {
   "cell_type": "code",
   "execution_count": null,
   "metadata": {},
   "outputs": [],
   "source": [
    "df['Title'] = pd.factorize(df.Title)[0] # factorize，返回label，unique数据"
   ]
  },
  {
   "cell_type": "markdown",
   "metadata": {},
   "source": [
    "- 离散化"
   ]
  },
  {
   "cell_type": "code",
   "execution_count": null,
   "metadata": {},
   "outputs": [],
   "source": []
  },
  {
   "cell_type": "markdown",
   "metadata": {},
   "source": [
    "- 取列名"
   ]
  },
  {
   "cell_type": "markdown",
   "metadata": {},
   "source": [
    "df.keys()、df.columns"
   ]
  },
  {
   "cell_type": "markdown",
   "metadata": {},
   "source": [
    "- pandas中真值判断  \n",
    "使用|、&，代替and、or"
   ]
  },
  {
   "cell_type": "markdown",
   "metadata": {},
   "source": [
    "- df.reset_index(drop=True) 防止原来的index又变成新的一列"
   ]
  },
  {
   "cell_type": "markdown",
   "metadata": {},
   "source": [
    "- 数据scale化  \n",
    "\n",
    "特别适合linermodel、KNN、neuralmodel"
   ]
  },
  {
   "cell_type": "markdown",
   "metadata": {},
   "source": [
    "1. 标准化、归一化  \n",
    "2. rank化，scipy.stats.rankdata()，缩放到rank排序，默认从0开始，0、1、2、3...\n",
    "3. log(1+x)\n",
    "4. np.sqrt(2/3 + x)"
   ]
  },
  {
   "cell_type": "markdown",
   "metadata": {},
   "source": [
    "### 可视化\n",
    "绘图出现一些<matplot ....>,可以用分号 ; ，进行屏蔽"
   ]
  },
  {
   "cell_type": "markdown",
   "metadata": {},
   "source": [
    "- dataframe、series是基于matplot封装的，可以直接画图   \n",
    "dataframe.hist(figsize=(8,8));  \n",
    "series.hist()  \n",
    "df['colname'].plot(kind='hist')"
   ]
  },
  {
   "cell_type": "markdown",
   "metadata": {},
   "source": [
    "- 其他  \n",
    "pd.plotting.scatter_matrix(df, figsize=(8,8))  \n",
    "df.plot(x='col1',y='col2',kind='scatter')"
   ]
  },
  {
   "cell_type": "markdown",
   "metadata": {},
   "source": [
    "### 合并数据  \n",
    "1. dataframe，可以直接添加一列，直接使用dataframe['new column'] = new data就行  \n",
    "2. 添加行，用dataframe.append(dataframe)，或者说在dataframe后面再添加一个，使用append，而不是用merge  \n",
    "3. 重命名列名，列名不能单独的df.columns['列'] = ['新列'],可以全部重新赋值，df.columns = new_columns列，也可以df.rename(conlumns={'old':'new'})\n",
    "4. 重建一列，连续数值离散化分类，df['acidity_levels'] = pd.cut(df['pH'], bin_edges, labels=bin_names)"
   ]
  },
  {
   "cell_type": "markdown",
   "metadata": {},
   "source": [
    "np.concatenate()，连接数组\n",
    "np.squeeze()，压缩数组"
   ]
  },
  {
   "cell_type": "markdown",
   "metadata": {},
   "source": [
    "### panda操作"
   ]
  },
  {
   "cell_type": "markdown",
   "metadata": {},
   "source": [
    "- groupby"
   ]
  },
  {
   "cell_type": "markdown",
   "metadata": {},
   "source": [
    "- pd.pivot_table()"
   ]
  },
  {
   "cell_type": "markdown",
   "metadata": {},
   "source": [
    "- pd.crosstab()"
   ]
  },
  {
   "cell_type": "markdown",
   "metadata": {},
   "source": [
    "- query  \n",
    "df.query('alcohol < {}'.format(median))"
   ]
  },
  {
   "cell_type": "markdown",
   "metadata": {},
   "source": [
    "### matplot画图"
   ]
  },
  {
   "cell_type": "markdown",
   "metadata": {},
   "source": [
    "- bar"
   ]
  },
  {
   "cell_type": "markdown",
   "metadata": {},
   "source": [
    "1. bar 功能中有两个必要参数：条柱的 x 坐标和条柱的高度  \n",
    "plt.bar([1, 2, 3], [224, 620, 425]);  \n",
    "2. 为 x 轴指定刻度标签及其标签  \n",
    "plt.xticks([1, 2, 3], ['a', 'b', 'c']);  \n",
    "3. 用 x 轴的刻度标签绘制条柱\n",
    "plt.bar([1, 2, 3], [224, 620, 425], tick_label=['a', 'b', 'c']);"
   ]
  },
  {
   "cell_type": "markdown",
   "metadata": {},
   "source": [
    "## 特征工程\n",
    "\n",
    "目的：创建新特征，使训练模型 simple、effectve"
   ]
  },
  {
   "cell_type": "markdown",
   "metadata": {},
   "source": [
    "方法：  \n",
    "1. 利用先验知识、逻辑知识，对任务的理解，进行构建  \n",
    "2. 数据挖掘，假设检验，构建新特征"
   ]
  },
  {
   "cell_type": "markdown",
   "metadata": {},
   "source": [
    "- 分类频率化，转回归"
   ]
  },
  {
   "cell_type": "markdown",
   "metadata": {},
   "source": [
    "```python\n",
    "encode = data['titanic'].groupby('embarked').size()\n",
    "encode = encode/len(data['titanic'])\n",
    "data['emb'] = data.embarked.map(encode)\n",
    "```"
   ]
  },
  {
   "cell_type": "markdown",
   "metadata": {},
   "source": [
    "- one-hot encoding  \n",
    "对于树模型，会加深树的深度  \n",
    "对线性knn神经网络还是可以的  \n",
    "自带scale"
   ]
  },
  {
   "cell_type": "markdown",
   "metadata": {},
   "source": [
    "```python\n",
    "pandas.get_dummies()\n",
    "sklearn.preprocessing.OneHotEncoder()\n",
    "```"
   ]
  },
  {
   "cell_type": "markdown",
   "metadata": {},
   "source": [
    "    会导致太多0，稀疏矩阵，可以用scipy.sparse.csr_matrix"
   ]
  },
  {
   "cell_type": "markdown",
   "metadata": {},
   "source": [
    "### 时间数据处理"
   ]
  },
  {
   "cell_type": "markdown",
   "metadata": {},
   "source": [
    "1. day/year/moths/season/minutes 等都可以作为特征  \n",
    "2. time since 从上次到现在经历多少天  \n",
    "3. 日期间的差值"
   ]
  },
  {
   "cell_type": "markdown",
   "metadata": {},
   "source": [
    "### 坐标数据"
   ]
  },
  {
   "cell_type": "markdown",
   "metadata": {},
   "source": [
    "### 缺失数据"
   ]
  },
  {
   "cell_type": "markdown",
   "metadata": {},
   "source": [
    "- 隐藏的缺失值"
   ]
  },
  {
   "cell_type": "markdown",
   "metadata": {},
   "source": [
    "1. 除了nan这种，还应注意-1，以及hist图里面，一大堆的mean，显得很高，异常，其实也是缺失值"
   ]
  },
  {
   "cell_type": "markdown",
   "metadata": {},
   "source": [
    "- 如何处理缺失值  "
   ]
  },
  {
   "cell_type": "markdown",
   "metadata": {},
   "source": [
    "1. 用超出固定范围的值填充  \n",
    "2. 用mean、medium填充，有利于线性模型和神经网络，但不利于树模型  \n",
    "3. 构建是否是缺失值的新特征"
   ]
  },
  {
   "cell_type": "markdown",
   "metadata": {},
   "source": [
    "注意：不要早早的填充缺失值，可能影响后期的特征工程。\n",
    "XGBoost可以直接处理缺失值"
   ]
  },
  {
   "cell_type": "markdown",
   "metadata": {},
   "source": [
    "### 文字数据"
   ]
  },
  {
   "cell_type": "markdown",
   "metadata": {},
   "source": [
    "- 词袋模型TFIDF  \n",
    "\n",
    "> sklearn.feature_extraction.text.CountVectorizer  \n",
    "> sklearn.feature_extraction.text.TfidfVectorizer  "
   ]
  },
  {
   "cell_type": "markdown",
   "metadata": {},
   "source": [
    "term frequencey:   \n",
    "```python\n",
    "tf = 1/x.sum(axis=1)[:,None]\n",
    "x= x*tf\n",
    "```\n",
    "inverse documents frequency\n",
    "```python\n",
    "idf = np.log((shape[0])/(x>0).sum(0))\n",
    "x = x*idf\n",
    "```"
   ]
  },
  {
   "cell_type": "markdown",
   "metadata": {},
   "source": [
    "- Ngrams"
   ]
  },
  {
   "cell_type": "markdown",
   "metadata": {},
   "source": []
  },
  {
   "cell_type": "markdown",
   "metadata": {},
   "source": []
  },
  {
   "cell_type": "markdown",
   "metadata": {},
   "source": [
    "### 图片数据"
   ]
  },
  {
   "cell_type": "markdown",
   "metadata": {},
   "source": [
    "## 数据分析流程"
   ]
  },
  {
   "cell_type": "markdown",
   "metadata": {},
   "source": [
    "数据概述  "
   ]
  },
  {
   "cell_type": "markdown",
   "metadata": {},
   "source": [
    "数据特征理解  "
   ]
  },
  {
   "cell_type": "markdown",
   "metadata": {},
   "source": [
    "提问：挺难的"
   ]
  },
  {
   "cell_type": "markdown",
   "metadata": {},
   "source": [
    "评估数据  "
   ]
  },
  {
   "cell_type": "markdown",
   "metadata": {},
   "source": [
    "清理无关列 "
   ]
  },
  {
   "cell_type": "markdown",
   "metadata": {},
   "source": [
    "过滤丢空去重  "
   ]
  },
  {
   "cell_type": "markdown",
   "metadata": {},
   "source": [
    "检查数据类型、修正"
   ]
  },
  {
   "cell_type": "markdown",
   "metadata": {},
   "source": [
    "可视化探索"
   ]
  },
  {
   "cell_type": "markdown",
   "metadata": {},
   "source": [
    "合并数据集"
   ]
  },
  {
   "cell_type": "markdown",
   "metadata": {},
   "source": [
    "m"
   ]
  }
 ],
 "metadata": {
  "kernelspec": {
   "display_name": "Python 3",
   "language": "python",
   "name": "python3"
  },
  "language_info": {
   "codemirror_mode": {
    "name": "ipython",
    "version": 3
   },
   "file_extension": ".py",
   "mimetype": "text/x-python",
   "name": "python",
   "nbconvert_exporter": "python",
   "pygments_lexer": "ipython3",
   "version": "3.6.4"
  }
 },
 "nbformat": 4,
 "nbformat_minor": 2
}
