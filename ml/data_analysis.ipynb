{
 "cells": [
  {
   "cell_type": "markdown",
   "metadata": {},
   "source": [
    "# 数据分析\n",
    "- 提出问题\n",
    "- 整理数据\n",
    "- 探索数据分析\n",
    "- 得出结论作出预测\n",
    "- 传达分享结果"
   ]
  },
  {
   "cell_type": "markdown",
   "metadata": {},
   "source": [
    "### 数据收集"
   ]
  },
  {
   "cell_type": "markdown",
   "metadata": {},
   "source": [
    "直接下载、调用api、网页爬取、公司数据库"
   ]
  },
  {
   "cell_type": "markdown",
   "metadata": {},
   "source": [
    "- 数据读取  \n",
    "pd.read_csv('filename',index_col=??,header=??, names=??) "
   ]
  },
  {
   "cell_type": "markdown",
   "metadata": {},
   "source": [
    "index_col=??，可以使用列作为index索引  \n",
    "这个header，指定用索引多少的作为标题  \n",
    "header=None，表示没有标题  \n",
    "names=??，自命名标题名字，如果header=0，那么将完全替换标题，否则标题行仍然会保留"
   ]
  },
  {
   "cell_type": "markdown",
   "metadata": {},
   "source": [
    "- 数据导出  \n",
    "data.to_csv('filename',index=False)"
   ]
  },
  {
   "cell_type": "markdown",
   "metadata": {},
   "source": [
    "index=False，否则为默认添加一列index，从0到n"
   ]
  },
  {
   "cell_type": "markdown",
   "metadata": {},
   "source": [
    "### 分析数据"
   ]
  },
  {
   "cell_type": "markdown",
   "metadata": {},
   "source": [
    "- 描述性分析"
   ]
  },
  {
   "cell_type": "markdown",
   "metadata": {},
   "source": [
    "1. df.head()\n",
    "2. df.shape\n",
    "3. df.dtypes\n",
    "4. type(df\\['diagnosis'\\]\\[0\\])，查看某一项\n",
    "5. df.info()\n",
    "6. df.describe()\n",
    "7. df.tail()，与head想反  \n",
    "8. df.nunique()，不同数值的数量"
   ]
  },
  {
   "cell_type": "markdown",
   "metadata": {},
   "source": [
    "**特别**：  \n",
    "df.isnull().any(),查看列缺失值  \n",
    "df\\['col'\\].value_count()查看列的分类，每一类有多少个,value单数"
   ]
  },
  {
   "cell_type": "markdown",
   "metadata": {},
   "source": [
    "- 取值分析"
   ]
  },
  {
   "cell_type": "markdown",
   "metadata": {},
   "source": [
    "1. loc、iloc  \n",
    "loc 使用行标签或列标签选择数据；iloc 使用索引号"
   ]
  },
  {
   "cell_type": "markdown",
   "metadata": {},
   "source": [
    "### 数据清理"
   ]
  },
  {
   "cell_type": "markdown",
   "metadata": {},
   "source": [
    "- 缺失值  \n",
    "通过df.info()可以看出，也可以使用df.isnull().any()，找出来"
   ]
  },
  {
   "cell_type": "markdown",
   "metadata": {},
   "source": [
    "df\\[col\\].fillna(value,inplace=True)，填充缺失值  \n",
    "df.fillna(df.mean(),inplace=True)"
   ]
  },
  {
   "cell_type": "markdown",
   "metadata": {},
   "source": [
    "- 重复值  \n",
    "通过df.duplicated()，或者sum(df.duplicated())，统计冗余值有多少"
   ]
  },
  {
   "cell_type": "markdown",
   "metadata": {},
   "source": [
    "df.drop_dumplicates(inplace=True)，原地删除冗余值，删除后，其它index顺序不变"
   ]
  },
  {
   "cell_type": "markdown",
   "metadata": {},
   "source": [
    "- 数据类型不对  \n",
    "常见时间类型，read_csv读取出来为字符串，修改后，下次读出来还是字符串，需要注意  \n",
    "修改列名，替换空格df_08.rename(columns=lambda x: x.strip().lower().replace(\" \", \"_\"), inplace=True)  \n",
    "df['B'].str.extract('(\\d+)').astype(int)，  \n",
    "转换类型，dataframe.astype(),to_numerlic()  "
   ]
  },
  {
   "cell_type": "markdown",
   "metadata": {},
   "source": [
    "df\\['col'\\] = pd.to_datetime(df\\['col'\\])"
   ]
  },
  {
   "cell_type": "markdown",
   "metadata": {},
   "source": [
    "drop：label,axis=1，指列\n",
    "merge concat join"
   ]
  },
  {
   "cell_type": "markdown",
   "metadata": {},
   "source": [
    "### 可视化\n",
    "绘图出现一些<matplot ....>,可以用分号 ; ，进行屏蔽"
   ]
  },
  {
   "cell_type": "markdown",
   "metadata": {},
   "source": [
    "- dataframe、series是基于matplot封装的，可以直接画图   \n",
    "dataframe.hist(figsize=(8,8));  \n",
    "series.hist()  \n",
    "df['colname'].plot(kind='hist')"
   ]
  },
  {
   "cell_type": "markdown",
   "metadata": {},
   "source": [
    "- 其他  \n",
    "pd.plotting.scatter_matrix(df, figsize=(8,8))  \n",
    "df.plot(x='col1',y='col2',kind='scatter')"
   ]
  },
  {
   "cell_type": "markdown",
   "metadata": {},
   "source": [
    "### 合并数据  \n",
    "1. dataframe，可以直接添加一列，直接使用dataframe['new column'] = new data就行  \n",
    "2. 添加行，用dataframe.append(dataframe)，或者说在dataframe后面再添加一个，使用append，而不是用merge  \n",
    "3. 重命名列名，列名不能单独的df.columns['列'] = ['新列'],可以全部重新赋值，df.columns = new_columns列，也可以df.rename(conlumns={'old':'new'})\n",
    "4. 重建一列，连续数值离散化分类，df['acidity_levels'] = pd.cut(df['pH'], bin_edges, labels=bin_names)"
   ]
  },
  {
   "cell_type": "markdown",
   "metadata": {},
   "source": [
    "### panda操作"
   ]
  },
  {
   "cell_type": "markdown",
   "metadata": {},
   "source": [
    "- groupby"
   ]
  },
  {
   "cell_type": "markdown",
   "metadata": {},
   "source": [
    "- query  \n",
    "df.query('alcohol < {}'.format(median))"
   ]
  },
  {
   "cell_type": "markdown",
   "metadata": {},
   "source": [
    "### matplot画图"
   ]
  },
  {
   "cell_type": "markdown",
   "metadata": {},
   "source": [
    "- bar"
   ]
  },
  {
   "cell_type": "markdown",
   "metadata": {},
   "source": [
    "1. bar 功能中有两个必要参数：条柱的 x 坐标和条柱的高度  \n",
    "plt.bar([1, 2, 3], [224, 620, 425]);  \n",
    "2. 为 x 轴指定刻度标签及其标签  \n",
    "plt.xticks([1, 2, 3], ['a', 'b', 'c']);  \n",
    "3. 用 x 轴的刻度标签绘制条柱\n",
    "plt.bar([1, 2, 3], [224, 620, 425], tick_label=['a', 'b', 'c']);"
   ]
  },
  {
   "cell_type": "markdown",
   "metadata": {},
   "source": [
    "## 数据分析流程"
   ]
  },
  {
   "cell_type": "markdown",
   "metadata": {},
   "source": [
    "数据概述  "
   ]
  },
  {
   "cell_type": "markdown",
   "metadata": {},
   "source": [
    "数据特征理解  "
   ]
  },
  {
   "cell_type": "markdown",
   "metadata": {},
   "source": [
    "提问：挺难的"
   ]
  },
  {
   "cell_type": "markdown",
   "metadata": {},
   "source": [
    "评估数据  "
   ]
  },
  {
   "cell_type": "markdown",
   "metadata": {},
   "source": [
    "清理无关列 "
   ]
  },
  {
   "cell_type": "markdown",
   "metadata": {},
   "source": [
    "过滤丢空去重  "
   ]
  },
  {
   "cell_type": "markdown",
   "metadata": {},
   "source": [
    "检查数据类型、修正"
   ]
  },
  {
   "cell_type": "markdown",
   "metadata": {},
   "source": [
    "可视化探索"
   ]
  },
  {
   "cell_type": "markdown",
   "metadata": {},
   "source": [
    "合并数据集"
   ]
  },
  {
   "cell_type": "markdown",
   "metadata": {},
   "source": [
    "m"
   ]
  }
 ],
 "metadata": {
  "kernelspec": {
   "display_name": "Python 3",
   "language": "python",
   "name": "python3"
  },
  "language_info": {
   "codemirror_mode": {
    "name": "ipython",
    "version": 3
   },
   "file_extension": ".py",
   "mimetype": "text/x-python",
   "name": "python",
   "nbconvert_exporter": "python",
   "pygments_lexer": "ipython3",
   "version": "3.6.4"
  }
 },
 "nbformat": 4,
 "nbformat_minor": 2
}
