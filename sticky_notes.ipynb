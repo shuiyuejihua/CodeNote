{
 "cells": [
  {
   "cell_type": "markdown",
   "metadata": {},
   "source": [
    "# Notes\n",
    "记录些常见的，但是没记住的"
   ]
  },
  {
   "cell_type": "markdown",
   "metadata": {},
   "source": [
    "- XOR\n",
    ">异或，二选一；同真、同假都不行，只能二选一时结果为真"
   ]
  },
  {
   "cell_type": "markdown",
   "metadata": {},
   "source": [
    "- jupyter notbook 多选  \n",
    "> 按住shift+j或者shift+k，选择后，再move"
   ]
  },
  {
   "cell_type": "markdown",
   "metadata": {},
   "source": [
    "- 多光标操作  \n",
    "> Alt+鼠标选择"
   ]
  },
  {
   "cell_type": "markdown",
   "metadata": {},
   "source": [
    "- 效率\n",
    "> dfmi['one']['second']比dfmi.loc[:,('one','second')]运行慢，前者运行2次，后者执行一次"
   ]
  },
  {
   "cell_type": "markdown",
   "metadata": {},
   "source": [
    "## Course"
   ]
  },
  {
   "cell_type": "markdown",
   "metadata": {},
   "source": [
    "### 在线计算机与信息技术硕士  \n",
    "6必修课程 https://www.coursera.org/degrees/mcit-penn"
   ]
  },
  {
   "cell_type": "markdown",
   "metadata": {},
   "source": [
    "- Introduction to Software Development"
   ]
  },
  {
   "cell_type": "markdown",
   "metadata": {},
   "source": [
    "CIT 591软件开发简介 本课程介绍了编程和计算机科学的基本概念，包括现代面向对象编程语言的原理：抽象，类型，多态，封装，继承和接口。本课程还侧重于软件开发的最佳实践和方面，如软件设计，软件测试，结对编程，版本控制和使用IDE。"
   ]
  },
  {
   "cell_type": "markdown",
   "metadata": {},
   "source": [
    "-  Mathematical Foundations of Computer Science"
   ]
  },
  {
   "cell_type": "markdown",
   "metadata": {},
   "source": [
    "CIT 592计算机科学数学基础 本课程向学生介绍构成大多数计算机科学骨干的数学概念。涵盖的主题包括集合，函数，置换和组合，离散概率，期望，数学归纳和图论。该课程的目标是确保学生对大多数CIS选修课所需的数学足够舒适。\n"
   ]
  },
  {
   "cell_type": "markdown",
   "metadata": {},
   "source": [
    "- Introduction to Computer Systems"
   ]
  },
  {
   "cell_type": "markdown",
   "metadata": {},
   "source": [
    "CIT 593计算机系统简介 本课程介绍计算机系统和计算机体系结构的基本概念。学生将学习C编程语言和指令集（机器语言），作为理解计算机如何表示数据，处理信息和执行程序的基础。\n"
   ]
  },
  {
   "cell_type": "markdown",
   "metadata": {},
   "source": [
    "-  Data Structures & Software Design"
   ]
  },
  {
   "cell_type": "markdown",
   "metadata": {},
   "source": [
    "CIT 594数据结构和软件设计 本课程重点介绍数据结构，软件设计和高级Java。本课程首先介绍数据结构和算法分析的基础知识。涵盖的重要数据结构包括数组，列表，堆栈，队列，树，哈希映射和图形。本课程还侧重于软件设计和高级Java主题，如软件架构，设计模式，网络，多线程和图形。\n"
   ]
  },
  {
   "cell_type": "markdown",
   "metadata": {},
   "source": [
    "- Computer Systems Programming"
   ]
  },
  {
   "cell_type": "markdown",
   "metadata": {},
   "source": [
    "CIT 595计算机系统编程 本课程是CIT 593的延续，向学生介绍计算系统的基本概念。该课程分为两部分。本课程的前半部分介绍了现代操作系统中的重要概念：进程，调度，缓存和虚拟内存。本课程的后半部分介绍了网络系统，协议和应用程序的设计和实现中的基本概念。该课程将使用C程序语言，并将开发您的C系统调用知识，以及用于进程/线程创建和操作，同步和网络通信的库。\n"
   ]
  },
  {
   "cell_type": "markdown",
   "metadata": {},
   "source": [
    "- Algorithms & Computation"
   ]
  },
  {
   "cell_type": "markdown",
   "metadata": {},
   "source": [
    "CIT 596算法与计算 本课程主要侧重于算法的设计和分析。它从排序和搜索算法开始，然后研究图算法。为了研究图算法，引入了动态规划和贪婪算法等通用算法设计模式。本课程的一部分也致力于理解NP-完整性。"
   ]
  },
  {
   "cell_type": "markdown",
   "metadata": {},
   "source": [
    "- Google IT Support Professional Certificate  \n",
    "https://www.coursera.org/specializations/google-it-support#courses"
   ]
  },
  {
   "cell_type": "markdown",
   "metadata": {},
   "source": [
    "- 数据结构与算法 专项课程  \n",
    "https://www.coursera.org/specializations/data-structures-algorithms"
   ]
  },
  {
   "cell_type": "markdown",
   "metadata": {},
   "source": [
    "## JOBs"
   ]
  },
  {
   "cell_type": "markdown",
   "metadata": {},
   "source": [
    "- 机器学习软件工程师  \n",
    "公司名称 谷歌 所在地区  Beijing, CN"
   ]
  },
  {
   "cell_type": "markdown",
   "metadata": {},
   "source": [
    "Responsibilities  \n",
    "针对大规模的现实问题制定解决方案。  \n",
    "与内部团队合作，将 AI 技术应用于 Google 产品。  \n",
    "参与人工智能和机器学习应用方面的尖端研究。  \n",
    "\n",
    "\n",
    "Qualifications\n",
    "\n",
    "基本要求:  \n",
    "计算机科学或相关技术专业学士学位（或具备同等水平的实践经验）。  \n",
    "在机器学习或人工智能领域拥有 3 年工作经验。  \n",
    "熟练使用一种或多种通用编程语言，包括但不限于：Java、C/C++ 或 Python。  \n",
    "在以下一个或多个领域拥有相关经验：自然语言处理、文本理解、分类、规律识别、推荐系统、定位系统、排名系统或类似领域。  \n",
    "\n",
    "优先条件:  \n",
    "拥有人工智能、计算语言学、语音、机器学习或相关技术领域的硕士或博士学位。  \n",
    "拥有大规模机器学习方面的经验。接触过深度学习、神经网络或相关领域，并且对这些领域具有浓厚的兴趣，渴望从事相关工作。  \n",
    "拥有分析复杂的动态规律的经验。了解算法的复杂性及优化算法的方法。  \n",
    "非常熟悉机器学习平台、解决方案和基础设施。  \n",
    "具备出色的沟通能力，能够与外部客户协同工作。  "
   ]
  },
  {
   "cell_type": "markdown",
   "metadata": {},
   "source": []
  },
  {
   "cell_type": "markdown",
   "metadata": {},
   "source": []
  },
  {
   "cell_type": "markdown",
   "metadata": {},
   "source": []
  },
  {
   "cell_type": "markdown",
   "metadata": {},
   "source": []
  },
  {
   "cell_type": "markdown",
   "metadata": {},
   "source": []
  }
 ],
 "metadata": {
  "kernelspec": {
   "display_name": "Python 3",
   "language": "python",
   "name": "python3"
  },
  "language_info": {
   "codemirror_mode": {
    "name": "ipython",
    "version": 3
   },
   "file_extension": ".py",
   "mimetype": "text/x-python",
   "name": "python",
   "nbconvert_exporter": "python",
   "pygments_lexer": "ipython3",
   "version": "3.6.4"
  }
 },
 "nbformat": 4,
 "nbformat_minor": 2
}
