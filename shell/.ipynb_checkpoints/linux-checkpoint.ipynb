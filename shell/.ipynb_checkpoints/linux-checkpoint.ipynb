{
 "cells": [
  {
   "cell_type": "markdown",
   "metadata": {},
   "source": [
    "# Linux 常用命令"
   ]
  },
  {
   "cell_type": "markdown",
   "metadata": {},
   "source": [
    "查询命令：man；代码自动补全：tab；命令查询网站[explain shell](https://explainshell.com/)"
   ]
  },
  {
   "cell_type": "markdown",
   "metadata": {},
   "source": [
    "## 入门"
   ]
  },
  {
   "cell_type": "markdown",
   "metadata": {},
   "source": [
    "- 遇到符号>，可能是输入了括号，引号等的一半，输入另外一半就能看到提示信息"
   ]
  },
  {
   "cell_type": "markdown",
   "metadata": {},
   "source": [
    "- 可以尝试ctrl+c，也许能看到退出的提示命令  \n",
    "当一直运行不停的时候，可以使用这个命令终止运行"
   ]
  },
  {
   "cell_type": "markdown",
   "metadata": {},
   "source": [
    "- ctrl+D，表示输入完了，文件结束，进行计算"
   ]
  },
  {
   "cell_type": "markdown",
   "metadata": {},
   "source": [
    "- curl+文件地址或者文件路径/  \n",
    "下载文件或者查看文件夹  curl http://udacity.github.io/ud595-shell/stuff.zip -o things.zip"
   ]
  },
  {
   "cell_type": "markdown",
   "metadata": {},
   "source": [
    "- echo 输出"
   ]
  },
  {
   "cell_type": "markdown",
   "metadata": {},
   "source": [
    "- uname 输出系统信息  \n",
    "-a会输出更多信息"
   ]
  },
  {
   "cell_type": "markdown",
   "metadata": {},
   "source": [
    "- expr 2+2 表达式"
   ]
  },
  {
   "cell_type": "markdown",
   "metadata": {},
   "source": [
    "- hostname  \n",
    "输出本机名"
   ]
  },
  {
   "cell_type": "markdown",
   "metadata": {},
   "source": [
    "- host 网站  \n",
    "会输出网站的ip等信息"
   ]
  },
  {
   "cell_type": "markdown",
   "metadata": {},
   "source": [
    "- histrory、ctrl+R  \n",
    "历史命令"
   ]
  },
  {
   "cell_type": "markdown",
   "metadata": {},
   "source": [
    "- bash --version"
   ]
  },
  {
   "cell_type": "markdown",
   "metadata": {},
   "source": [
    "- pwd  \n",
    "当前路径"
   ]
  },
  {
   "cell_type": "markdown",
   "metadata": {},
   "source": [
    "## 文件相关\n",
    "一般蓝色表示文件夹、土红色表示zip"
   ]
  },
  {
   "cell_type": "markdown",
   "metadata": {},
   "source": [
    "- unzip  \n",
    "unzip -d 目录 被解压文件名.zip  \n",
    "unzip -l test.zip 查看test.zip中的文件目录，不解压  "
   ]
  },
  {
   "cell_type": "markdown",
   "metadata": {},
   "source": [
    "- cat查看文件，一般查看小文件，可以cat多个文件"
   ]
  },
  {
   "cell_type": "markdown",
   "metadata": {},
   "source": [
    "- wc\n",
    "查看文件 line words filename"
   ]
  },
  {
   "cell_type": "markdown",
   "metadata": {},
   "source": [
    "- diff 查看改动"
   ]
  },
  {
   "cell_type": "markdown",
   "metadata": {},
   "source": [
    "- **`man 手册命令`**，查看不认识的命令  \n",
    "man ls"
   ]
  },
  {
   "cell_type": "markdown",
   "metadata": {},
   "source": [
    "- ls -l 更多文件信息  \n",
    "文件夹以d开头，显示权限，修改时间，文件大小，文件名"
   ]
  },
  {
   "cell_type": "markdown",
   "metadata": {},
   "source": [
    ">文件名可以包含各种符号除了/之外；在使用特殊字符时候，需要使用''将文件名包括表示引用，或者使用\\，在需要转义的地方：空格、特殊符号等  \n",
    "文件系统只有一个，从root开始，表示目录时候：/开始，如：/var/"
   ]
  },
  {
   "cell_type": "markdown",
   "metadata": {},
   "source": [
    "- cd  \n",
    ".表示自己  ..表示父级目录  \n",
    "cd 无参数，返回主目录，最开始连接进入的目录  \n",
    "cd 文件会报错"
   ]
  },
  {
   "cell_type": "markdown",
   "metadata": {},
   "source": [
    "- mv、cp、mkdir"
   ]
  },
  {
   "cell_type": "markdown",
   "metadata": {},
   "source": [
    "- rm -r  \n",
    "递归删除文件夹"
   ]
  },
  {
   "cell_type": "markdown",
   "metadata": {},
   "source": [
    "- rmdir 删除空文件夹"
   ]
  },
  {
   "cell_type": "markdown",
   "metadata": {},
   "source": [
    "- glob 匹配模式，暂时没找到   \n",
    "\\* anything 任意个  \n",
    "{,} 其中一个就行  \n",
    "? 一个字符  \n",
    "\\[\\] 方括号中的任意一个字符"
   ]
  },
  {
   "cell_type": "markdown",
   "metadata": {},
   "source": []
  },
  {
   "cell_type": "markdown",
   "metadata": {},
   "source": []
  },
  {
   "cell_type": "markdown",
   "metadata": {},
   "source": []
  },
  {
   "cell_type": "markdown",
   "metadata": {},
   "source": []
  },
  {
   "cell_type": "markdown",
   "metadata": {},
   "source": []
  },
  {
   "cell_type": "markdown",
   "metadata": {},
   "source": []
  },
  {
   "cell_type": "markdown",
   "metadata": {},
   "source": []
  },
  {
   "cell_type": "markdown",
   "metadata": {},
   "source": []
  },
  {
   "cell_type": "markdown",
   "metadata": {},
   "source": []
  },
  {
   "cell_type": "markdown",
   "metadata": {},
   "source": [
    "## 系统命令"
   ]
  },
  {
   "cell_type": "markdown",
   "metadata": {},
   "source": [
    "- reboot  \n",
    "系统重启，需要root权限  "
   ]
  },
  {
   "cell_type": "markdown",
   "metadata": {},
   "source": [
    "- df -h  \n",
    "查看磁盘状况"
   ]
  },
  {
   "cell_type": "markdown",
   "metadata": {},
   "source": [
    "- top  \n",
    "查看系统运行，类似window下的任务管理器"
   ]
  },
  {
   "cell_type": "markdown",
   "metadata": {},
   "source": [
    "- yum update -y  \n",
    "更新系统"
   ]
  },
  {
   "cell_type": "markdown",
   "metadata": {},
   "source": [
    "## BBR相关"
   ]
  },
  {
   "cell_type": "markdown",
   "metadata": {},
   "source": [
    "- uname -a  \n",
    "查看当前的kernel"
   ]
  },
  {
   "cell_type": "markdown",
   "metadata": {},
   "source": [
    "- rpm -qa | grep kernel  \n",
    "查看已经安装内核列表"
   ]
  },
  {
   "cell_type": "markdown",
   "metadata": {},
   "source": [
    "- su  \n",
    "切换到root用户,输入密码，密码可以复制粘贴。粘贴的时候，由于密码不可见，直接右键---回车即可"
   ]
  },
  {
   "cell_type": "markdown",
   "metadata": {},
   "source": [
    "- grub2-set-default 0  \n",
    "改变kernel为默认索引0的kernel，一般为最新kernel"
   ]
  },
  {
   "cell_type": "markdown",
   "metadata": {},
   "source": [
    "- 一键安装命令，root权限：  \n",
    "```shell\n",
    "wget –no-check-certificate https://github.com/teddysun/across/raw/master/bbr.sh\n",
    " chmod +x bbr.sh\n",
    " ./bbr.sh\n",
    "```\n",
    "会自动安装最新内核，设置bbr"
   ]
  },
  {
   "cell_type": "markdown",
   "metadata": {},
   "source": [
    "- 查看bbr是否安装成功：  \n",
    "\n",
    "```shell\n",
    "\n",
    "sysctl net.ipv4.tcp_available_congestion_control\n",
    "\n",
    "```\n",
    "\n",
    "    输出：net.ipv4.tcp_available_congestion_control = bbr cubic reno  \n",
    "\n",
    "```shell\n",
    "sysctl -n net.ipv4.tcp_congestion_control\n",
    "```\n",
    "    输出：bbr  \n",
    "\n",
    "```shell\n",
    "lsmod | grep bbr\n",
    "\n",
    "```\n",
    "    输出：tcp_bbr  2408  16\n"
   ]
  },
  {
   "cell_type": "markdown",
   "metadata": {},
   "source": [
    "- 手动安装bbr(待检验)：  \n",
    "\n",
    "```shell\n",
    "\n",
    "echo 'net.core.default_qdisc=fq' | sudo tee -a /etc/sysctl.conf\n",
    "echo 'net.ipv4.tcp_congestion_control=bbr' | sudo tee -a /etc/sysctl.conf\n",
    "sudo sysctl -p\n",
    "\n",
    "```"
   ]
  },
  {
   "cell_type": "markdown",
   "metadata": {},
   "source": []
  },
  {
   "cell_type": "markdown",
   "metadata": {},
   "source": []
  },
  {
   "cell_type": "markdown",
   "metadata": {},
   "source": []
  },
  {
   "cell_type": "markdown",
   "metadata": {},
   "source": []
  },
  {
   "cell_type": "markdown",
   "metadata": {},
   "source": []
  },
  {
   "cell_type": "markdown",
   "metadata": {},
   "source": []
  },
  {
   "cell_type": "markdown",
   "metadata": {},
   "source": []
  },
  {
   "cell_type": "markdown",
   "metadata": {},
   "source": []
  },
  {
   "cell_type": "markdown",
   "metadata": {},
   "source": []
  },
  {
   "cell_type": "markdown",
   "metadata": {},
   "source": []
  },
  {
   "cell_type": "markdown",
   "metadata": {},
   "source": []
  },
  {
   "cell_type": "markdown",
   "metadata": {},
   "source": []
  }
 ],
 "metadata": {
  "kernelspec": {
   "display_name": "Python 3",
   "language": "python",
   "name": "python3"
  },
  "language_info": {
   "codemirror_mode": {
    "name": "ipython",
    "version": 3
   },
   "file_extension": ".py",
   "mimetype": "text/x-python",
   "name": "python",
   "nbconvert_exporter": "python",
   "pygments_lexer": "ipython3",
   "version": "3.6.4"
  }
 },
 "nbformat": 4,
 "nbformat_minor": 2
}
