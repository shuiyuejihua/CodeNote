{
 "cells": [
  {
   "cell_type": "markdown",
   "metadata": {},
   "source": [
    "# Linux 常用命令"
   ]
  },
  {
   "cell_type": "markdown",
   "metadata": {},
   "source": [
    "## 系统命令"
   ]
  },
  {
   "cell_type": "markdown",
   "metadata": {},
   "source": [
    "- reboot  \n",
    "系统重启，需要root权限  "
   ]
  },
  {
   "cell_type": "markdown",
   "metadata": {},
   "source": [
    "- df -h  \n",
    "查看磁盘状况"
   ]
  },
  {
   "cell_type": "markdown",
   "metadata": {},
   "source": [
    "- top  \n",
    "查看系统运行，类似window下的任务管理器"
   ]
  },
  {
   "cell_type": "markdown",
   "metadata": {},
   "source": [
    "- yum update -y  \n",
    "更新系统"
   ]
  },
  {
   "cell_type": "markdown",
   "metadata": {},
   "source": [
    "## BBR相关"
   ]
  },
  {
   "cell_type": "markdown",
   "metadata": {},
   "source": [
    "- uname -a  \n",
    "查看当前的kernel"
   ]
  },
  {
   "cell_type": "markdown",
   "metadata": {},
   "source": [
    "- rpm -qa | grep kernel  \n",
    "查看已经安装内核列表"
   ]
  },
  {
   "cell_type": "markdown",
   "metadata": {},
   "source": [
    "- su  \n",
    "切换到root用户,输入密码，密码可以复制粘贴。粘贴的时候，由于密码不可见，直接右键---回车即可"
   ]
  },
  {
   "cell_type": "markdown",
   "metadata": {},
   "source": [
    "- grub2-set-default 0  \n",
    "改变kernel为默认索引0的kernel，一般为最新kernel"
   ]
  },
  {
   "cell_type": "markdown",
   "metadata": {},
   "source": [
    "- 一键安装命令，root权限：  \n",
    "```shell\n",
    "wget –no-check-certificate https://github.com/teddysun/across/raw/master/bbr.sh\n",
    " chmod +x bbr.sh\n",
    " ./bbr.sh\n",
    "```\n",
    "会自动安装最新内核，设置bbr"
   ]
  },
  {
   "cell_type": "markdown",
   "metadata": {},
   "source": [
    "- 查看bbr是否安装成功：  \n",
    "\n",
    "```shell\n",
    "\n",
    "sysctl net.ipv4.tcp_available_congestion_control\n",
    "\n",
    "```\n",
    "\n",
    "    输出：net.ipv4.tcp_available_congestion_control = bbr cubic reno  \n",
    "\n",
    "```shell\n",
    "sysctl -n net.ipv4.tcp_congestion_control\n",
    "```\n",
    "    输出：bbr  \n",
    "\n",
    "```shell\n",
    "lsmod | grep bbr\n",
    "\n",
    "```\n",
    "    输出：tcp_bbr  2408  16\n"
   ]
  },
  {
   "cell_type": "markdown",
   "metadata": {},
   "source": [
    "- 手动安装bbr(待检验)：  \n",
    "\n",
    "```shell\n",
    "\n",
    "echo 'net.core.default_qdisc=fq' | sudo tee -a /etc/sysctl.conf\n",
    "echo 'net.ipv4.tcp_congestion_control=bbr' | sudo tee -a /etc/sysctl.conf\n",
    "sudo sysctl -p\n",
    "\n",
    "```"
   ]
  },
  {
   "cell_type": "markdown",
   "metadata": {},
   "source": []
  },
  {
   "cell_type": "markdown",
   "metadata": {},
   "source": []
  },
  {
   "cell_type": "markdown",
   "metadata": {},
   "source": []
  },
  {
   "cell_type": "markdown",
   "metadata": {},
   "source": []
  },
  {
   "cell_type": "markdown",
   "metadata": {},
   "source": []
  },
  {
   "cell_type": "markdown",
   "metadata": {},
   "source": []
  },
  {
   "cell_type": "markdown",
   "metadata": {},
   "source": []
  },
  {
   "cell_type": "markdown",
   "metadata": {},
   "source": []
  },
  {
   "cell_type": "markdown",
   "metadata": {},
   "source": []
  },
  {
   "cell_type": "markdown",
   "metadata": {},
   "source": []
  },
  {
   "cell_type": "markdown",
   "metadata": {},
   "source": []
  },
  {
   "cell_type": "markdown",
   "metadata": {},
   "source": []
  }
 ],
 "metadata": {
  "kernelspec": {
   "display_name": "Python 3",
   "language": "python",
   "name": "python3"
  },
  "language_info": {
   "codemirror_mode": {
    "name": "ipython",
    "version": 3
   },
   "file_extension": ".py",
   "mimetype": "text/x-python",
   "name": "python",
   "nbconvert_exporter": "python",
   "pygments_lexer": "ipython3",
   "version": "3.6.4"
  }
 },
 "nbformat": 4,
 "nbformat_minor": 2
}
