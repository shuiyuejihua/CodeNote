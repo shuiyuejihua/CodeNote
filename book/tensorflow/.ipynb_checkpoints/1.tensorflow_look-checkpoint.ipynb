{
 "cells": [
  {
   "cell_type": "markdown",
   "metadata": {},
   "source": [
    "# Tensorflow 入门基础"
   ]
  },
  {
   "cell_type": "markdown",
   "metadata": {},
   "source": [
    "# tensorflow 简介\n",
    "\n",
    "- cntk\n",
    "微软开发深度学习包，成熟度比tensorflow差\n",
    "\n",
    "- cafe\n",
    "当年的老大，没更新；二更也发展不起来了\n",
    "\n",
    "- torch\n",
    "扩展好，某些接口不全面，和lua语言亲\n",
    "\n",
    "- theano\n",
    "可以的\n",
    "\n",
    "- keras\n",
    "知名框架都对其有所支持\n",
    "\n",
    "- 其他，比如MXNet、DeppLearning4j\n",
    "\n",
    "### 总结\n",
    "关注tensorflow、theano、cntk就行"
   ]
  },
  {
   "cell_type": "markdown",
   "metadata": {},
   "source": [
    "## 怎么学\n",
    "\n",
    "- 短期任务\n",
    "直接看例子，扫盲点，套用、\n",
    "\n",
    "- 近期提升一下\n",
    "熟悉主干知识（记住，说出来），熟悉例子及其原理\n",
    "\n",
    "- 一直学下去\n",
    "一步一步学，努力+时间，积累"
   ]
  },
  {
   "cell_type": "markdown",
   "metadata": {},
   "source": [
    "## 搭建环境、\n",
    "- anaconda3、tensorflow、keras也可安装  \n",
    "    一些numpy、scipy、matplotlib、jupyter...常用的都装上吧\n",
    "- gpu版本，要安装cuda、cuDNN  \n",
    "  \n",
    "    nvidia-smi:查看显卡信息  \n",
    "    nvcc -V 查看cuda版本\n"
   ]
  },
  {
   "cell_type": "markdown",
   "metadata": {},
   "source": [
    "# tensorflow 小探"
   ]
  },
  {
   "cell_type": "markdown",
   "metadata": {},
   "source": [
    "### 深度学习方式\n",
    "准备数据、搭建模型、迭代训练、使用模型"
   ]
  },
  {
   "cell_type": "markdown",
   "metadata": {},
   "source": [
    "下面拟合$y=2x$"
   ]
  },
  {
   "cell_type": "markdown",
   "metadata": {},
   "source": [
    "- 准备数据"
   ]
  },
  {
   "cell_type": "code",
   "execution_count": 1,
   "metadata": {},
   "outputs": [
    {
     "name": "stderr",
     "output_type": "stream",
     "text": [
      "E:\\anaconda\\lib\\site-packages\\h5py\\__init__.py:36: FutureWarning: Conversion of the second argument of issubdtype from `float` to `np.floating` is deprecated. In future, it will be treated as `np.float64 == np.dtype(float).type`.\n",
      "  from ._conv import register_converters as _register_converters\n"
     ]
    }
   ],
   "source": [
    "# import tensorflow as tf\n",
    "\n",
    "# 出现小警告，再导入一次就没了"
   ]
  },
  {
   "cell_type": "code",
   "execution_count": 33,
   "metadata": {},
   "outputs": [],
   "source": [
    "import tensorflow as tf\n",
    "import numpy as np\n",
    "import matplotlib.pyplot as plt"
   ]
  },
  {
   "cell_type": "code",
   "execution_count": 34,
   "metadata": {},
   "outputs": [
    {
     "data": {
      "image/png": "[encoded data removed]",
      "text/plain": [
       "<matplotlib.figure.Figure at 0xeb7f2b0>"
      ]
     },
     "metadata": {},
     "output_type": "display_data"
    }
   ],
   "source": [
    "train_X = np.float32(np.linspace(-1,1,100))  # 从-1到1，取100等份\n",
    "train_Y = 2 * train_X + np.random.randn(*train_X.shape) * 0.3  # 加噪声\n",
    "\n",
    "# 画图\n",
    "plt.plot(train_X, train_Y, 'ro', label='Original data')\n",
    "plt.legend()\n",
    "plt.show()"
   ]
  },
  {
   "cell_type": "markdown",
   "metadata": {},
   "source": [
    "- 搭建模型"
   ]
  },
  {
   "cell_type": "code",
   "execution_count": 35,
   "metadata": {},
   "outputs": [],
   "source": [
    "X = tf.placeholder(tf.float32)\n",
    "Y = tf.placeholder(tf.float32)\n",
    "#模型参数\n",
    "W = tf.Variable(tf.random_normal([1]), name='weight')\n",
    "b = tf.Variable(tf.zeros([1]), name='bias')\n",
    "\n",
    "# 前向结构\n",
    "z = tf.multiply(X, W) + b"
   ]
  },
  {
   "cell_type": "code",
   "execution_count": 36,
   "metadata": {},
   "outputs": [],
   "source": [
    "#反向优化\n",
    "cost = tf.reduce_mean(tf.square(Y - z))\n",
    "learning_rate = 0.01\n",
    "# GradientDescnetOptimizer 梯度下降算法\n",
    "optimizer = tf.train.GradientDescentOptimizer(learning_rate).minimize(cost)"
   ]
  },
  {
   "cell_type": "markdown",
   "metadata": {},
   "source": [
    "- 训练模型"
   ]
  },
  {
   "cell_type": "code",
   "execution_count": 37,
   "metadata": {},
   "outputs": [
    {
     "name": "stdout",
     "output_type": "stream",
     "text": [
      "epoch: 1 cost= 1.2890445 W= [0.33150923] b= [0.490304]\n",
      "epoch: 3 cost= 0.18006721 W= [1.5493684] b= [0.16434601]\n",
      "epoch: 5 cost= 0.08516287 W= [1.8796504] b= [0.03998125]\n",
      "epoch: 7 cost= 0.077700645 W= [1.9653102] b= [0.0071498]\n",
      "epoch: 9 cost= 0.07693377 W= [1.9874628] b= [-0.00135049]\n",
      "epoch: 11 cost= 0.07681329 W= [1.993191] b= [-0.00354869]\n",
      "epoch: 13 cost= 0.07678734 W= [1.9946727] b= [-0.00411714]\n",
      "epoch: 15 cost= 0.07678097 W= [1.9950559] b= [-0.0042643]\n",
      "epoch: 17 cost= 0.07677935 W= [1.995155] b= [-0.0043023]\n",
      "epoch: 19 cost= 0.076778926 W= [1.9951805] b= [-0.0043121]\n",
      "finished!\n",
      "cost= 0.07677886 W= [1.9951848] b= [-0.00431372]\n"
     ]
    }
   ],
   "source": [
    "# 初始化变量\n",
    "init = tf.initialize_all_variables()\n",
    "\n",
    "# 定义参数\n",
    "training_epochs = 20\n",
    "display_step = 2\n",
    "\n",
    "# 打开session\n",
    "with tf.Session() as sess:\n",
    "    sess.run(init)\n",
    "    plotdata = {'batchsize':[],'loss':[]}\n",
    "    \n",
    "    #训练\n",
    "    for epoch in range(training_epochs):\n",
    "        for x, y in zip (train_X, train_Y):\n",
    "            sess.run(optimizer, feed_dict={X: x, Y: y})\n",
    "            \n",
    "        # 显示训练信息\n",
    "        if epoch%display_step == 0:\n",
    "            loss = sess.run(cost, feed_dict={X:train_X, Y:train_Y})\n",
    "            print('epoch:',epoch+1, 'cost=', loss, 'W=', sess.run(W), 'b=',sess.run(b))\n",
    "            if not (loss == 'NA'):\n",
    "                plotdata[\"batchsize\"].append(epoch)\n",
    "                plotdata[\"loss\"].append(loss)\n",
    "    print('finished!')\n",
    "    print(\"cost=\",sess.run(cost,feed_dict={X:train_X, Y:train_Y}),'W=',sess.run(W),'b=',sess.run(b))"
   ]
  },
  {
   "cell_type": "code",
   "execution_count": null,
   "metadata": {},
   "outputs": [],
   "source": []
  }
 ],
 "metadata": {
  "kernelspec": {
   "display_name": "Python 3",
   "language": "python",
   "name": "python3"
  },
  "language_info": {
   "codemirror_mode": {
    "name": "ipython",
    "version": 3
   },
   "file_extension": ".py",
   "mimetype": "text/x-python",
   "name": "python",
   "nbconvert_exporter": "python",
   "pygments_lexer": "ipython3",
   "version": "3.6.4"
  }
 },
 "nbformat": 4,
 "nbformat_minor": 2
}
