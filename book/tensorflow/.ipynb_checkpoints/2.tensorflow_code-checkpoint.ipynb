{
 "cells": [
  {
   "cell_type": "markdown",
   "metadata": {},
   "source": [
    "# TensorFlow 编程基础"
   ]
  },
  {
   "cell_type": "markdown",
   "metadata": {},
   "source": [
    "## 运行原理\n",
    "\n",
    "运行原理包括：**定义**----**运行**"
   ]
  },
  {
   "cell_type": "markdown",
   "metadata": {},
   "source": [
    "- 定义  \n",
    "tensor：张量，多维数组  \n",
    "Variable：变量，对模型中的参数进行定义  \n",
    "placeholder：占位符，定义tensor参数类型  \n",
    "operation(OP)：节点操作"
   ]
  },
  {
   "cell_type": "markdown",
   "metadata": {},
   "source": [
    "图：计算任务，session启动图，feed，传入数据；fetch，取出数据得到结果"
   ]
  },
  {
   "cell_type": "markdown",
   "metadata": {},
   "source": [
    "### code实例"
   ]
  },
  {
   "cell_type": "code",
   "execution_count": 1,
   "metadata": {},
   "outputs": [
    {
     "name": "stderr",
     "output_type": "stream",
     "text": [
      "E:\\anaconda\\lib\\site-packages\\h5py\\__init__.py:36: FutureWarning: Conversion of the second argument of issubdtype from `float` to `np.floating` is deprecated. In future, it will be treated as `np.float64 == np.dtype(float).type`.\n",
      "  from ._conv import register_converters as _register_converters\n"
     ]
    }
   ],
   "source": [
    "import tensorflow as tf"
   ]
  },
  {
   "cell_type": "markdown",
   "metadata": {},
   "source": [
    "- the Session or sess  \n",
    "sess.run(fetches, feed_dict=None, options=None, run_metadata=None)"
   ]
  },
  {
   "cell_type": "code",
   "execution_count": 3,
   "metadata": {},
   "outputs": [
    {
     "name": "stdout",
     "output_type": "stream",
     "text": [
      "b'hello, the world'\n"
     ]
    }
   ],
   "source": [
    "hello = tf.constant('hello, the world')\n",
    "sess = tf.Session()\n",
    "print(sess.run(hello))\n",
    "sess.close()"
   ]
  },
  {
   "cell_type": "code",
   "execution_count": 4,
   "metadata": {},
   "outputs": [
    {
     "name": "stdout",
     "output_type": "stream",
     "text": [
      "7\n"
     ]
    }
   ],
   "source": [
    "a = tf.constant(3)\n",
    "b = tf.constant(4)\n",
    "with tf.Session() as sess:\n",
    "    res = sess.run(a+b)\n",
    "print(res)"
   ]
  },
  {
   "cell_type": "markdown",
   "metadata": {},
   "source": [
    "- feed"
   ]
  },
  {
   "cell_type": "code",
   "execution_count": 10,
   "metadata": {},
   "outputs": [
    {
     "name": "stdout",
     "output_type": "stream",
     "text": [
      "7\n"
     ]
    }
   ],
   "source": [
    "x = tf.placeholder(tf.int16)\n",
    "y = tf.placeholder(tf.int16)\n",
    "\n",
    "with tf.Session() as sess:\n",
    "    res = sess.run(x+y, feed_dict={x:3, y:4})\n",
    "    print(res)"
   ]
  },
  {
   "cell_type": "markdown",
   "metadata": {},
   "source": [
    "- 指定GPU  \n",
    "①with tf.device('/gpu:0')  \n",
    "②config = tf.ConfigProto(log_device_placement=True, allow_soft_placement=True)"
   ]
  },
  {
   "cell_type": "code",
   "execution_count": 16,
   "metadata": {},
   "outputs": [
    {
     "name": "stdout",
     "output_type": "stream",
     "text": [
      "6\n"
     ]
    }
   ],
   "source": [
    "with tf.Session() as sess:\n",
    "    with tf.device(\"/cpu:0\"):  # \"/gpu:0\"\n",
    "        res = sess.run(x*y, feed_dict={x:2, y:3})\n",
    "        print(res)\n"
   ]
  },
  {
   "cell_type": "markdown",
   "metadata": {},
   "source": [
    "- 重置清空placeholder"
   ]
  },
  {
   "cell_type": "code",
   "execution_count": 13,
   "metadata": {},
   "outputs": [],
   "source": [
    "tf.reset_default_graph()"
   ]
  },
  {
   "cell_type": "markdown",
   "metadata": {},
   "source": [
    "- 保存和载入模型"
   ]
  },
  {
   "cell_type": "code",
   "execution_count": 5,
   "metadata": {},
   "outputs": [],
   "source": [
    "#saver = tf.train.Saver()\n",
    "\n",
    "# 训练完成后\n",
    "# saver.save(sess, \"save_path/file_name\")\n",
    "\n",
    "# 载入模型\n",
    "# saver.restore(sess, \"save_path/file_name\")"
   ]
  },
  {
   "cell_type": "markdown",
   "metadata": {},
   "source": [
    "### 添加 Checkpoint"
   ]
  },
  {
   "cell_type": "code",
   "execution_count": 45,
   "metadata": {},
   "outputs": [],
   "source": [
    "import tensorflow as tf\n",
    "import numpy as np\n",
    "import matplotlib.pyplot as plt"
   ]
  },
  {
   "cell_type": "code",
   "execution_count": 59,
   "metadata": {},
   "outputs": [],
   "source": [
    "plotdata = {'batchsize':[], 'loss':[]}\n",
    "\n",
    "def moving_average(a, w=10):\n",
    "    if len(a) < w:\n",
    "        return a[:]\n",
    "    return [val if idx < w else sum(a[(idx-w):idx]) / w for idx,val in enumerate(a)]"
   ]
  },
  {
   "cell_type": "code",
   "execution_count": 47,
   "metadata": {},
   "outputs": [],
   "source": [
    "train_X = np.linspace(-1,1,100)\n",
    "train_Y = 2 * train_X + np.random.randn(*train_X.shape) * 0.3"
   ]
  },
  {
   "cell_type": "code",
   "execution_count": 48,
   "metadata": {},
   "outputs": [
    {
     "data": {
      "image/png": "[encoded data removed]",
      "text/plain": [
       "<matplotlib.figure.Figure at 0x10c138d0>"
      ]
     },
     "metadata": {},
     "output_type": "display_data"
    }
   ],
   "source": [
    "plt.plot(train_X, train_Y, 'bo', label='Original Data')\n",
    "plt.legend()\n",
    "plt.show()"
   ]
  },
  {
   "cell_type": "code",
   "execution_count": 49,
   "metadata": {},
   "outputs": [],
   "source": [
    "tf.reset_default_graph()"
   ]
  },
  {
   "cell_type": "code",
   "execution_count": 50,
   "metadata": {},
   "outputs": [],
   "source": [
    "X = tf.placeholder('float')\n",
    "Y = tf.placeholder('float')"
   ]
  },
  {
   "cell_type": "code",
   "execution_count": 51,
   "metadata": {},
   "outputs": [],
   "source": [
    "W = tf.Variable(tf.random_normal([1]), name='weight')\n",
    "b = tf.Variable(tf.zeros([1]), name='bias')"
   ]
  },
  {
   "cell_type": "code",
   "execution_count": 52,
   "metadata": {},
   "outputs": [],
   "source": [
    "z = tf.multiply(X, W) + b"
   ]
  },
  {
   "cell_type": "markdown",
   "metadata": {},
   "source": [
    "- 显示模型函数"
   ]
  },
  {
   "cell_type": "code",
   "execution_count": 53,
   "metadata": {},
   "outputs": [],
   "source": [
    "def plot_grah():\n",
    "    plt.plot(train_X, train_Y, 'ro', label='Original Data')\n",
    "    plt.plot(train_X, sess.run(W) * train_X + sess.run(b), label='Fitted W Line')\n",
    "    plt.legend()\n",
    "    plt.show()\n",
    "    \n",
    "    plotdata['avgloss'] = moving_average(plotdata['loss'])\n",
    "    plt.figure(1)\n",
    "    plt.subplot(211)\n",
    "    plt.plot(plotdata['batchsize'], plotdata['avgloss'], 'b--')\n",
    "    plt.xlabel('minibatch number')\n",
    "    plt.ylabel('loss')\n",
    "    plt.title('minibatch vs training loss')\n",
    "    plt.show()"
   ]
  },
  {
   "cell_type": "code",
   "execution_count": 54,
   "metadata": {},
   "outputs": [],
   "source": [
    "cost = tf.reduce_mean(tf.square(Y-z))\n",
    "learning_rate = 0.01\n",
    "optimizer = tf.train.GradientDescentOptimizer(learning_rate).minimize(cost)"
   ]
  },
  {
   "cell_type": "markdown",
   "metadata": {},
   "source": [
    "- 模型设置和训练"
   ]
  },
  {
   "cell_type": "code",
   "execution_count": 55,
   "metadata": {},
   "outputs": [],
   "source": [
    "init = tf.global_variables_initializer()\n",
    "training_epochs = 20\n",
    "display_step = 2\n",
    "saver = tf.train.Saver(max_to_keep=1)\n",
    "savedir = './log/'"
   ]
  },
  {
   "cell_type": "code",
   "execution_count": 60,
   "metadata": {},
   "outputs": [
    {
     "name": "stdout",
     "output_type": "stream",
     "text": [
      "Epoch: 0 cost= 0.42553994 w= [1.0790081] b= [0.23924102]\n",
      "Epoch: 2 cost= 0.13279781 w= [1.7031491] b= [0.07064321]\n",
      "Epoch: 4 cost= 0.10778012 w= [1.8722472] b= [0.00694597]\n",
      "Epoch: 6 cost= 0.10579005 w= [1.9161005] b= [-0.0098624]\n",
      "Epoch: 8 cost= 0.1055802 w= [1.9274417] b= [-0.01421426]\n",
      "Epoch: 10 cost= 0.10554635 w= [1.9303739] b= [-0.01533941]\n",
      "Epoch: 12 cost= 0.10553897 w= [1.9311322] b= [-0.01563042]\n",
      "Epoch: 14 cost= 0.10553713 w= [1.9313285] b= [-0.01570578]\n",
      "Epoch: 16 cost= 0.10553667 w= [1.9313794] b= [-0.01572527]\n",
      "Epoch: 18 cost= 0.10553656 w= [1.9313924] b= [-0.01573028]\n",
      "finished\n",
      "cost= 0.105536535 W= [1.9313947] b= [-0.01573112]\n"
     ]
    },
    {
     "data": {
      "image/png": "[encoded data removed]",
      "text/plain": [
       "<matplotlib.figure.Figure at 0x112a6dd8>"
      ]
     },
     "metadata": {},
     "output_type": "display_data"
    },
    {
     "data": {
      "image/png": "[encoded data removed]",
      "text/plain": [
       "<matplotlib.figure.Figure at 0x10ed7208>"
      ]
     },
     "metadata": {},
     "output_type": "display_data"
    }
   ],
   "source": [
    "with tf.Session() as sess:\n",
    "    # 先run init\n",
    "    sess.run(init)\n",
    "    \n",
    "    # 导入参数\n",
    "    for epoch in range(training_epochs):\n",
    "        for x,y in zip(train_X, train_Y):\n",
    "            sess.run(optimizer, feed_dict={X:x, Y:y})\n",
    "            \n",
    "        # 输出训练信息\n",
    "        if epoch % display_step == 0:\n",
    "            loss = sess.run(cost, feed_dict={X:train_X, Y:train_Y})\n",
    "            print('Epoch:',epoch,'cost=',loss,'w=',sess.run(W),'b=',sess.run(b))\n",
    "            if loss != 'NA':\n",
    "                plotdata['batchsize'].append(epoch)\n",
    "                plotdata['loss'].append(loss)\n",
    "            saver.save(sess, savedir+'linermodel.cpkt', global_step=epoch)\n",
    "    print('finished')\n",
    "    print('cost=',sess.run(cost, feed_dict={X:train_X, Y:train_Y}),'W=',sess.run(W),'b=',sess.run(b))\n",
    "    \n",
    "    # 显示模型\n",
    "    plot_grah()"
   ]
  },
  {
   "cell_type": "markdown",
   "metadata": {},
   "source": [
    "- 重启session，载入检查点"
   ]
  },
  {
   "cell_type": "code",
   "execution_count": 61,
   "metadata": {},
   "outputs": [
    {
     "name": "stdout",
     "output_type": "stream",
     "text": [
      "INFO:tensorflow:Restoring parameters from ./log/linermodel.cpkt-18\n",
      "x=0.2,z= [0.3705482]\n"
     ]
    }
   ],
   "source": [
    "load_epoch = 18\n",
    "with tf.Session() as sess2:\n",
    "    sess2.run(tf.global_variables_initializer())\n",
    "    saver.restore(sess2, savedir+'linermodel.cpkt-' + str(load_epoch))\n",
    "    print('x=0.2,z=',sess2.run(z,feed_dict={X:0.2}))"
   ]
  },
  {
   "cell_type": "code",
   "execution_count": null,
   "metadata": {},
   "outputs": [],
   "source": []
  },
  {
   "cell_type": "code",
   "execution_count": null,
   "metadata": {},
   "outputs": [],
   "source": []
  }
 ],
 "metadata": {
  "kernelspec": {
   "display_name": "Python 3",
   "language": "python",
   "name": "python3"
  },
  "language_info": {
   "codemirror_mode": {
    "name": "ipython",
    "version": 3
   },
   "file_extension": ".py",
   "mimetype": "text/x-python",
   "name": "python",
   "nbconvert_exporter": "python",
   "pygments_lexer": "ipython3",
   "version": "3.6.4"
  }
 },
 "nbformat": 4,
 "nbformat_minor": 2
}
