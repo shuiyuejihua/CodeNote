{
 "cells": [
  {
   "cell_type": "markdown",
   "metadata": {},
   "source": [
    "# 程序设计思想\n",
    "\n",
    "核心：计算与计算思维"
   ]
  },
  {
   "cell_type": "markdown",
   "metadata": {},
   "source": [
    "## 1、计算与计算思维\n",
    "\n",
    "计算机算力都一样，一台计算机能解决的问题，另外一台计算机也能解决"
   ]
  },
  {
   "cell_type": "markdown",
   "metadata": {},
   "source": [
    "### 计算"
   ]
  },
  {
   "cell_type": "markdown",
   "metadata": {},
   "source": [
    "- 程序"
   ]
  },
  {
   "cell_type": "markdown",
   "metadata": {},
   "source": [
    "指令序列，指令集：cpu上已经写好的"
   ]
  },
  {
   "cell_type": "markdown",
   "metadata": {},
   "source": [
    "- 程序设计"
   ]
  },
  {
   "cell_type": "markdown",
   "metadata": {},
   "source": [
    "问题的解决方法转换成指令"
   ]
  },
  {
   "cell_type": "markdown",
   "metadata": {},
   "source": [
    "- 程序语言"
   ]
  },
  {
   "cell_type": "markdown",
   "metadata": {},
   "source": [
    "机器语言、汇编语言，难学，因硬件不同语言也不同，而无法通用。汇编器：翻译下语言给电脑"
   ]
  },
  {
   "cell_type": "markdown",
   "metadata": {},
   "source": [
    "高级语言：自然语言英语+数学。翻译分为：编译、解释。编译器、解释器也是程序  \n",
    "编译：完整翻译为机器语言，以后不再需要编译，一次性的  \n",
    "解释：翻译一句就执行一句，无法通过上下文进行优化，更加灵活"
   ]
  },
  {
   "cell_type": "markdown",
   "metadata": {},
   "source": [
    "- 算法  \n",
    "> 一系列可行的步骤"
   ]
  },
  {
   "cell_type": "markdown",
   "metadata": {},
   "source": [
    "1. 找出解决问题的方法  \n",
    "2. 表达成一系列可行的步骤  \n",
    "3. 编程语言去实现"
   ]
  },
  {
   "cell_type": "markdown",
   "metadata": {},
   "source": [
    "- 实现  \n",
    "> 宏观上把握问题的求解逻辑，编码实现比较机械，需要严谨细致"
   ]
  },
  {
   "cell_type": "markdown",
   "metadata": {},
   "source": [
    "### 思维\n",
    "\n",
    ">基本思考原则是：既要充分利用计算机的计算和存储能力， 又不能超出计算机的能力范围"
   ]
  },
  {
   "cell_type": "markdown",
   "metadata": {},
   "source": [
    "> 模块化（勾芡）、回溯（往回走）、查找、缓冲、并发（烧水时配菜）、"
   ]
  },
  {
   "cell_type": "markdown",
   "metadata": {},
   "source": [
    "### 编程范型"
   ]
  },
  {
   "cell_type": "markdown",
   "metadata": {},
   "source": [
    ">过程式、面向对象式、函数式"
   ]
  },
  {
   "cell_type": "markdown",
   "metadata": {},
   "source": [
    "## 2、程序开发过程"
   ]
  },
  {
   "cell_type": "markdown",
   "metadata": {},
   "source": [
    "SDLC:软件开发周期：\n",
    ">分析当前系统、定义新系统需求、设计新系统、开发新系统、实现新系统、评估新系统"
   ]
  },
  {
   "cell_type": "markdown",
   "metadata": {},
   "source": [
    "开发新系统：\n",
    "> 程序开发周期：  \n",
    "> 明确问题是什么、制定程序做什么、设计怎么做、编程实现、测试排错、维护程序"
   ]
  },
  {
   "cell_type": "markdown",
   "metadata": {},
   "source": [
    "程序设计：\n",
    "> 程序流程图、伪代码"
   ]
  },
  {
   "cell_type": "markdown",
   "metadata": {},
   "source": [
    "## 3、程序设计技术"
   ]
  },
  {
   "cell_type": "markdown",
   "metadata": {},
   "source": [
    "### 自顶向下设计"
   ]
  },
  {
   "cell_type": "markdown",
   "metadata": {},
   "source": [
    "大框架》》分成小框架，问题分解成子问题"
   ]
  },
  {
   "cell_type": "markdown",
   "metadata": {},
   "source": []
  },
  {
   "cell_type": "markdown",
   "metadata": {},
   "source": []
  },
  {
   "cell_type": "markdown",
   "metadata": {},
   "source": []
  },
  {
   "cell_type": "markdown",
   "metadata": {},
   "source": []
  },
  {
   "cell_type": "markdown",
   "metadata": {},
   "source": []
  },
  {
   "cell_type": "markdown",
   "metadata": {},
   "source": []
  },
  {
   "cell_type": "markdown",
   "metadata": {},
   "source": []
  }
 ],
 "metadata": {
  "kernelspec": {
   "display_name": "Python 3",
   "language": "python",
   "name": "python3"
  },
  "language_info": {
   "codemirror_mode": {
    "name": "ipython",
    "version": 3
   },
   "file_extension": ".py",
   "mimetype": "text/x-python",
   "name": "python",
   "nbconvert_exporter": "python",
   "pygments_lexer": "ipython3",
   "version": "3.6.4"
  }
 },
 "nbformat": 4,
 "nbformat_minor": 2
}
